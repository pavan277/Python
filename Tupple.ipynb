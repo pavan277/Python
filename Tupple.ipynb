{
 "cells": [
  {
   "cell_type": "code",
   "execution_count": 6,
   "id": "562d5f4d-1806-4c2c-9a07-218e763a0e7c",
   "metadata": {},
   "outputs": [
    {
     "name": "stdout",
     "output_type": "stream",
     "text": [
      "<class 'tuple'>\n"
     ]
    },
    {
     "data": {
      "text/plain": [
       "(19, 10, 'pavan', 10, 19, True)"
      ]
     },
     "execution_count": 6,
     "metadata": {},
     "output_type": "execute_result"
    }
   ],
   "source": [
    "t = (19,10,'pavan',10,19,True)\n",
    "print(type(t))\n",
    "t"
   ]
  },
  {
   "cell_type": "code",
   "execution_count": 11,
   "id": "e646f79f-366f-4c9d-86dc-ef450083e3c1",
   "metadata": {},
   "outputs": [
    {
     "data": {
      "text/plain": [
       "'pavan'"
      ]
     },
     "execution_count": 11,
     "metadata": {},
     "output_type": "execute_result"
    }
   ],
   "source": [
    "t[2]"
   ]
  },
  {
   "cell_type": "code",
   "execution_count": 49,
   "id": "4ef7a155-487c-4a5f-9727-50a48241225c",
   "metadata": {},
   "outputs": [
    {
     "data": {
      "text/plain": [
       "3"
      ]
     },
     "execution_count": 49,
     "metadata": {},
     "output_type": "execute_result"
    }
   ],
   "source": [
    "t1 = (10,20,30)\n",
    "t2 = (30,20,82,89)\n",
    "t1+t2\n",
    "t1*3\n",
    "min(t1)\n",
    "max(t1)\n",
    "len(t1)"
   ]
  },
  {
   "cell_type": "code",
   "execution_count": 43,
   "id": "f41eace1-7be3-482a-87cf-18a5dd89f788",
   "metadata": {},
   "outputs": [
    {
     "name": "stdout",
     "output_type": "stream",
     "text": [
      "<class 'tuple'>\n",
      "2177399690704\n",
      "[20, 30, 82, 89]\n",
      "<class 'list'>\n",
      "140731443014856\n"
     ]
    }
   ],
   "source": [
    "t2\n",
    "sorted(t2)\n",
    "print(type(t2))\n",
    "print(id(t2))\n",
    "print(sorted(t2))\n",
    "s= print(type(sorted(t2))) \n",
    "print(id(s))\n",
    "\n"
   ]
  },
  {
   "cell_type": "markdown",
   "id": "26af4053-d429-4d35-a0c5-6a397043d2a0",
   "metadata": {},
   "source": [
    "print(min(t1))\n"
   ]
  },
  {
   "cell_type": "code",
   "execution_count": 50,
   "id": "80dea22e-6916-4417-b396-4ecccff912f3",
   "metadata": {},
   "outputs": [
    {
     "data": {
      "text/plain": [
       "(19, 10, 'pavan', 10, 19, True)"
      ]
     },
     "execution_count": 50,
     "metadata": {},
     "output_type": "execute_result"
    }
   ],
   "source": [
    "t"
   ]
  },
  {
   "cell_type": "code",
   "execution_count": 58,
   "id": "8d1ebe8e-270a-4363-9c00-a9610e59dda3",
   "metadata": {},
   "outputs": [
    {
     "data": {
      "text/plain": [
       "[3, 3, 10, 40, 88]"
      ]
     },
     "execution_count": 58,
     "metadata": {},
     "output_type": "execute_result"
    }
   ],
   "source": [
    "sorted(ts)"
   ]
  },
  {
   "cell_type": "code",
   "execution_count": 52,
   "id": "9598e163-e06f-4596-accc-a444b014d25d",
   "metadata": {},
   "outputs": [],
   "source": [
    "ts = (10,40,3,3,88,)"
   ]
  },
  {
   "cell_type": "code",
   "execution_count": 56,
   "id": "0216ae44-23f4-494c-b6b2-3ca76db8ab2d",
   "metadata": {},
   "outputs": [
    {
     "data": {
      "text/plain": [
       "[88, 40, 10, 3, 3]"
      ]
     },
     "execution_count": 56,
     "metadata": {},
     "output_type": "execute_result"
    }
   ],
   "source": [
    "ts\n",
    "sorted(ts, reverse=True)"
   ]
  },
  {
   "cell_type": "code",
   "execution_count": 73,
   "id": "c9f21df8-0cfd-4783-8583-5c40571d11bb",
   "metadata": {},
   "outputs": [
    {
     "name": "stdout",
     "output_type": "stream",
     "text": [
      "(10, 20, 30, 40)\n",
      "a= 10 b= 20 c= 30 d= 40\n",
      "10\n",
      "40\n",
      "3\n",
      "3\n",
      "88\n",
      "<class 'tuple'>\n"
     ]
    }
   ],
   "source": [
    "# tuple packing and unpacking\n",
    "a =10\n",
    "b = 30\n",
    "c = 55\n",
    "d = 90\n",
    "tp = a,b,c,d \n",
    "#print(tp)\n",
    "\n",
    "#unpacking\n",
    "ta=(10,20,30,40)\n",
    "a,b,c,d=ta\n",
    "print(ta)\n",
    "print(\"a=\",a,\"b=\",b,\"c=\",c,\"d=\",d)\n",
    "\n",
    "ts\n",
    "for i in ts :\n",
    "    print(i)\n",
    "\n",
    "print(type(ts))\n",
    "\n"
   ]
  },
  {
   "cell_type": "code",
   "execution_count": null,
   "id": "50abca32-daf5-40c3-b17e-526e3f75e2fd",
   "metadata": {},
   "outputs": [],
   "source": [
    "#@Tuple Comprehension: not supported by python because it getting generator object"
   ]
  }
 ],
 "metadata": {
  "kernelspec": {
   "display_name": "Python 3 (ipykernel)",
   "language": "python",
   "name": "python3"
  },
  "language_info": {
   "codemirror_mode": {
    "name": "ipython",
    "version": 3
   },
   "file_extension": ".py",
   "mimetype": "text/x-python",
   "name": "python",
   "nbconvert_exporter": "python",
   "pygments_lexer": "ipython3",
   "version": "3.11.5"
  }
 },
 "nbformat": 4,
 "nbformat_minor": 5
}
