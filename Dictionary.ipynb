{
 "cells": [
  {
   "cell_type": "code",
   "execution_count": 9,
   "id": "4bff4455-1d66-4b16-8dad-c0e6458a94ae",
   "metadata": {},
   "outputs": [
    {
     "name": "stdout",
     "output_type": "stream",
     "text": [
      "<class 'dict'>\n"
     ]
    },
    {
     "data": {
      "text/plain": [
       "{'name': 'pavan', 'age': 28}"
      ]
     },
     "execution_count": 9,
     "metadata": {},
     "output_type": "execute_result"
    }
   ],
   "source": [
    "d = {'name': 'pavan',\"age\": 28}\n",
    "print(type(d))\n",
    "d"
   ]
  },
  {
   "cell_type": "code",
   "execution_count": 17,
   "id": "4d685697-c566-4311-b63d-3d45c9b24cb4",
   "metadata": {},
   "outputs": [
    {
     "name": "stdout",
     "output_type": "stream",
     "text": [
      "<class 'dict'>\n"
     ]
    },
    {
     "data": {
      "text/plain": [
       "{'city': 'bhimavaram', 'state': 'ap'}"
      ]
     },
     "execution_count": 17,
     "metadata": {},
     "output_type": "execute_result"
    }
   ],
   "source": [
    "d1=()\n",
    "ds = dict(d1)\n",
    "ds['city'] = 'bhimavaram'\n",
    "ds['state'] = 'ap'\n",
    "ds\n",
    "print(type(ds))\n",
    "ds"
   ]
  },
  {
   "cell_type": "code",
   "execution_count": 21,
   "id": "7e5c7c30-504e-42dd-b65d-77e9820234d9",
   "metadata": {},
   "outputs": [
    {
     "ename": "KeyError",
     "evalue": "4",
     "output_type": "error",
     "traceback": [
      "\u001b[1;31m---------------------------------------------------------------------------\u001b[0m",
      "\u001b[1;31mKeyError\u001b[0m                                  Traceback (most recent call last)",
      "Cell \u001b[1;32mIn[21], line 2\u001b[0m\n\u001b[0;32m      1\u001b[0m ds[\u001b[38;5;124m'\u001b[39m\u001b[38;5;124mcity\u001b[39m\u001b[38;5;124m'\u001b[39m]\n\u001b[1;32m----> 2\u001b[0m \u001b[43mds\u001b[49m\u001b[43m[\u001b[49m\u001b[38;5;241;43m4\u001b[39;49m\u001b[43m]\u001b[49m\n",
      "\u001b[1;31mKeyError\u001b[0m: 4"
     ]
    }
   ],
   "source": [
    "ds['city']\n",
    "ds[4]"
   ]
  },
  {
   "cell_type": "code",
   "execution_count": 35,
   "id": "8b19b616-6b0d-4d16-8ef5-54711cd8ac69",
   "metadata": {},
   "outputs": [],
   "source": [
    "ds\n",
    "ds['state'] = 'ap'\n",
    "d = {}\n"
   ]
  },
  {
   "cell_type": "code",
   "execution_count": 14,
   "id": "ec3626d1-7a8a-4cc0-942d-961fa5709c12",
   "metadata": {},
   "outputs": [
    {
     "ename": "NameError",
     "evalue": "name 'count' is not defined",
     "output_type": "error",
     "traceback": [
      "\u001b[1;31m---------------------------------------------------------------------------\u001b[0m",
      "\u001b[1;31mNameError\u001b[0m                                 Traceback (most recent call last)",
      "Cell \u001b[1;32mIn[14], line 7\u001b[0m\n\u001b[0;32m      5\u001b[0m dd[\u001b[38;5;124m'\u001b[39m\u001b[38;5;124mstate\u001b[39m\u001b[38;5;124m'\u001b[39m] \u001b[38;5;241m=\u001b[39m \u001b[38;5;124m'\u001b[39m\u001b[38;5;124mandra paradesh\u001b[39m\u001b[38;5;124m'\u001b[39m\n\u001b[0;32m      6\u001b[0m \u001b[38;5;28mlen\u001b[39m(dd)\n\u001b[1;32m----> 7\u001b[0m \u001b[43mcount\u001b[49m(\u001b[38;5;124m'\u001b[39m\u001b[38;5;124mvalues\u001b[39m\u001b[38;5;124m'\u001b[39m)\n",
      "\u001b[1;31mNameError\u001b[0m: name 'count' is not defined"
     ]
    }
   ],
   "source": [
    "dd = {'name': 'pavan','age': 28, 'cityy': 'bhimavaram'}\n",
    "dd\n",
    "del dd['age']\n",
    "dd['city'] = 'bhimavaram'\n",
    "dd['state'] = 'andra paradesh'\n",
    "len(dd)\n"
   ]
  },
  {
   "cell_type": "code",
   "execution_count": null,
   "id": "7509fc8f-3f43-4ac4-908e-20cfab5cbe13",
   "metadata": {},
   "outputs": [],
   "source": []
  }
 ],
 "metadata": {
  "kernelspec": {
   "display_name": "Python 3 (ipykernel)",
   "language": "python",
   "name": "python3"
  },
  "language_info": {
   "codemirror_mode": {
    "name": "ipython",
    "version": 3
   },
   "file_extension": ".py",
   "mimetype": "text/x-python",
   "name": "python",
   "nbconvert_exporter": "python",
   "pygments_lexer": "ipython3",
   "version": "3.11.5"
  }
 },
 "nbformat": 4,
 "nbformat_minor": 5
}
