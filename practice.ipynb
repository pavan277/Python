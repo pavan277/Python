{
 "cells": [
  {
   "cell_type": "code",
   "execution_count": 5,
   "id": "a2756101-989d-40bb-97c3-b6c1d74101ed",
   "metadata": {},
   "outputs": [
    {
     "name": "stdout",
     "output_type": "stream",
     "text": [
      "30\n",
      "140731222386376\n",
      "140731222385736\n",
      "140731222386056\n"
     ]
    }
   ],
   "source": [
    "a=10 \n",
    "b=20\n",
    "c = a+b\n",
    "print(c)\n",
    "type(c)\n",
    "print(id(c))\n",
    "print(id(a))\n",
    "print(id(b))"
   ]
  },
  {
   "cell_type": "code",
   "execution_count": 2,
   "id": "b08eecb0-d4a6-4415-b77b-641ac5debeee",
   "metadata": {},
   "outputs": [
    {
     "name": "stdout",
     "output_type": "stream",
     "text": [
      "its my first python practice\n"
     ]
    }
   ],
   "source": [
    "test= \"its my first python practice\"\n",
    "print(test)"
   ]
  },
  {
   "cell_type": "code",
   "execution_count": 3,
   "id": "3c9b7f52-0cee-434d-b41c-49da7cf8e848",
   "metadata": {},
   "outputs": [
    {
     "name": "stdout",
     "output_type": "stream",
     "text": [
      "[1, 3, 5, 7, 9]\n"
     ]
    }
   ],
   "source": [
    "list= [1,3,5,7,9]\n",
    "print(list)"
   ]
  },
  {
   "cell_type": "code",
   "execution_count": 9,
   "id": "51f17e83-c1e6-487e-9c8a-fa04d5a507ff",
   "metadata": {},
   "outputs": [
    {
     "name": "stdout",
     "output_type": "stream",
     "text": [
      "5\n"
     ]
    }
   ],
   "source": [
    "print (list[2])"
   ]
  },
  {
   "cell_type": "code",
   "execution_count": 12,
   "id": "eb935d19-f731-4af4-88c4-875b47b0d8ff",
   "metadata": {},
   "outputs": [
    {
     "ename": "SyntaxError",
     "evalue": "invalid syntax. Perhaps you forgot a comma? (4112670354.py, line 3)",
     "output_type": "error",
     "traceback": [
      "\u001b[1;36m  Cell \u001b[1;32mIn[12], line 3\u001b[1;36m\u001b[0m\n\u001b[1;33m    print(list.append list2)\u001b[0m\n\u001b[1;37m          ^\u001b[0m\n\u001b[1;31mSyntaxError\u001b[0m\u001b[1;31m:\u001b[0m invalid syntax. Perhaps you forgot a comma?\n"
     ]
    }
   ],
   "source": [
    "list= [1,3,5,7,9]\n",
    "list2 =[2,4,6,8]\n",
    "print(list"
   ]
  },
  {
   "cell_type": "code",
   "execution_count": 17,
   "id": "58db74f4-c7d9-4a3f-b7da-e1dd6f0cf11d",
   "metadata": {},
   "outputs": [
    {
     "data": {
      "text/plain": [
       "False"
      ]
     },
     "execution_count": 17,
     "metadata": {},
     "output_type": "execute_result"
    }
   ],
   "source": [
    "'apple' > 'ball'"
   ]
  },
  {
   "cell_type": "code",
   "execution_count": 9,
   "id": "52e87c71-6452-40da-aa70-f0e2ee325b74",
   "metadata": {},
   "outputs": [
    {
     "name": "stdout",
     "output_type": "stream",
     "text": [
      "True\n"
     ]
    },
    {
     "data": {
      "text/plain": [
       "str"
      ]
     },
     "execution_count": 9,
     "metadata": {},
     "output_type": "execute_result"
    }
   ],
   "source": [
    "a = \"apple\"\n",
    "b = 'ball'\n",
    "print(b > a)\n",
    "type(a)"
   ]
  },
  {
   "cell_type": "code",
   "execution_count": 18,
   "id": "747fe5e4-1f2e-4fca-b508-ba7d7351314a",
   "metadata": {},
   "outputs": [
    {
     "name": "stdout",
     "output_type": "stream",
     "text": [
      "11\n",
      "a\n",
      "avan\n",
      "pavan\n",
      "pavan kumarpavan kumar\n"
     ]
    }
   ],
   "source": [
    " s = 'pavan kumar'\n",
    "print(len(s))\n",
    "print(s[1])\n",
    "print(s[1:5])\n",
    "print(s[0:5])\n",
    "print(s+s)\n"
   ]
  },
  {
   "cell_type": "code",
   "execution_count": 2,
   "id": "6764e6b8-7c78-4fc6-b070-7337d62e9ad5",
   "metadata": {},
   "outputs": [
    {
     "name": "stdout",
     "output_type": "stream",
     "text": [
      "True\n",
      "33\n",
      "140731439048488\n",
      "140731439048488\n"
     ]
    }
   ],
   "source": [
    "a = 22 \n",
    "b = 33 \n",
    "a= b\n",
    "print(a is b)\n",
    "print(a)\n",
    "print(id(b))\n",
    "print(id(a))"
   ]
  },
  {
   "cell_type": "code",
   "execution_count": 26,
   "id": "8f48ec89-4752-4aed-82a5-8293d4cc1249",
   "metadata": {},
   "outputs": [
    {
     "name": "stdout",
     "output_type": "stream",
     "text": [
      "10\n",
      "11\n",
      "12\n",
      "13\n",
      "14\n",
      "15\n",
      "16\n",
      "17\n",
      "18\n",
      "19\n",
      "20\n",
      "21\n"
     ]
    }
   ],
   "source": [
    "for i in range(10,22):\n",
    "    print(i)\n",
    "\n",
    "    \n"
   ]
  },
  {
   "cell_type": "code",
   "execution_count": null,
   "id": "bc4c013e-39e5-4793-9d06-5ed6c8caa1d7",
   "metadata": {},
   "outputs": [],
   "source": [
    "#ternary operators\n"
   ]
  },
  {
   "cell_type": "code",
   "execution_count": 27,
   "id": "1b150cff-39eb-4c3d-84e1-b12c0771501d",
   "metadata": {},
   "outputs": [
    {
     "ename": "IndentationError",
     "evalue": "unexpected indent (1630027522.py, line 3)",
     "output_type": "error",
     "traceback": [
      "\u001b[1;36m  Cell \u001b[1;32mIn[27], line 3\u001b[1;36m\u001b[0m\n\u001b[1;33m    'k' in n\u001b[0m\n\u001b[1;37m    ^\u001b[0m\n\u001b[1;31mIndentationError\u001b[0m\u001b[1;31m:\u001b[0m unexpected indent\n"
     ]
    }
   ],
   "source": [
    "s = 'pavan'\n",
    "n = 'kumar'\n",
    " 'k' in n"
   ]
  },
  {
   "cell_type": "code",
   "execution_count": null,
   "id": "d4c5c319-4bdb-4e78-9ed3-3abc08b93847",
   "metadata": {},
   "outputs": [],
   "source": []
  }
 ],
 "metadata": {
  "kernelspec": {
   "display_name": "Python 3 (ipykernel)",
   "language": "python",
   "name": "python3"
  },
  "language_info": {
   "codemirror_mode": {
    "name": "ipython",
    "version": 3
   },
   "file_extension": ".py",
   "mimetype": "text/x-python",
   "name": "python",
   "nbconvert_exporter": "python",
   "pygments_lexer": "ipython3",
   "version": "3.11.5"
  }
 },
 "nbformat": 4,
 "nbformat_minor": 5
}
