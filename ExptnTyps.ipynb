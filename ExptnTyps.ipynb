{
 "cells": [
  {
   "cell_type": "code",
   "execution_count": 1,
   "id": "210c3b38-0a0d-41bd-8ee4-d56a1b7abc5f",
   "metadata": {},
   "outputs": [
    {
     "ename": "SyntaxError",
     "evalue": "invalid syntax (2457699492.py, line 2)",
     "output_type": "error",
     "traceback": [
      "\u001b[1;36m  Cell \u001b[1;32mIn[1], line 2\u001b[1;36m\u001b[0m\n\u001b[1;33m    Every exception in Python is a class that extends Exception class either directly or indirectly\u001b[0m\n\u001b[1;37m          ^\u001b[0m\n\u001b[1;31mSyntaxError\u001b[0m\u001b[1;31m:\u001b[0m invalid syntax\n"
     ]
    }
   ],
   "source": [
    "# how to Define and Raise Customized Exceptions:\n",
    "Every exception in Python is a class that extends Exception class either directly or indirectly\n",
    "Syntax: class classname(predefined exception class name): def init(self,arg): self.msg=arg\n",
    "TooYoungException is our class name which is the child class of Exception\n",
    "We can raise exception by using raise keyword as follows raise TooYoungException(\"message\")\n",
    "#---->>Note: raise keyword is best suitable for customized exceptions but not for pre defined exceptions"
   ]
  },
  {
   "cell_type": "code",
   "execution_count": 5,
   "id": "618a3adc-40f9-4ab6-8250-14f91374bd51",
   "metadata": {},
   "outputs": [
    {
     "name": "stdin",
     "output_type": "stream",
     "text": [
      "Enter Age: 55\n"
     ]
    },
    {
     "name": "stdout",
     "output_type": "stream",
     "text": [
      "You will get match details soon by email!!!\n"
     ]
    }
   ],
   "source": [
    "class tooOldException(Exception):\n",
    "    def __init__(self,arg):\n",
    "        self.msg=arg\n",
    "        \n",
    "class tooYoungException(Exception):\n",
    "    def __init__(self,arg):\n",
    "        self.msg=arg\n",
    "        \n",
    "age=int(input(\"Enter Age:\"))\n",
    "if age<18:\n",
    "    raise tooYoungException(\"Plz wait some more time you will get best match soon!!!\")\n",
    "elif age>60:\n",
    "    raise tooOldException(\"Your age already crossed marriage age...no chance of getting marriage\")\n",
    "else:\n",
    "    print(\"You will get match details soon by email!!!\")"
   ]
  },
  {
   "cell_type": "code",
   "execution_count": 6,
   "id": "38b7853d-3e37-4132-a500-3d0e8f0b89b8",
   "metadata": {},
   "outputs": [
    {
     "name": "stdout",
     "output_type": "stream",
     "text": [
      "10\n",
      "some exception in your code\n"
     ]
    }
   ],
   "source": [
    "x=10\n",
    "\n",
    "def prod(n1,n2):\n",
    "    return n1*n2\n",
    "try:\n",
    "    print(x)  #Name error\n",
    "    r=prod(10) #type error\n",
    "except:\n",
    "    print(\"some exception in your code\")"
   ]
  },
  {
   "cell_type": "code",
   "execution_count": 7,
   "id": "c81f249b-7f24-4e60-ac3f-11c256bc7aad",
   "metadata": {},
   "outputs": [
    {
     "name": "stdout",
     "output_type": "stream",
     "text": [
      "10\n",
      "Check Argument list\n"
     ]
    }
   ],
   "source": [
    "x=10\n",
    "\n",
    "def prod(n1,n2):\n",
    "    return n1*n2\n",
    "try:\n",
    "    print(x)  #Name error\n",
    "    r=prod(10) #type error\n",
    "    \n",
    "except NameError:\n",
    "    print(\"variable not found\")\n",
    "except TypeError:\n",
    "    print(\"Check Argument list\")\n",
    "except:            # generic exception handling routine\n",
    "    print(\"some exception in your code\")"
   ]
  },
  {
   "cell_type": "code",
   "execution_count": 8,
   "id": "9f48c305-64e8-4de5-82f5-aec4b1220ff5",
   "metadata": {},
   "outputs": [
    {
     "name": "stdout",
     "output_type": "stream",
     "text": [
      "variable not found\n"
     ]
    }
   ],
   "source": [
    "x=10\n",
    "\n",
    "def prod(n1,n2):\n",
    "    return n1*n2\n",
    "try:\n",
    "    print(y)  #Name error\n",
    "    r=prod(10) #type error\n",
    "    \n",
    "except NameError:\n",
    "    print(\"variable not found\")\n",
    "except TypeError:\n",
    "    print(\"Check Argument list\")\n",
    "except:            # generic exception handling routine\n",
    "    print(\"some exception in your code\")\n",
    "    "
   ]
  },
  {
   "cell_type": "code",
   "execution_count": 9,
   "id": "7e360e37-efd1-4a2c-820e-627b3385c8f7",
   "metadata": {},
   "outputs": [
    {
     "name": "stdout",
     "output_type": "stream",
     "text": [
      "10\n",
      "some exception in your code\n",
      "execute always...\n"
     ]
    }
   ],
   "source": [
    "x=10\n",
    "\n",
    "def prod(n1,n2):\n",
    "    return n1*n2\n",
    "try:\n",
    "    print(x)  #Name error\n",
    "    r=prod(10,2) #type error\n",
    "    10/0\n",
    "    \n",
    "except NameError:\n",
    "    print(\"variable not found\")\n",
    "except TypeError:\n",
    "    print(\"Check Argument list\")\n",
    "except:            # generic exception handling routine\n",
    "    print(\"some exception in your code\")\n",
    "finally:\n",
    "    print(\"execute always...\")"
   ]
  },
  {
   "cell_type": "code",
   "execution_count": 10,
   "id": "11573088-ee02-447a-bc69-6a1d364d6153",
   "metadata": {},
   "outputs": [
    {
     "name": "stdout",
     "output_type": "stream",
     "text": [
      "10\n",
      "it executes when try will not generates any exception at run time\n",
      "execute always...\n"
     ]
    }
   ],
   "source": [
    "x=10\n",
    "\n",
    "def prod(n1,n2):\n",
    "    return n1*n2\n",
    "try:\n",
    "    print(x)  #Name error\n",
    "    r=prod(10,2) #type error\n",
    "    z=10/2\n",
    "    \n",
    "except NameError:\n",
    "    print(\"variable not found\")\n",
    "except TypeError:\n",
    "    print(\"Check Argument list\")\n",
    "except:            # generic exception handling routine\n",
    "    print(\"some exception in your code\")\n",
    "else:\n",
    "    print(\"it executes when try will not generates any exception at run time\")\n",
    "finally:\n",
    "    print(\"execute always...\")\n",
    "\n"
   ]
  },
  {
   "cell_type": "code",
   "execution_count": null,
   "id": "02a326e9-b321-43ce-937f-84f4ea210309",
   "metadata": {},
   "outputs": [],
   "source": []
  }
 ],
 "metadata": {
  "kernelspec": {
   "display_name": "Python 3 (ipykernel)",
   "language": "python",
   "name": "python3"
  },
  "language_info": {
   "codemirror_mode": {
    "name": "ipython",
    "version": 3
   },
   "file_extension": ".py",
   "mimetype": "text/x-python",
   "name": "python",
   "nbconvert_exporter": "python",
   "pygments_lexer": "ipython3",
   "version": "3.11.5"
  }
 },
 "nbformat": 4,
 "nbformat_minor": 5
}
