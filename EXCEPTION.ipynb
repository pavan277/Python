{
 "cells": [
  {
   "cell_type": "code",
   "execution_count": 4,
   "id": "d829aae6-0bad-4819-8ea1-0b705499b3ef",
   "metadata": {},
   "outputs": [
    {
     "name": "stdout",
     "output_type": "stream",
     "text": [
      "hello\n",
      "10 is not divisble by 0\n",
      "pawan\n"
     ]
    }
   ],
   "source": [
    "print(\"hello\")\n",
    "try:\n",
    "    print(10/0)\n",
    "except :\n",
    "    print(\"10 is not divisble by 0\")\n",
    "print(\"pawan\") "
   ]
  },
  {
   "cell_type": "code",
   "execution_count": null,
   "id": "44a1caa0-3133-4470-baeb-f808ee514fc2",
   "metadata": {},
   "outputs": [],
   "source": []
  },
  {
   "cell_type": "code",
   "execution_count": null,
   "id": "94f264f1-18d0-4c2c-a68a-2ccfda6d19d1",
   "metadata": {},
   "outputs": [],
   "source": []
  },
  {
   "cell_type": "code",
   "execution_count": null,
   "id": "3b9d0c28-211e-43e9-8a7c-507de269bf64",
   "metadata": {},
   "outputs": [],
   "source": []
  }
 ],
 "metadata": {
  "kernelspec": {
   "display_name": "Python 3 (ipykernel)",
   "language": "python",
   "name": "python3"
  },
  "language_info": {
   "codemirror_mode": {
    "name": "ipython",
    "version": 3
   },
   "file_extension": ".py",
   "mimetype": "text/x-python",
   "name": "python",
   "nbconvert_exporter": "python",
   "pygments_lexer": "ipython3",
   "version": "3.11.5"
  }
 },
 "nbformat": 4,
 "nbformat_minor": 5
}
