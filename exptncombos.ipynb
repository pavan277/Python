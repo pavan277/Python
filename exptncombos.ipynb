{
 "cells": [
  {
   "cell_type": "code",
   "execution_count": 1,
   "id": "fea639bf-e42c-4cb3-9c8a-7491e13c53bc",
   "metadata": {},
   "outputs": [
    {
     "name": "stdout",
     "output_type": "stream",
     "text": [
      "hello\n"
     ]
    },
    {
     "ename": "ZeroDivisionError",
     "evalue": "division by zero",
     "output_type": "error",
     "traceback": [
      "\u001b[1;31m---------------------------------------------------------------------------\u001b[0m",
      "\u001b[1;31mZeroDivisionError\u001b[0m                         Traceback (most recent call last)",
      "Cell \u001b[1;32mIn[1], line 2\u001b[0m\n\u001b[0;32m      1\u001b[0m \u001b[38;5;28mprint\u001b[39m(\u001b[38;5;124m\"\u001b[39m\u001b[38;5;124mhello\u001b[39m\u001b[38;5;124m\"\u001b[39m)\n\u001b[1;32m----> 2\u001b[0m \u001b[38;5;28mprint\u001b[39m(\u001b[38;5;241;43m10\u001b[39;49m\u001b[38;5;241;43m/\u001b[39;49m\u001b[38;5;241;43m0\u001b[39;49m)\n\u001b[0;32m      3\u001b[0m \u001b[38;5;28mprint\u001b[39m(\u001b[38;5;124m\"\u001b[39m\u001b[38;5;124mpawan\u001b[39m\u001b[38;5;124m\"\u001b[39m)\n",
      "\u001b[1;31mZeroDivisionError\u001b[0m: division by zero"
     ]
    }
   ],
   "source": [
    "print(\"hello\")\n",
    "print(10/0)\n",
    "print(\"pawan\")\n"
   ]
  },
  {
   "cell_type": "code",
   "execution_count": 11,
   "id": "586d8349-656f-4155-900e-5079132d0ab9",
   "metadata": {},
   "outputs": [
    {
     "name": "stdout",
     "output_type": "stream",
     "text": [
      "hi\n"
     ]
    },
    {
     "ename": "ZeroDivisionError",
     "evalue": "division by zero",
     "output_type": "error",
     "traceback": [
      "\u001b[1;31m---------------------------------------------------------------------------\u001b[0m",
      "\u001b[1;31mZeroDivisionError\u001b[0m                         Traceback (most recent call last)",
      "Cell \u001b[1;32mIn[11], line 3\u001b[0m\n\u001b[0;32m      1\u001b[0m \u001b[38;5;28;01mtry\u001b[39;00m:\n\u001b[0;32m      2\u001b[0m      \u001b[38;5;28mprint\u001b[39m(\u001b[38;5;124m'\u001b[39m\u001b[38;5;124mhi\u001b[39m\u001b[38;5;124m'\u001b[39m)\n\u001b[1;32m----> 3\u001b[0m      \u001b[38;5;28mprint\u001b[39m(\u001b[38;5;241;43m10\u001b[39;49m\u001b[38;5;241;43m/\u001b[39;49m\u001b[38;5;241;43m0\u001b[39;49m)\n\u001b[0;32m      4\u001b[0m      \u001b[38;5;28mprint\u001b[39m(\u001b[38;5;124m'\u001b[39m\u001b[38;5;124mafter error\u001b[39m\u001b[38;5;124m'\u001b[39m)\n\u001b[0;32m      6\u001b[0m \u001b[38;5;28;01mexcept\u001b[39;00m \u001b[38;5;167;01mNameError\u001b[39;00m:      \u001b[38;5;66;03m#ZeroDivisionError\u001b[39;00m\n",
      "\u001b[1;31mZeroDivisionError\u001b[0m: division by zero"
     ]
    }
   ],
   "source": [
    "try:\n",
    "     print('hi')\n",
    "     print(10/0)\n",
    "     print('after error')\n",
    "   \n",
    "except NameError:      #ZeroDivisionError\n",
    "    print('handle code')\n",
    "print('next line')\n"
   ]
  },
  {
   "cell_type": "code",
   "execution_count": 16,
   "id": "f8a6e287-dc18-4d0e-a4d1-c41545c0b689",
   "metadata": {},
   "outputs": [
    {
     "name": "stdout",
     "output_type": "stream",
     "text": [
      "hello\n",
      "next code\n",
      "10 is not divisble by 0\n",
      "pawan\n"
     ]
    }
   ],
   "source": [
    "print(\"hello\")\n",
    "try:\n",
    "    print('next code')\n",
    "    print(10/0)\n",
    "    print('next code')\n",
    "except ZeroDivisionError:\n",
    "    print(\"10 is not divisble by 0\")\n",
    "print(\"pawan\")      "
   ]
  },
  {
   "cell_type": "code",
   "execution_count": 22,
   "id": "03a11ff3-64fe-4609-a82d-243fb1b2a830",
   "metadata": {},
   "outputs": [
    {
     "name": "stdout",
     "output_type": "stream",
     "text": [
      "statement 1\n",
      "satement 2\n",
      "1state 5 division by zero\n",
      "state 6\n"
     ]
    }
   ],
   "source": [
    "print(\"statement 1\")\n",
    "try:\n",
    "    print('satement 2')\n",
    "    print('statement 3',10/0)\n",
    "    print('stete 4 ')\n",
    "except ZeroDivisionError as msg:\n",
    "    print(\"1state 5\",msg)\n",
    "print(\"state 6\")   "
   ]
  },
  {
   "cell_type": "code",
   "execution_count": 121,
   "id": "1bd80238-2a0c-47d8-91d1-8f725ee70cca",
   "metadata": {},
   "outputs": [
    {
     "name": "stdout",
     "output_type": "stream",
     "text": [
      " 1 line\n"
     ]
    },
    {
     "name": "stdin",
     "output_type": "stream",
     "text": [
      " 2nd  number: 7\n",
      " 3rd number: 0\n"
     ]
    },
    {
     "name": "stdout",
     "output_type": "stream",
     "text": [
      "9th default\n"
     ]
    },
    {
     "ename": "NameError",
     "evalue": "name 'os' is not defined",
     "output_type": "error",
     "traceback": [
      "\u001b[1;31m---------------------------------------------------------------------------\u001b[0m",
      "\u001b[1;31mNameError\u001b[0m                                 Traceback (most recent call last)",
      "Cell \u001b[1;32mIn[121], line 7\u001b[0m\n\u001b[0;32m      5\u001b[0m x\u001b[38;5;241m=\u001b[39m\u001b[38;5;28mint\u001b[39m(\u001b[38;5;28minput\u001b[39m(\u001b[38;5;124m\"\u001b[39m\u001b[38;5;124m 2nd  number:\u001b[39m\u001b[38;5;124m\"\u001b[39m))\n\u001b[0;32m      6\u001b[0m y\u001b[38;5;241m=\u001b[39m\u001b[38;5;28mint\u001b[39m(\u001b[38;5;28minput\u001b[39m(\u001b[38;5;124m\"\u001b[39m\u001b[38;5;124m 3rd number:\u001b[39m\u001b[38;5;124m\"\u001b[39m))\n\u001b[1;32m----> 7\u001b[0m \u001b[43mos\u001b[49m\u001b[38;5;241m.\u001b[39m_exit(\u001b[38;5;241m0\u001b[39m)\n\u001b[0;32m      8\u001b[0m \u001b[38;5;28mprint\u001b[39m(\u001b[38;5;124m'\u001b[39m\u001b[38;5;124m4 th d line rseresult\u001b[39m\u001b[38;5;124m'\u001b[39m,x\u001b[38;5;241m/\u001b[39my)\n\u001b[0;32m      9\u001b[0m \u001b[38;5;28mprint\u001b[39m(\u001b[38;5;124m'\u001b[39m\u001b[38;5;124m5th line\u001b[39m\u001b[38;5;124m'\u001b[39m)\n",
      "\u001b[1;31mNameError\u001b[0m: name 'os' is not defined"
     ]
    }
   ],
   "source": [
    "print(' 1 line') \n",
    "\n",
    "try:\n",
    "    \n",
    "    x=int(input(\" 2nd  number:\"))\n",
    "    y=int(input(\" 3rd number:\"))\n",
    "    os._exit(0)\n",
    "    print('4 th d line rseresult',x/y)\n",
    "    print('5th line')\n",
    "except ZeroDivisionError as msg :    \n",
    "    print('6 zero',msg)\n",
    "\n",
    "except ValueError as hemanth:\n",
    "    \n",
    "    print('7',hemanth)\n",
    "\n",
    "        \n",
    "finally:\n",
    "    print('9th default')\n",
    "print('10th edi 2 line') \n",
    "print('11th 3rd line')  \n",
    "\n",
    "print('12th  line')"
   ]
  },
  {
   "cell_type": "code",
   "execution_count": 108,
   "id": "9ff5f70b-9301-4b45-9414-069bf5f91440",
   "metadata": {},
   "outputs": [
    {
     "name": "stdin",
     "output_type": "stream",
     "text": [
      "Enter First number: 5\n",
      "Enter Second number: 0\n"
     ]
    },
    {
     "name": "stdout",
     "output_type": "stream",
     "text": [
      "please provide valid numbers: division by zero\n"
     ]
    }
   ],
   "source": [
    "try:\n",
    "    x=int(input(\"Enter First number:\"))\n",
    "    y=int(input(\"Enter Second number:\"))\n",
    "    print(x/y)\n",
    "except (ZeroDivisionError,ValueError) as msg:\n",
    "    print(\"please provide valid numbers:\",msg)"
   ]
  },
  {
   "cell_type": "code",
   "execution_count": 100,
   "id": "c0a093f2-fd60-4cfb-acb6-028e9c91aece",
   "metadata": {},
   "outputs": [
    {
     "name": "stdin",
     "output_type": "stream",
     "text": [
      "Enter First number: 5\n",
      "Enter Second number: yy\n"
     ]
    },
    {
     "name": "stdout",
     "output_type": "stream",
     "text": [
      "final block exicuted\n"
     ]
    },
    {
     "ename": "ValueError",
     "evalue": "invalid literal for int() with base 10: 'yy'",
     "output_type": "error",
     "traceback": [
      "\u001b[1;31m---------------------------------------------------------------------------\u001b[0m",
      "\u001b[1;31mValueError\u001b[0m                                Traceback (most recent call last)",
      "Cell \u001b[1;32mIn[100], line 3\u001b[0m\n\u001b[0;32m      1\u001b[0m \u001b[38;5;28;01mtry\u001b[39;00m:\n\u001b[0;32m      2\u001b[0m     x\u001b[38;5;241m=\u001b[39m\u001b[38;5;28mint\u001b[39m(\u001b[38;5;28minput\u001b[39m(\u001b[38;5;124m\"\u001b[39m\u001b[38;5;124mEnter First number:\u001b[39m\u001b[38;5;124m\"\u001b[39m))\n\u001b[1;32m----> 3\u001b[0m     y\u001b[38;5;241m=\u001b[39m\u001b[38;5;28;43mint\u001b[39;49m\u001b[43m(\u001b[49m\u001b[38;5;28;43minput\u001b[39;49m\u001b[43m(\u001b[49m\u001b[38;5;124;43m\"\u001b[39;49m\u001b[38;5;124;43mEnter Second number:\u001b[39;49m\u001b[38;5;124;43m\"\u001b[39;49m\u001b[43m)\u001b[49m\u001b[43m)\u001b[49m\n\u001b[0;32m      4\u001b[0m     \u001b[38;5;28mprint\u001b[39m(x\u001b[38;5;241m/\u001b[39my)\n\u001b[0;32m      5\u001b[0m     \u001b[38;5;28mprint\u001b[39m(\u001b[38;5;124m'\u001b[39m\u001b[38;5;124mhi\u001b[39m\u001b[38;5;124m'\u001b[39m)\n",
      "\u001b[1;31mValueError\u001b[0m: invalid literal for int() with base 10: 'yy'"
     ]
    }
   ],
   "source": [
    "try:\n",
    "    x=int(input(\"Enter First number:\"))\n",
    "    y=int(input(\"Enter Second number:\"))\n",
    "    print(x/y)\n",
    "    print('hi')\n",
    "except ZeroDivisionError:\n",
    "    print(\"division by zero not possible\")\n",
    "\n",
    "finally:\n",
    "    print('final block exicuted')"
   ]
  },
  {
   "cell_type": "code",
   "execution_count": 14,
   "id": "0d2937e6-a5c8-4696-adaf-9d49d3a1ff68",
   "metadata": {},
   "outputs": [
    {
     "name": "stdout",
     "output_type": "stream",
     "text": [
      "first line of code \n",
      "second line of code\n",
      "default except bloc\n",
      "clean code\n",
      "last line of code\n"
     ]
    }
   ],
   "source": [
    "print('first line of code ')\n",
    "try:\n",
    "    print('second line of code')\n",
    "    print('third line of code',10/'ten')\n",
    "    print('4th line of code after logice')\n",
    "except ZeroDivisionError as msg:\n",
    "    print('handling error',msg)\n",
    "except :\n",
    "    print('default except bloc')\n",
    "finally :\n",
    "    print('clean code')\n",
    "print('last line of code')"
   ]
  },
  {
   "cell_type": "code",
   "execution_count": null,
   "id": "9be9bcb1-fd3a-41fd-a2cc-7275dc19b4e1",
   "metadata": {},
   "outputs": [],
   "source": [
    "#___>>>Nested try-except-finally blocks\n",
    "#--->>>We can take try-except-finally blocks inside try or except or finally blocks.i.e nesting of try-except-finally is possible."
   ]
  },
  {
   "cell_type": "code",
   "execution_count": 28,
   "id": "071c2d84-dcd8-425e-8797-123f9efebe13",
   "metadata": {},
   "outputs": [
    {
     "name": "stdout",
     "output_type": "stream",
     "text": [
      "out side code starting\n",
      "out side  exception handling\n",
      "out side cleanup code\n",
      "last line of codes\n"
     ]
    }
   ],
   "source": [
    "try:\n",
    "    print('out side code starting')\n",
    "    print('out side code',10/0)\n",
    "    try:\n",
    "        print('inside code sarting')\n",
    "        print('inside try block we can too risky code here',10/0)\n",
    "    except ZeroDivisionError:\n",
    "        print('inside eception handling')\n",
    "    finally:\n",
    "        print('inside cleaup code')\n",
    "except:\n",
    "    print('out side  exception handling')\n",
    "finally:\n",
    "    print('out side cleanup code')\n",
    "print('last line of codes')"
   ]
  },
  {
   "cell_type": "code",
   "execution_count": 29,
   "id": "4034719a-0d07-424d-971f-5ffc99e14ec5",
   "metadata": {},
   "outputs": [
    {
     "name": "stdout",
     "output_type": "stream",
     "text": [
      "stmt-1\n",
      "stmt-2\n",
      "stmt-3\n",
      "stmt-4\n",
      "stmt-5\n",
      "stmt-6\n",
      "stmt-8\n",
      "stmt-9\n",
      "stmt-11\n",
      "stmt-12\n"
     ]
    }
   ],
   "source": [
    "#---->> control flow of nested try excet finaly blocs\n",
    "try:\n",
    "    print(\"stmt-1\")\n",
    "    print(\"stmt-2\")\n",
    "    print(\"stmt-3\")\n",
    "    try:\n",
    "        print(\"stmt-4\")\n",
    "        print(\"stmt-5\")\n",
    "        print(\"stmt-6\")\n",
    "    except X: \n",
    "        print(\"stmt-7\")\n",
    "    finally: \n",
    "        print(\"stmt-8\")\n",
    "    print(\"stmt-9\") \n",
    "except Y: \n",
    "    print(\"stmt-10\")\n",
    "finally:\n",
    "    print(\"stmt-11\")\n",
    "print(\"stmt-12\")"
   ]
  },
  {
   "cell_type": "code",
   "execution_count": null,
   "id": "39882111-a3e2-4eab-9eee-8033c68d7a74",
   "metadata": {},
   "outputs": [],
   "source": [
    "#case-1: If there is no exception 1,2,3,4,5,6,8,9,11,12 NT\n",
    "#case-2: If an exception raised at stmt-2 and the corresponding except block matched 1,10,11,12 NT\n",
    "#case-3: If an exceptiion raised at stmt-2 and the corresponding except block not matched 1,11 AT(only finally block get execute)\n",
    "#case-4: If an exception raised at stmt-5 and inner except block matched 1,2,3,4,7,8,9,11,12 NT\n",
    "#case-5: If an exception raised at stmt-5 and inner except block not matched but outer except block matched 1,2,3,4,8,10,11,12 NT\n",
    "#case-6:If an exception raised at stmt-5 and both inner and outer except blocks are not matched 1,2,3,4,8,11 AT\n",
    "#case-7: If an exception raised at stmt-7 and corresponding except block matched 1,2,3,_ _ _,8,10,11,12 NT\n",
    "case-8: If an exception raised at stmt-7 and corresponding except block not matched 1,2,3,_ _ _,8,11 AT\n",
    "case-9: If an exception raised at stmt-8 and corresponding except block matched 1,2,3,_ _ _ _,10,11,12 NT\n",
    "case-10: If an exception raised at stmt-8 and corresponding except block not matched 1,2,3,_ _ _ _,11 AT\n",
    "case-11: If an exception raised at stmt-9 and corresponding except block matched 1,2,3,_ _ _ _ ,8,10,11,12 NT\n",
    "case-12: If an exception raised at stmt-9 and corresponding except block not matched 1,2,3,.,.,.,.,8,11 AT\n",
    "case-13: If an exception raised at stmt-10 then it is always AT but before AT finally block(stmt-11) will be executed.\n",
    "case-14: If an exception raised at stmt-11 or stmt-12 then it is always AT."
   ]
  },
  {
   "cell_type": "code",
   "execution_count": 30,
   "id": "56a692e6-91c6-4772-a7ef-db66bab8b924",
   "metadata": {},
   "outputs": [
    {
     "ename": "IndentationError",
     "evalue": "expected an indented block after 'try' statement on line 1 (2998837046.py, line 2)",
     "output_type": "error",
     "traceback": [
      "\u001b[1;36m  Cell \u001b[1;32mIn[30], line 2\u001b[1;36m\u001b[0m\n\u001b[1;33m    Risky Code\u001b[0m\n\u001b[1;37m    ^\u001b[0m\n\u001b[1;31mIndentationError\u001b[0m\u001b[1;31m:\u001b[0m expected an indented block after 'try' statement on line 1\n"
     ]
    }
   ],
   "source": [
    "try:\n",
    "Risky Code \n",
    "except:\n",
    "will be executed if exception inside try \n",
    "else:\n",
    "will be executed if there is no exception inside try\n",
    "finally:\n",
    "will be executed whether exception raised or not raised and handled or not handled"
   ]
  },
  {
   "cell_type": "code",
   "execution_count": 31,
   "id": "37eda328-5290-41cf-a359-d8db2032cf5f",
   "metadata": {},
   "outputs": [
    {
     "name": "stdout",
     "output_type": "stream",
     "text": [
      "try block\n",
      "else block\n",
      "finally block\n"
     ]
    }
   ],
   "source": [
    "try:\n",
    "    print(\"try block\")\n",
    "    #print(10/0)\n",
    "except:\n",
    "    print(\"except block\")\n",
    "else:\n",
    "    print(\"else block\")\n",
    "finally:\n",
    "    print(\"finally block\")"
   ]
  },
  {
   "cell_type": "code",
   "execution_count": null,
   "id": "5348a7c4-90a7-4766-8ee5-ea6b0ec8c882",
   "metadata": {},
   "outputs": [],
   "source": [
    "try:\n",
    "except:\n",
    "try:\n",
    "finally:\n",
    "try\n",
    "except\n",
    "except\n",
    "except\n",
    "finally\n",
    "try\n",
    "except\n",
    "else\n",
    "finally\n",
    "try try except else finally\n",
    "except try except else finally\n",
    "else try except else finally\n",
    "finally try except else finally"
   ]
  },
  {
   "cell_type": "code",
   "execution_count": 35,
   "id": "8cd7b8c0-9bce-422a-be70-a3a9657ebbae",
   "metadata": {},
   "outputs": [
    {
     "ename": "SyntaxError",
     "evalue": "incomplete input (4289721513.py, line 2)",
     "output_type": "error",
     "traceback": [
      "\u001b[1;36m  Cell \u001b[1;32mIn[35], line 2\u001b[1;36m\u001b[0m\n\u001b[1;33m    print(\"try block\")\u001b[0m\n\u001b[1;37m                      ^\u001b[0m\n\u001b[1;31mSyntaxError\u001b[0m\u001b[1;31m:\u001b[0m incomplete input\n"
     ]
    }
   ],
   "source": [
    "try: \n",
    "    print(\"try block\")"
   ]
  },
  {
   "cell_type": "code",
   "execution_count": 37,
   "id": "33331d13-6a17-41c9-8d0d-b67068778722",
   "metadata": {},
   "outputs": [
    {
     "ename": "SyntaxError",
     "evalue": "invalid syntax (2423209367.py, line 1)",
     "output_type": "error",
     "traceback": [
      "\u001b[1;36m  Cell \u001b[1;32mIn[37], line 1\u001b[1;36m\u001b[0m\n\u001b[1;33m    except:\u001b[0m\n\u001b[1;37m    ^\u001b[0m\n\u001b[1;31mSyntaxError\u001b[0m\u001b[1;31m:\u001b[0m invalid syntax\n"
     ]
    }
   ],
   "source": [
    "except:\n",
    "    print('hi')"
   ]
  },
  {
   "cell_type": "code",
   "execution_count": 38,
   "id": "6811babe-3c96-4286-bb93-6f6118cecf74",
   "metadata": {},
   "outputs": [
    {
     "ename": "SyntaxError",
     "evalue": "invalid syntax (2969146916.py, line 1)",
     "output_type": "error",
     "traceback": [
      "\u001b[1;36m  Cell \u001b[1;32mIn[38], line 1\u001b[1;36m\u001b[0m\n\u001b[1;33m    else:\u001b[0m\n\u001b[1;37m    ^\u001b[0m\n\u001b[1;31mSyntaxError\u001b[0m\u001b[1;31m:\u001b[0m invalid syntax\n"
     ]
    }
   ],
   "source": [
    "else:\n",
    "print('to print else ')\n",
    "\n"
   ]
  },
  {
   "cell_type": "code",
   "execution_count": 39,
   "id": "730adc2a-4e40-4a9a-9b5e-7f94830b2225",
   "metadata": {},
   "outputs": [
    {
     "ename": "SyntaxError",
     "evalue": "invalid syntax (98913317.py, line 1)",
     "output_type": "error",
     "traceback": [
      "\u001b[1;36m  Cell \u001b[1;32mIn[39], line 1\u001b[1;36m\u001b[0m\n\u001b[1;33m    finally:\u001b[0m\n\u001b[1;37m    ^\u001b[0m\n\u001b[1;31mSyntaxError\u001b[0m\u001b[1;31m:\u001b[0m invalid syntax\n"
     ]
    }
   ],
   "source": [
    "finally:\n",
    "print('to print finally only')"
   ]
  },
  {
   "cell_type": "code",
   "execution_count": 44,
   "id": "26114379-552a-4c4e-b5c2-55c1867a28de",
   "metadata": {},
   "outputs": [
    {
     "name": "stdout",
     "output_type": "stream",
     "text": [
      "try\n"
     ]
    }
   ],
   "source": [
    "try: \n",
    "    print(\"try\") \n",
    "except:\n",
    "    print(\"exception\")"
   ]
  },
  {
   "cell_type": "code",
   "execution_count": 47,
   "id": "76b63cb2-61cd-49d5-9b93-fb2f9275b452",
   "metadata": {},
   "outputs": [
    {
     "name": "stdout",
     "output_type": "stream",
     "text": [
      "try\n",
      "finally\n"
     ]
    }
   ],
   "source": [
    "try: \n",
    "    print(\"try\") \n",
    "finally:\n",
    "    print(\"finally\")"
   ]
  },
  {
   "cell_type": "code",
   "execution_count": 48,
   "id": "41a72880-3d16-4f49-b075-123f8013f001",
   "metadata": {},
   "outputs": [
    {
     "name": "stdout",
     "output_type": "stream",
     "text": [
      "try\n",
      "else\n"
     ]
    }
   ],
   "source": [
    "try: \n",
    "    print(\"try\")\n",
    "    #print(10/0)\n",
    "except:\n",
    "    print(\"except\") \n",
    "else:\n",
    "    print(\"else\")"
   ]
  },
  {
   "cell_type": "code",
   "execution_count": 49,
   "id": "03a6e7ea-222d-486f-b3f6-51c934505677",
   "metadata": {},
   "outputs": [
    {
     "ename": "SyntaxError",
     "evalue": "expected 'except' or 'finally' block (1445221904.py, line 3)",
     "output_type": "error",
     "traceback": [
      "\u001b[1;36m  Cell \u001b[1;32mIn[49], line 3\u001b[1;36m\u001b[0m\n\u001b[1;33m    else:\u001b[0m\n\u001b[1;37m    ^\u001b[0m\n\u001b[1;31mSyntaxError\u001b[0m\u001b[1;31m:\u001b[0m expected 'except' or 'finally' block\n"
     ]
    }
   ],
   "source": [
    "try:\n",
    "    print(\"try\")\n",
    "else: \n",
    "    print(\"else\")"
   ]
  },
  {
   "cell_type": "code",
   "execution_count": 50,
   "id": "7f65b668-c063-4c5e-84ef-f0c0cb3642af",
   "metadata": {},
   "outputs": [
    {
     "ename": "SyntaxError",
     "evalue": "expected 'except' or 'finally' block (1102578450.py, line 3)",
     "output_type": "error",
     "traceback": [
      "\u001b[1;36m  Cell \u001b[1;32mIn[50], line 3\u001b[1;36m\u001b[0m\n\u001b[1;33m    else:\u001b[0m\n\u001b[1;37m    ^\u001b[0m\n\u001b[1;31mSyntaxError\u001b[0m\u001b[1;31m:\u001b[0m expected 'except' or 'finally' block\n"
     ]
    }
   ],
   "source": [
    "try:\n",
    "    print(\"try\")\n",
    "else:\n",
    "    print(\"else\")\n",
    "finally:\n",
    "    print(\"finally\")"
   ]
  },
  {
   "cell_type": "code",
   "execution_count": 51,
   "id": "58558946-a694-47f3-928e-b90139a16ee2",
   "metadata": {},
   "outputs": [
    {
     "name": "stdout",
     "output_type": "stream",
     "text": [
      "try\n"
     ]
    }
   ],
   "source": [
    "try:\n",
    "    print(\"try\") \n",
    "except XXX: \n",
    "    print(\"except-1\")\n",
    "except YYY: \n",
    "    print(\"except-2\")"
   ]
  },
  {
   "cell_type": "code",
   "execution_count": 52,
   "id": "94634f63-e995-4694-b1d7-12ce4656f772",
   "metadata": {},
   "outputs": [
    {
     "ename": "SyntaxError",
     "evalue": "invalid syntax (3204310077.py, line 7)",
     "output_type": "error",
     "traceback": [
      "\u001b[1;36m  Cell \u001b[1;32mIn[52], line 7\u001b[1;36m\u001b[0m\n\u001b[1;33m    else:\u001b[0m\n\u001b[1;37m    ^\u001b[0m\n\u001b[1;31mSyntaxError\u001b[0m\u001b[1;31m:\u001b[0m invalid syntax\n"
     ]
    }
   ],
   "source": [
    "try:\n",
    "    print(\"try\") \n",
    "except:\n",
    "    print(\"except-1\") \n",
    "else: \n",
    "    print(\"else\") \n",
    "else:\n",
    "    print(\"else\")"
   ]
  },
  {
   "cell_type": "code",
   "execution_count": 53,
   "id": "4ae992d5-98ac-4a2a-bc4c-14ac49c3492e",
   "metadata": {},
   "outputs": [
    {
     "ename": "SyntaxError",
     "evalue": "invalid syntax (1034721833.py, line 7)",
     "output_type": "error",
     "traceback": [
      "\u001b[1;36m  Cell \u001b[1;32mIn[53], line 7\u001b[1;36m\u001b[0m\n\u001b[1;33m    finally:\u001b[0m\n\u001b[1;37m    ^\u001b[0m\n\u001b[1;31mSyntaxError\u001b[0m\u001b[1;31m:\u001b[0m invalid syntax\n"
     ]
    }
   ],
   "source": [
    "try:\n",
    "    print(\"try\")\n",
    "except:\n",
    "    print(\"except-1\") \n",
    "finally:\n",
    "    print(\"finally\") \n",
    "finally:\n",
    "    print(\"finally\")"
   ]
  },
  {
   "cell_type": "code",
   "execution_count": 54,
   "id": "ffa77a62-4014-416e-be6e-56c9ad7e7161",
   "metadata": {},
   "outputs": [
    {
     "ename": "SyntaxError",
     "evalue": "invalid syntax (2014051353.py, line 6)",
     "output_type": "error",
     "traceback": [
      "\u001b[1;36m  Cell \u001b[1;32mIn[54], line 6\u001b[1;36m\u001b[0m\n\u001b[1;33m    except:\u001b[0m\n\u001b[1;37m    ^\u001b[0m\n\u001b[1;31mSyntaxError\u001b[0m\u001b[1;31m:\u001b[0m invalid syntax\n"
     ]
    }
   ],
   "source": [
    "try: \n",
    "    print(\"try\")\n",
    "except:\n",
    "    print(\"except\")\n",
    "print(\"Hello\") \n",
    "except:\n",
    "    print(\"except\")"
   ]
  },
  {
   "cell_type": "code",
   "execution_count": 55,
   "id": "af618e78-ca24-4e7c-8eec-9a5af19e179d",
   "metadata": {},
   "outputs": [
    {
     "ename": "SyntaxError",
     "evalue": "invalid syntax (3660827418.py, line 6)",
     "output_type": "error",
     "traceback": [
      "\u001b[1;36m  Cell \u001b[1;32mIn[55], line 6\u001b[1;36m\u001b[0m\n\u001b[1;33m    finally:\u001b[0m\n\u001b[1;37m    ^\u001b[0m\n\u001b[1;31mSyntaxError\u001b[0m\u001b[1;31m:\u001b[0m invalid syntax\n"
     ]
    }
   ],
   "source": [
    "try: \n",
    "    print(\"try\") \n",
    "except: \n",
    "    print(\"except\")\n",
    "print(\"Hello\")\n",
    "finally:\n",
    "    print(\"finally\")"
   ]
  },
  {
   "cell_type": "code",
   "execution_count": 56,
   "id": "f594098e-bd0e-4e64-8f00-6be3f698b612",
   "metadata": {},
   "outputs": [
    {
     "ename": "SyntaxError",
     "evalue": "invalid syntax (1285747495.py, line 6)",
     "output_type": "error",
     "traceback": [
      "\u001b[1;36m  Cell \u001b[1;32mIn[56], line 6\u001b[1;36m\u001b[0m\n\u001b[1;33m    else:\u001b[0m\n\u001b[1;37m    ^\u001b[0m\n\u001b[1;31mSyntaxError\u001b[0m\u001b[1;31m:\u001b[0m invalid syntax\n"
     ]
    }
   ],
   "source": [
    "try: \n",
    "    print(\"try\") \n",
    "except: \n",
    "    print(\"except\")\n",
    "print(\"Hello\")\n",
    "else:\n",
    "    print(\"else\")"
   ]
  },
  {
   "cell_type": "code",
   "execution_count": 57,
   "id": "a5c5da65-dc7f-4133-9a36-9d8a2045db53",
   "metadata": {},
   "outputs": [
    {
     "name": "stdout",
     "output_type": "stream",
     "text": [
      "try\n",
      "try\n"
     ]
    }
   ],
   "source": [
    "try: \n",
    "    print(\"try\") \n",
    "except: \n",
    "    print(\"except\")\n",
    "try: \n",
    "    print(\"try\") \n",
    "except: \n",
    "    print(\"except\")"
   ]
  },
  {
   "cell_type": "code",
   "execution_count": 58,
   "id": "04387bb9-980f-4c4d-a5b8-9101b4f14eac",
   "metadata": {},
   "outputs": [
    {
     "name": "stdout",
     "output_type": "stream",
     "text": [
      "try\n",
      "try\n",
      "finally\n"
     ]
    }
   ],
   "source": [
    "try: \n",
    "    print(\"try\") \n",
    "except: \n",
    "    print(\"except\")\n",
    "try: \n",
    "    print(\"try\") \n",
    "finally: \n",
    "    print(\"finally\")"
   ]
  },
  {
   "cell_type": "code",
   "execution_count": 59,
   "id": "0a6c08f8-bb8a-4c67-908b-584087b2ef6e",
   "metadata": {},
   "outputs": [
    {
     "name": "stdout",
     "output_type": "stream",
     "text": [
      "try\n",
      "else\n"
     ]
    }
   ],
   "source": [
    "try: \n",
    "    print(\"try\") \n",
    "except: \n",
    "    print(\"except\")\n",
    "if 10>20: \n",
    "    print(\"if\") \n",
    "else:\n",
    "    print(\"else\")"
   ]
  },
  {
   "cell_type": "code",
   "execution_count": 60,
   "id": "6030d104-2e9c-4bb9-aea5-a928c8298db0",
   "metadata": {},
   "outputs": [
    {
     "name": "stdout",
     "output_type": "stream",
     "text": [
      "try\n",
      "inner try\n",
      "inner finally block\n"
     ]
    }
   ],
   "source": [
    "try: \n",
    "    print(\"try\")\n",
    "    try: \n",
    "        print(\"inner try\") \n",
    "    except: \n",
    "        print(\"inner except block\") \n",
    "    finally: \n",
    "        print(\"inner finally block\")\n",
    "except: \n",
    "    print(\"except\")"
   ]
  },
  {
   "cell_type": "code",
   "execution_count": 61,
   "id": "0d0ce069-7deb-4d1c-8b7e-358b32c7ba6b",
   "metadata": {},
   "outputs": [
    {
     "name": "stdout",
     "output_type": "stream",
     "text": [
      "try\n"
     ]
    }
   ],
   "source": [
    "try: \n",
    "    print(\"try\")\n",
    "except: \n",
    "    print(\"except\")\n",
    "    try: \n",
    "        print(\"inner try\") \n",
    "    except: \n",
    "        print(\"inner except block\") \n",
    "    finally: \n",
    "        print(\"inner finally block\")"
   ]
  },
  {
   "cell_type": "code",
   "execution_count": 62,
   "id": "f2331b12-ded2-4060-a0d1-1c55889bec2d",
   "metadata": {},
   "outputs": [
    {
     "name": "stdout",
     "output_type": "stream",
     "text": [
      "try\n",
      "finally\n",
      "inner try\n",
      "inner finally block\n"
     ]
    }
   ],
   "source": [
    "try: \n",
    "    print(\"try\")\n",
    "except: \n",
    "    print(\"except\")\n",
    "finally:\n",
    "    print(\"finally\")\n",
    "    try: \n",
    "        print(\"inner try\") \n",
    "    except: \n",
    "        print(\"inner except block\") \n",
    "    finally: \n",
    "        print(\"inner finally block\")"
   ]
  },
  {
   "cell_type": "code",
   "execution_count": 63,
   "id": "6c2df086-3ff9-48a9-96c2-81b2e4d64c9d",
   "metadata": {},
   "outputs": [
    {
     "ename": "SyntaxError",
     "evalue": "expected 'except' or 'finally' block (1943100051.py, line 7)",
     "output_type": "error",
     "traceback": [
      "\u001b[1;36m  Cell \u001b[1;32mIn[63], line 7\u001b[1;36m\u001b[0m\n\u001b[1;33m    else:\u001b[0m\n\u001b[1;37m    ^\u001b[0m\n\u001b[1;31mSyntaxError\u001b[0m\u001b[1;31m:\u001b[0m expected 'except' or 'finally' block\n"
     ]
    }
   ],
   "source": [
    "try: \n",
    "    print(\"try\") \n",
    "except:\n",
    "    print(\"except\") \n",
    "try:\n",
    "    print(\"try\")\n",
    "else: \n",
    "    print(\"else\")"
   ]
  },
  {
   "cell_type": "code",
   "execution_count": 64,
   "id": "3e279371-a837-4d3a-8a21-d6ab575eb250",
   "metadata": {},
   "outputs": [
    {
     "ename": "SyntaxError",
     "evalue": "expected 'except' or 'finally' block (250844640.py, line 5)",
     "output_type": "error",
     "traceback": [
      "\u001b[1;36m  Cell \u001b[1;32mIn[64], line 5\u001b[1;36m\u001b[0m\n\u001b[1;33m    except:\u001b[0m\n\u001b[1;37m           ^\u001b[0m\n\u001b[1;31mSyntaxError\u001b[0m\u001b[1;31m:\u001b[0m expected 'except' or 'finally' block\n"
     ]
    }
   ],
   "source": [
    "try: \n",
    "    print(\"try\") \n",
    "    try:\n",
    "        print(\"inner try\")\n",
    "except:\n",
    "    print(\"except\")"
   ]
  },
  {
   "cell_type": "code",
   "execution_count": 65,
   "id": "8d642242-1a9a-431f-a1f1-42b2fd8dd646",
   "metadata": {},
   "outputs": [
    {
     "ename": "SyntaxError",
     "evalue": "expected 'except' or 'finally' block (428703167.py, line 3)",
     "output_type": "error",
     "traceback": [
      "\u001b[1;36m  Cell \u001b[1;32mIn[65], line 3\u001b[1;36m\u001b[0m\n\u001b[1;33m    else:\u001b[0m\n\u001b[1;37m    ^\u001b[0m\n\u001b[1;31mSyntaxError\u001b[0m\u001b[1;31m:\u001b[0m expected 'except' or 'finally' block\n"
     ]
    }
   ],
   "source": [
    "try: \n",
    "    print(\"try\") \n",
    "else:\n",
    "    print(\"else\") \n",
    "except: \n",
    "    print(\"except\") \n",
    "finally:\n",
    "    print(\"finally\")"
   ]
  },
  {
   "cell_type": "code",
   "execution_count": 66,
   "id": "6f8a7054-6cc1-4821-957e-1768a2683e2d",
   "metadata": {},
   "outputs": [
    {
     "name": "stdout",
     "output_type": "stream",
     "text": [
      "try\n",
      "else\n",
      "finally\n"
     ]
    }
   ],
   "source": [
    "try: \n",
    "    print(\"try\")  \n",
    "except: \n",
    "    print(\"except\") \n",
    "else:\n",
    "    print(\"else\")\n",
    "finally:\n",
    "    print(\"finally\")"
   ]
  },
  {
   "cell_type": "code",
   "execution_count": null,
   "id": "4b4e7279-f001-4ad3-b9d6-8ab1dc4467ef",
   "metadata": {},
   "outputs": [],
   "source": []
  }
 ],
 "metadata": {
  "kernelspec": {
   "display_name": "Python 3 (ipykernel)",
   "language": "python",
   "name": "python3"
  },
  "language_info": {
   "codemirror_mode": {
    "name": "ipython",
    "version": 3
   },
   "file_extension": ".py",
   "mimetype": "text/x-python",
   "name": "python",
   "nbconvert_exporter": "python",
   "pygments_lexer": "ipython3",
   "version": "3.11.5"
  }
 },
 "nbformat": 4,
 "nbformat_minor": 5
}
