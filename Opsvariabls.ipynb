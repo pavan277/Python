{
 "cells": [
  {
   "cell_type": "code",
   "execution_count": 14,
   "id": "28b91a0b-d3ef-4406-a1db-3d3200d4c888",
   "metadata": {},
   "outputs": [
    {
     "name": "stdout",
     "output_type": "stream",
     "text": [
      "{'name': 'pavan', 'mmno': 964433, 'email': 'pavan@gmai.com'}\n",
      "Hi pavan its ur day1 opps clss\n",
      "ur phone no: 964433\n",
      "ur E-mail is: pavan@gmai.com\n"
     ]
    }
   ],
   "source": [
    "#Opps concept\n",
    "class DayOne:\n",
    "    def __init__(self):\n",
    "        self.name= \"pavan\"\n",
    "        self.mmno = 964433\n",
    "        self.email = 'pavan@gmai.com'\n",
    "    def intro(self):\n",
    "        print('Hi',self.name,'its ur day1 opps clss')\n",
    "        print('ur phone no:',self.mmno)\n",
    "        print('ur E-mail is:',self.email)\n",
    "        \n",
    "obj = DayOne()\n",
    "print(obj.__dict__)\n",
    "obj.intro()"
   ]
  },
  {
   "cell_type": "code",
   "execution_count": 60,
   "id": "9a89b717-08cf-45a5-960a-3fe0308c6282",
   "metadata": {},
   "outputs": [
    {
     "name": "stdout",
     "output_type": "stream",
     "text": [
      "{'name': 'kumar', 'mbn': 9642267729, 'addr': 'dr.no 23,Taderu bvrm'}\n",
      "{'__module__': '__main__', 'country': 'Bharat', 'state': 'Andra', 'college': 'Adity', '__init__': <function Static.__init__ at 0x000001DB7D0BB600>, 'StaticExamp': <function Static.StaticExamp at 0x000001DB7D168180>, 'adders': <function Static.adders at 0x000001DB7D1693A0>, '__dict__': <attribute '__dict__' of 'Static' objects>, '__weakref__': <attribute '__weakref__' of 'Static' objects>, '__doc__': None}\n",
      "Hi kumar its ur day1 opps clss\n",
      "ur phone no: 9642267729\n",
      "ur ADDSERS is: dr.no 23,Taderu bvrm\n",
      "ur college name is Adity\n",
      "ur name is pavan\n",
      "ur from country is Bharat\n",
      "ur from State is Andra\n"
     ]
    }
   ],
   "source": [
    "class Static:\n",
    "    country = 'Bharat'\n",
    "    state = 'Andra'\n",
    "    college = 'Adity'\n",
    "    def __init__(self,n,mn,a):\n",
    "        self.name= n\n",
    "        self.mbn= mn\n",
    "        self.addr = a\n",
    "    def StaticExamp(self):\n",
    "        print('Hi',self.name,'its ur day1 opps clss')\n",
    "        print('ur phone no:',self.mbn)\n",
    "        print('ur ADDSERS is:',self.addr)\n",
    "        print('ur college name is',Static.college)\n",
    "    def adders(cls):\n",
    "        cls.nam='pavan'\n",
    "        print('ur name is',cls.nam)\n",
    "        print('ur from country is',Static.country)\n",
    "        print('ur from State is',Static.state)\n",
    "        \n",
    "        \n",
    "obj= Static('kumar',9642267729,'dr.no 23,Taderu bvrm') \n",
    "print(obj.__dict__)\n",
    "print(Static.__dict__)\n",
    "obj.StaticExamp()\n",
    "obj.adders()"
   ]
  },
  {
   "cell_type": "code",
   "execution_count": 61,
   "id": "d73a7d72-704a-4830-b13f-31f088f8e30e",
   "metadata": {},
   "outputs": [],
   "source": [
    "class Methods:\n",
    "     def __init__(self):\n",
    "         pass\n",
    "\n",
    "     def "
   ]
  },
  {
   "cell_type": "code",
   "execution_count": 2,
   "id": "a5927f23-4799-4a51-bd7f-49b726d3e6ff",
   "metadata": {},
   "outputs": [],
   "source": [
    "l =[1,2,3,4,5]"
   ]
  },
  {
   "cell_type": "code",
   "execution_count": 5,
   "id": "037f4852-898b-49ee-8448-9f0e8eec4ef6",
   "metadata": {},
   "outputs": [],
   "source": [
    "import numpy as np\n",
    "a=np.array([1,2,3,4,5])"
   ]
  },
  {
   "cell_type": "code",
   "execution_count": 7,
   "id": "bda934c3-4b29-4a88-af9b-fc52fe8d5f1b",
   "metadata": {},
   "outputs": [
    {
     "name": "stdout",
     "output_type": "stream",
     "text": [
      "[1 2 3 4 5]\n",
      "[1, 2, 3, 4, 5]\n"
     ]
    }
   ],
   "source": [
    "l\n",
    "print(a)\n",
    "print(l)"
   ]
  },
  {
   "cell_type": "code",
   "execution_count": null,
   "id": "07c4d5df-1351-449e-a18f-5b9006cf84e4",
   "metadata": {},
   "outputs": [],
   "source": []
  }
 ],
 "metadata": {
  "kernelspec": {
   "display_name": "Python 3 (ipykernel)",
   "language": "python",
   "name": "python3"
  },
  "language_info": {
   "codemirror_mode": {
    "name": "ipython",
    "version": 3
   },
   "file_extension": ".py",
   "mimetype": "text/x-python",
   "name": "python",
   "nbconvert_exporter": "python",
   "pygments_lexer": "ipython3",
   "version": "3.11.5"
  }
 },
 "nbformat": 4,
 "nbformat_minor": 5
}
