{
 "cells": [
  {
   "cell_type": "code",
   "execution_count": 4,
   "id": "86deaaf9-f0bd-46ba-bd2e-63b7134c4d43",
   "metadata": {},
   "outputs": [
    {
     "name": "stdout",
     "output_type": "stream",
     "text": [
      "Addition: 30\n",
      "Subtraction: 20\n",
      "Multiplication: 125\n",
      "Divison: 5.0\n",
      "Modulo(remainder): 0\n",
      "Floor divison: 5\n",
      "exponent(power) 9765625\n"
     ]
    }
   ],
   "source": [
    "a = 25\n",
    "b = 5\n",
    "\n",
    "print(\"Addition:\",a+b)\n",
    "print(\"Subtraction:\",a-b)\n",
    "print(\"Multiplication:\",a*b)\n",
    "print(\"Divison:\",a/b)\n",
    "print(\"Modulo(remainder):\",a%b)\n",
    "print(\"Floor divison:\",a//b)\n",
    "print(\"exponent(power)\",a**b)"
   ]
  },
  {
   "cell_type": "code",
   "execution_count": 5,
   "id": "5f23c2bc-a16a-4fc2-beaf-a4a205416181",
   "metadata": {},
   "outputs": [
    {
     "name": "stdout",
     "output_type": "stream",
     "text": [
      "a is greater than b         : False\n",
      "a is greater than or equal b: False\n",
      "a is lesser than b          : True\n",
      "a is lesser than or equal  b: True\n"
     ]
    }
   ],
   "source": [
    "a = 10\n",
    "b = 20\n",
    "print(\"a is greater than b         :\",a>b)\n",
    "print(\"a is greater than or equal b:\",a>=b)\n",
    "print(\"a is lesser than b          :\",a<b)\n",
    "print(\"a is lesser than or equal  b:\",a<=b)"
   ]
  },
  {
   "cell_type": "code",
   "execution_count": 10,
   "id": "40d2a623-3fa0-4f1e-9eea-c18c8a6a3b91",
   "metadata": {},
   "outputs": [
    {
     "name": "stdout",
     "output_type": "stream",
     "text": [
      "False\n"
     ]
    }
   ],
   "source": [
    "#Special Operators\n",
    "a = 10 \n",
    "b = 35\n",
    "print(a is b)\n",
    "\n",
    "\n"
   ]
  },
  {
   "cell_type": "code",
   "execution_count": 12,
   "id": "c5e1c4f2-7081-4e95-847d-a31272cbc15d",
   "metadata": {},
   "outputs": [
    {
     "name": "stdout",
     "output_type": "stream",
     "text": [
      "False\n"
     ]
    }
   ],
   "source": [
    "n = \"pavankumar\"\n",
    "s = \"pavankumAr\"\n",
    "print(n is s)"
   ]
  },
  {
   "cell_type": "code",
   "execution_count": 13,
   "id": "93dc4f0b-52d7-4726-a5c0-9a20ee97ed96",
   "metadata": {},
   "outputs": [
    {
     "name": "stdout",
     "output_type": "stream",
     "text": [
      "True\n"
     ]
    }
   ],
   "source": [
    "#Membership operators\n",
    "print('p' in n)\n"
   ]
  },
  {
   "cell_type": "code",
   "execution_count": 18,
   "id": "b8bc7453-5fd6-4769-87bc-a921eb1ccd98",
   "metadata": {},
   "outputs": [
    {
     "name": "stdout",
     "output_type": "stream",
     "text": [
      "True\n"
     ]
    },
    {
     "data": {
      "text/plain": [
       "['pavan', 1, 3, 'kumar']"
      ]
     },
     "execution_count": 18,
     "metadata": {},
     "output_type": "execute_result"
    }
   ],
   "source": [
    "ls = ['pavan',1,3,\"kumar\"]\n",
    "print('kumar' in ls)\n",
    "ls"
   ]
  },
  {
   "cell_type": "code",
   "execution_count": 24,
   "id": "8c3419b2-7c60-4224-adf4-d2a2efd18f30",
   "metadata": {},
   "outputs": [
    {
     "name": "stdin",
     "output_type": "stream",
     "text": [
      "enter a value a: 44\n",
      "enter a value b: 33\n"
     ]
    },
    {
     "name": "stdout",
     "output_type": "stream",
     "text": [
      "77\n"
     ]
    }
   ],
   "source": [
    "#input out put statements\n",
    "a = int(input(\"enter a value a:\"))\n",
    "b = int(input(\"enter a value b:\"))\n",
    "c = a+b\n",
    "print(c)\n"
   ]
  },
  {
   "cell_type": "code",
   "execution_count": 29,
   "id": "212670e8-37c2-4dd3-be5c-06faa7c06dde",
   "metadata": {},
   "outputs": [
    {
     "name": "stdin",
     "output_type": "stream",
     "text": [
      "Enter 2 numbers: 33 77\n"
     ]
    },
    {
     "name": "stdout",
     "output_type": "stream",
     "text": [
      "The Product of two numbers: 2541\n"
     ]
    }
   ],
   "source": [
    "#Reading multtiplle  values in singel line\n",
    "\n",
    "a,b = [int(x) for x in input(\"Enter 2 numbers:\").split()]\n",
    "print(\"The Product of two numbers:\",a*b)"
   ]
  },
  {
   "cell_type": "code",
   "execution_count": 31,
   "id": "50f54442-ccd5-4414-a8e7-b83c29455634",
   "metadata": {},
   "outputs": [
    {
     "name": "stdin",
     "output_type": "stream",
     "text": [
      "Enter 3 numbers: 3,2,6\n"
     ]
    },
    {
     "name": "stdout",
     "output_type": "stream",
     "text": [
      "Addition of given 3 numbers: 11\n"
     ]
    }
   ],
   "source": [
    "a,b,c = [int(x) for x in input(\"Enter 3 numbers:\").split(',')]\n",
    "print(\"Addition of given 3 numbers:\",a+b+c)"
   ]
  },
  {
   "cell_type": "code",
   "execution_count": 32,
   "id": "0b47788f-a3e8-40be-ac7e-02d5cdaf09b7",
   "metadata": {},
   "outputs": [
    {
     "name": "stdin",
     "output_type": "stream",
     "text": [
      "Enter 3 numbers: 3,4,4,6\n"
     ]
    },
    {
     "name": "stdout",
     "output_type": "stream",
     "text": [
      "Addition of given 3 numbers: 17\n"
     ]
    }
   ],
   "source": [
    "a,b,c,d= [int(x) for x in input(\"Enter 3 numbers:\").split(',')]\n",
    "print(\"Addition of given 3 numbers:\",a+b+c+d)"
   ]
  },
  {
   "cell_type": "code",
   "execution_count": 40,
   "id": "fe08f364-745c-43a3-a639-08430674ce31",
   "metadata": {},
   "outputs": [
    {
     "name": "stdin",
     "output_type": "stream",
     "text": [
      "enter list values [1,2,3,4,5]\n"
     ]
    },
    {
     "name": "stdout",
     "output_type": "stream",
     "text": [
      "[1, 2, 3, 4, 5]\n"
     ]
    }
   ],
   "source": [
    "ls = eval(input('enter list values'))\n",
    "print(ls)\n"
   ]
  },
  {
   "cell_type": "code",
   "execution_count": 41,
   "id": "33c53bf0-325e-4160-93a7-a47759e482fb",
   "metadata": {},
   "outputs": [],
   "source": [
    "from sys import argv\n"
   ]
  },
  {
   "cell_type": "code",
   "execution_count": null,
   "id": "1d44c350-f893-4e50-bd2c-b2036565fb6e",
   "metadata": {},
   "outputs": [],
   "source": []
  }
 ],
 "metadata": {
  "kernelspec": {
   "display_name": "Python 3 (ipykernel)",
   "language": "python",
   "name": "python3"
  },
  "language_info": {
   "codemirror_mode": {
    "name": "ipython",
    "version": 3
   },
   "file_extension": ".py",
   "mimetype": "text/x-python",
   "name": "python",
   "nbconvert_exporter": "python",
   "pygments_lexer": "ipython3",
   "version": "3.11.5"
  }
 },
 "nbformat": 4,
 "nbformat_minor": 5
}
