{
 "cells": [
  {
   "cell_type": "code",
   "execution_count": null,
   "id": "9edd38c2-b0ca-4491-b0f8-d5ed8f5d3dc0",
   "metadata": {},
   "outputs": [],
   "source": [
    "#Set Data Structure\n",
    "\n",
    "    if we to represent a group of unique values as a single entity\n",
    "    duplicates are not allowed\n",
    "    insertion order is not preserved but we can sort elements\n",
    "    slicing and inndexing is not possible\n",
    "    heterogenious elements are allowed\n",
    "    Creation of set objects"
   ]
  },
  {
   "cell_type": "code",
   "execution_count": 16,
   "id": "a69d0f4f-7e9e-4ce1-8645-6c8c0d6151b4",
   "metadata": {},
   "outputs": [
    {
     "name": "stdout",
     "output_type": "stream",
     "text": [
      "1638933223840\n",
      "<class 'set'>\n",
      "1638933222496\n"
     ]
    },
    {
     "data": {
      "text/plain": [
       "{1, 4, 77}"
      ]
     },
     "execution_count": 16,
     "metadata": {},
     "output_type": "execute_result"
    }
   ],
   "source": [
    "st = {1,4,77,}\n",
    "\n",
    "s  = {1,4,77}\n",
    "print(id(s))\n",
    "print(type(st))\n",
    "\n",
    "print(id(st))\n",
    "st"
   ]
  },
  {
   "cell_type": "code",
   "execution_count": 47,
   "id": "7ac2c388-7ee2-4165-a225-69f1764f42f1",
   "metadata": {},
   "outputs": [
    {
     "name": "stdout",
     "output_type": "stream",
     "text": [
      "1638933936192\n",
      "1638939346080\n"
     ]
    }
   ],
   "source": [
    "s= set(range(3,6))\n",
    "s\n",
    "s.add(7)\n",
    "s\n",
    "st\n",
    "s.update(st)\n",
    "s.update(range(8))\n",
    "s\n",
    "sc = s.copy()\n",
    "sc\n",
    "print(id(s))\n",
    "print(id(sc))\n"
   ]
  },
  {
   "cell_type": "code",
   "execution_count": 54,
   "id": "f8686026-f456-466a-9249-3779929d16b1",
   "metadata": {},
   "outputs": [
    {
     "data": {
      "text/plain": [
       "{6, 7, 77}"
      ]
     },
     "execution_count": 54,
     "metadata": {},
     "output_type": "execute_result"
    }
   ],
   "source": [
    "sc.pop()\n",
    "\n",
    "sc"
   ]
  },
  {
   "cell_type": "code",
   "execution_count": 83,
   "id": "6fdcc7be-2ee8-4044-9367-0c10594950ce",
   "metadata": {},
   "outputs": [
    {
     "name": "stdout",
     "output_type": "stream",
     "text": [
      "{33, 2, 3, 7, 456, 8}\n"
     ]
    },
    {
     "data": {
      "text/plain": [
       "{3, 7, 8, 456}"
      ]
     },
     "execution_count": 83,
     "metadata": {},
     "output_type": "execute_result"
    }
   ],
   "source": [
    "sp = {33,2,3,456,7,8,8,8}\n",
    "\n",
    "print(sp)\n",
    "sp.pop()\n",
    "sp\n",
    "sp.pop()\n",
    "sp\n",
    "\n"
   ]
  },
  {
   "cell_type": "code",
   "execution_count": 107,
   "id": "69e639c3-72cd-4b3d-b6ca-1233bb14f6f2",
   "metadata": {},
   "outputs": [],
   "source": [
    "sps={1,2,3,45,6,7,8,8,}\n",
    "sps.discard(8)\n",
    "sps.clear()\n",
    "\n",
    "\n"
   ]
  },
  {
   "cell_type": "code",
   "execution_count": 4,
   "id": "e21d0045-f1d8-4f83-a852-44323bccf66d",
   "metadata": {},
   "outputs": [
    {
     "data": {
      "text/plain": [
       "{'a', 'n', 'p', 'v'}"
      ]
     },
     "execution_count": 4,
     "metadata": {},
     "output_type": "execute_result"
    }
   ],
   "source": [
    "sps = {10,20,40}\n",
    "sps1 = {30,83,10,55}\n",
    "sps.union(sps1)\n",
    "sps.intersection(sps1)\n",
    "sps1.difference(sps)\n",
    "sps.symmetric_difference(sps1)\n",
    "sn = {'kiran'}\n",
    "sn =set('pavan')\n",
    "sn\n",
    "\n"
   ]
  },
  {
   "cell_type": "code",
   "execution_count": 6,
   "id": "c0da1757-869f-4ccf-887b-66590abb9b19",
   "metadata": {},
   "outputs": [
    {
     "data": {
      "text/plain": [
       "True"
      ]
     },
     "execution_count": 6,
     "metadata": {},
     "output_type": "execute_result"
    }
   ],
   "source": [
    "sn\n",
    "'p' in sn"
   ]
  },
  {
   "cell_type": "code",
   "execution_count": 122,
   "id": "b980dcf6-3680-4486-b38c-a116c01b2a62",
   "metadata": {},
   "outputs": [
    {
     "data": {
      "text/plain": [
       "False"
      ]
     },
     "execution_count": 122,
     "metadata": {},
     "output_type": "execute_result"
    }
   ],
   "source": [
    "'w' in sn"
   ]
  },
  {
   "cell_type": "code",
   "execution_count": 27,
   "id": "ba7bf9ea-66af-4bc6-b68e-24359bb48a1b",
   "metadata": {},
   "outputs": [
    {
     "data": {
      "text/plain": [
       "{24, 27}"
      ]
     },
     "execution_count": 27,
     "metadata": {},
     "output_type": "execute_result"
    }
   ],
   "source": [
    "sc = {3,5}\n",
    "sc\n",
    "sc = {i*3 for i in {8,9}}\n",
    "r= {i*2 for i in range(2,10)}\n",
    "r\n",
    "sc\n",
    "\n",
    "\n"
   ]
  },
  {
   "cell_type": "code",
   "execution_count": null,
   "id": "a3733df1-eab2-42e8-9900-671c4dca2e28",
   "metadata": {},
   "outputs": [],
   "source": []
  },
  {
   "cell_type": "code",
   "execution_count": null,
   "id": "b3cde25a-ea60-4e0c-8946-1c3697a8e723",
   "metadata": {},
   "outputs": [],
   "source": []
  }
 ],
 "metadata": {
  "kernelspec": {
   "display_name": "Python 3 (ipykernel)",
   "language": "python",
   "name": "python3"
  },
  "language_info": {
   "codemirror_mode": {
    "name": "ipython",
    "version": 3
   },
   "file_extension": ".py",
   "mimetype": "text/x-python",
   "name": "python",
   "nbconvert_exporter": "python",
   "pygments_lexer": "ipython3",
   "version": "3.11.5"
  }
 },
 "nbformat": 4,
 "nbformat_minor": 5
}
