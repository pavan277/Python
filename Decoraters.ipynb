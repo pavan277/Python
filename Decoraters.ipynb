{
 "cells": [
  {
   "cell_type": "code",
   "execution_count": 65,
   "id": "0f4cea1b-1512-429f-abef-b784ca7f584d",
   "metadata": {},
   "outputs": [],
   "source": [
    "@wish_decar\n",
    "def wish():\n",
    "    print('hi welcome to decoraters in python')"
   ]
  },
  {
   "cell_type": "code",
   "execution_count": 64,
   "id": "23c063a9-3f1d-4b7c-a278-df47ac0a3058",
   "metadata": {},
   "outputs": [],
   "source": [
    "def wish_decar(fun):\n",
    "    def inside():\n",
    "        stri= fun()\n",
    "        stri.upper()\n",
    "    return inside\n",
    "    \n"
   ]
  },
  {
   "cell_type": "code",
   "execution_count": 67,
   "id": "14f3588d-55fe-469e-a866-907cc2eaab9a",
   "metadata": {},
   "outputs": [
    {
     "name": "stdout",
     "output_type": "stream",
     "text": [
      "first value 2\n",
      "second value 3\n",
      "addition of two values: 5\n"
     ]
    }
   ],
   "source": [
    "def dec(func):\n",
    "    def inner(a,b):\n",
    "        print(\"first value\",a)\n",
    "        print(\"second value\",b)\n",
    "        print(\"addition of two values:\",a+b)\n",
    "    return inner\n",
    "\n",
    "@dec\n",
    "def add(a,b):\n",
    "    print(a+b)\n",
    "    \n",
    "add(2,3)\n"
   ]
  },
  {
   "cell_type": "code",
   "execution_count": 73,
   "id": "30501e6d-306f-4c78-b706-d1a08746eb03",
   "metadata": {},
   "outputs": [
    {
     "name": "stdout",
     "output_type": "stream",
     "text": [
      "power coating is done..\n",
      "bus wiring is done..\n",
      "bus doors are fixed..\n",
      "engine is installed..\n",
      "bus chasis is ready\n"
     ]
    }
   ],
   "source": [
    "def bus_dec(func):\n",
    "    def inner(part):\n",
    "        print(\"power coating is done..\")\n",
    "        print(\"bus wiring is done..\")\n",
    "        print(\"bus doors are fixed..\")\n",
    "        print(\"engine is installed..\")\n",
    "        func(part)\n",
    "    return inner    \n",
    "\n",
    "@bus_dec\n",
    "def bus(part):\n",
    "    print(\"bus\",part,\"is ready\")\n",
    "\n",
    "bus(\"chasis\")"
   ]
  },
  {
   "cell_type": "code",
   "execution_count": 75,
   "id": "c27eff14-d380-4482-bbca-c7865c1887ca",
   "metadata": {},
   "outputs": [],
   "source": [
    "def decor_name(func):\n",
    "    def inner(name):\n",
    "        if name==\"pavan\":\n",
    "            print(\"Hello\",name, \"How are you???\")\n",
    "            print(\"you're authorized person\")\n",
    "            print(\"you are allowed to enter into strong room\")\n",
    "        else:\n",
    "            func(name)\n",
    "    return inner\n",
    "\n",
    "@decor_name\n",
    "def wish(name):\n",
    "    print(\"hi\",name,\"Good morning..\")"
   ]
  },
  {
   "cell_type": "code",
   "execution_count": 78,
   "id": "403ca159-08c7-4474-bc03-2bbaecae5257",
   "metadata": {},
   "outputs": [
    {
     "name": "stdout",
     "output_type": "stream",
     "text": [
      "hi hemanth Good morning..\n"
     ]
    }
   ],
   "source": [
    "wish('hemanth')"
   ]
  },
  {
   "cell_type": "code",
   "execution_count": 79,
   "id": "2a63337f-3352-4642-af57-79d0a9f3e1a4",
   "metadata": {},
   "outputs": [
    {
     "name": "stdout",
     "output_type": "stream",
     "text": [
      "Hello pavan How are you???\n",
      "you're authorized person\n",
      "you are allowed to enter into strong room\n"
     ]
    }
   ],
   "source": [
    "wish('pavan')"
   ]
  },
  {
   "cell_type": "code",
   "execution_count": 101,
   "id": "78fef2a4-148b-4f3f-88d0-7b971105e6e9",
   "metadata": {},
   "outputs": [
    {
     "name": "stdout",
     "output_type": "stream",
     "text": [
      "iam extent function\n",
      "hi iam original\n"
     ]
    }
   ],
   "source": [
    "@dec_greet\n",
    "def greet():\n",
    "    print(\"hi iam original\")\n",
    "\n",
    "greet()"
   ]
  },
  {
   "cell_type": "code",
   "execution_count": 100,
   "id": "2cabb17a-58bc-4527-8e25-a64d09b5569a",
   "metadata": {},
   "outputs": [],
   "source": [
    "def dec_greet(fun):\n",
    "    def inner():\n",
    "        \n",
    "        print(\"iam extent function\")\n",
    "        fun()\n",
    "    return inner"
   ]
  },
  {
   "cell_type": "code",
   "execution_count": 102,
   "id": "6730dd8f-a98a-408c-8ce4-535dc16304b0",
   "metadata": {},
   "outputs": [
    {
     "name": "stdout",
     "output_type": "stream",
     "text": [
      "iam extent function\n",
      "hi iam original\n"
     ]
    }
   ],
   "source": [
    "greet()"
   ]
  },
  {
   "cell_type": "code",
   "execution_count": 107,
   "id": "14e0fbff-1173-4da4-990d-08d11a3f40db",
   "metadata": {},
   "outputs": [
    {
     "name": "stdout",
     "output_type": "stream",
     "text": [
      "hi pavan please enter your password\n",
      "hi good morning pavan\n",
      "you can enter into the strong room...\n"
     ]
    }
   ],
   "source": [
    "@authentication\n",
    "def login(name):\n",
    "    print(\"hi\",name,\"please enter your password\")\n",
    "\n",
    "def authentication(func):\n",
    "    def inner(name):\n",
    "        if name==\"pavan\":\n",
    "            func(name)\n",
    "            print(\"hi good morning {}\".format(name))\n",
    "            print(\"you can enter into the strong room...\")\n",
    "        else:\n",
    "            func(name)\n",
    "            print(\"unauthorised access denied sorry try again\")\n",
    "    return inner\n",
    "\n",
    "login('pavan')\n"
   ]
  },
  {
   "cell_type": "code",
   "execution_count": 108,
   "id": "179fda6b-de50-45d3-af75-6c23734a8355",
   "metadata": {},
   "outputs": [
    {
     "name": "stdout",
     "output_type": "stream",
     "text": [
      "hi hemanth please enter your password\n",
      "unauthorised access denied sorry try again\n"
     ]
    }
   ],
   "source": [
    "login('hemanth')"
   ]
  },
  {
   "cell_type": "code",
   "execution_count": null,
   "id": "942ea21e-59ed-49b3-93b9-a10a901ba071",
   "metadata": {},
   "outputs": [],
   "source": []
  }
 ],
 "metadata": {
  "kernelspec": {
   "display_name": "Python 3 (ipykernel)",
   "language": "python",
   "name": "python3"
  },
  "language_info": {
   "codemirror_mode": {
    "name": "ipython",
    "version": 3
   },
   "file_extension": ".py",
   "mimetype": "text/x-python",
   "name": "python",
   "nbconvert_exporter": "python",
   "pygments_lexer": "ipython3",
   "version": "3.11.5"
  }
 },
 "nbformat": 4,
 "nbformat_minor": 5
}
