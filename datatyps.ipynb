{
 "cells": [
  {
   "cell_type": "code",
   "execution_count": 5,
   "id": "c552bb09-9137-4191-8758-1eacb462446d",
   "metadata": {},
   "outputs": [
    {
     "name": "stdout",
     "output_type": "stream",
     "text": [
      "0\n",
      "1\n",
      "2\n",
      "3\n",
      "4\n",
      "5\n",
      "6\n",
      "7\n",
      "8\n",
      "9\n"
     ]
    }
   ],
   "source": [
    "for i in range(10):\n",
    "    print(i)"
   ]
  },
  {
   "cell_type": "code",
   "execution_count": 7,
   "id": "cd254adc-d1c8-40af-9522-1fe2bc6d7f0c",
   "metadata": {},
   "outputs": [
    {
     "name": "stdout",
     "output_type": "stream",
     "text": [
      "4\n",
      "5\n",
      "6\n",
      "7\n",
      "8\n",
      "9\n",
      "10\n",
      "11\n",
      "12\n",
      "13\n",
      "14\n"
     ]
    }
   ],
   "source": [
    "for i in range(4,15):\n",
    "    print(i)"
   ]
  },
  {
   "cell_type": "code",
   "execution_count": 8,
   "id": "ee9da76b-2e42-4c7c-9336-6e0645b94a3c",
   "metadata": {},
   "outputs": [
    {
     "name": "stdout",
     "output_type": "stream",
     "text": [
      "0\n",
      "1\n",
      "2\n",
      "3\n",
      "4\n",
      "5\n",
      "6\n",
      "7\n",
      "8\n",
      "9\n"
     ]
    }
   ],
   "source": [
    "for i in range(0,10):\n",
    "    print(i)"
   ]
  },
  {
   "cell_type": "raw",
   "id": "cf5f6735-945e-4703-87e3-0dbd009b0551",
   "metadata": {},
   "source": [
    "#list\n",
    "l1 = [10,\"naidus\",\"pavan\",66]\n",
    "print(list)"
   ]
  },
  {
   "cell_type": "code",
   "execution_count": 17,
   "id": "76fb114a-3250-4583-bb2a-942334d73459",
   "metadata": {},
   "outputs": [
    {
     "name": "stdout",
     "output_type": "stream",
     "text": [
      "list are immutables\n",
      "data type is ist [2, 5, 7]\n",
      "data type is ist [88, 99, 'pavan', 'naidus']\n"
     ]
    }
   ],
   "source": [
    "i1 =[2,5,7 ]\n",
    "i2 = [88,99,\"pavan\",\"naidus\",]\n",
    "print(\"list are immutables\")\n",
    "print(\"data type is ist\",i1)\n",
    "print(\"data type is ist\",i2)\n",
    "\n",
    "\n"
   ]
  },
  {
   "cell_type": "code",
   "execution_count": 18,
   "id": "ffb6db3b-64f5-4f0e-8327-4dfa2f9ea25b",
   "metadata": {},
   "outputs": [
    {
     "name": "stdout",
     "output_type": "stream",
     "text": [
      "[88, 99, 'pavan', 'naidus']\n"
     ]
    }
   ],
   "source": [
    "print(i2)"
   ]
  },
  {
   "cell_type": "code",
   "execution_count": 38,
   "id": "cd83ea53-6513-4e4b-96ed-7eccdc43cc61",
   "metadata": {},
   "outputs": [
    {
     "name": "stdout",
     "output_type": "stream",
     "text": [
      "5\n",
      "2\n"
     ]
    },
    {
     "ename": "IndexError",
     "evalue": "list index out of range",
     "output_type": "error",
     "traceback": [
      "\u001b[1;31m---------------------------------------------------------------------------\u001b[0m",
      "\u001b[1;31mIndexError\u001b[0m                                Traceback (most recent call last)",
      "Cell \u001b[1;32mIn[38], line 3\u001b[0m\n\u001b[0;32m      1\u001b[0m \u001b[38;5;28mprint\u001b[39m(i1[\u001b[38;5;241m1\u001b[39m])\n\u001b[0;32m      2\u001b[0m \u001b[38;5;28mprint\u001b[39m(i1[\u001b[38;5;241m0\u001b[39m])\n\u001b[1;32m----> 3\u001b[0m \u001b[38;5;28mprint\u001b[39m(\u001b[43mi2\u001b[49m\u001b[43m[\u001b[49m\u001b[38;5;241;43m3\u001b[39;49m\u001b[43m]\u001b[49m)\n\u001b[0;32m      4\u001b[0m \u001b[38;5;28mprint\u001b[39m(i2[\u001b[38;5;241m0\u001b[39m:\u001b[38;5;241m3\u001b[39m])\n",
      "\u001b[1;31mIndexError\u001b[0m: list index out of range"
     ]
    }
   ],
   "source": [
    "print(i1[1])\n",
    "print(i1[0])\n",
    "print(i2[3])\n",
    "print(i2[0:3])"
   ]
  },
  {
   "cell_type": "code",
   "execution_count": 39,
   "id": "664a1885-8cf4-4bf9-ae0b-5b876560f2ca",
   "metadata": {},
   "outputs": [
    {
     "name": "stdout",
     "output_type": "stream",
     "text": [
      "pavan\n",
      "naidus\n",
      "yallabandi\n"
     ]
    }
   ],
   "source": [
    "for i in i2:\n",
    "    print(i)"
   ]
  },
  {
   "cell_type": "code",
   "execution_count": 44,
   "id": "9f189ec4-e4ae-4a74-9169-ecd7221f3754",
   "metadata": {},
   "outputs": [
    {
     "name": "stdout",
     "output_type": "stream",
     "text": [
      "[2, 5, 7, 'kumar', 'kumar yallabandi', 'kumar yallabandi']\n",
      "[2, 7, 'kumar', 'kumar yallabandi', 'kumar yallabandi']\n"
     ]
    }
   ],
   "source": [
    "i1.append(\"kumar yallabandi\")\n",
    "print(i1)\n",
    "i1.remove(5)\n",
    "print(i1)\n",
    "\n"
   ]
  },
  {
   "cell_type": "code",
   "execution_count": 49,
   "id": "552c2347-1a7b-4f71-96bb-8d4a14064b54",
   "metadata": {},
   "outputs": [
    {
     "name": "stdout",
     "output_type": "stream",
     "text": [
      "<class 'tuple'>\n",
      "(10, 20, 30, 40)\n"
     ]
    },
    {
     "data": {
      "text/plain": [
       "20"
      ]
     },
     "execution_count": 49,
     "metadata": {},
     "output_type": "execute_result"
    }
   ],
   "source": [
    "tuple= (10,20,30,40)\n",
    "print(type(tuple))\n",
    "print(tuple)\n",
    "tuple[1]\n"
   ]
  },
  {
   "cell_type": "code",
   "execution_count": 55,
   "id": "7fbf0aa9-f419-4a77-a73c-170e9be5ba5d",
   "metadata": {},
   "outputs": [
    {
     "name": "stdout",
     "output_type": "stream",
     "text": [
      "{'kumar', True, 20.15, (30+3j), 10}\n",
      "{'kumar', True, 20.15, (30+3j), 10, 'bhargav'}\n",
      "{'kumar', True, 20.15, (30+3j), 'bhargav'}\n"
     ]
    }
   ],
   "source": [
    "#Set data types\n",
    "set = {10,20.15,30+3j,True,\"kumar\"}\n",
    "print(set)\n",
    "set.add(\"bhargav\")\n",
    "print(set)\n",
    "set.remove(10)\n",
    "print(set)\n"
   ]
  },
  {
   "cell_type": "code",
   "execution_count": 56,
   "id": "40fdf88b-9f09-41f0-9ee2-4b6c8d227eb9",
   "metadata": {},
   "outputs": [
    {
     "name": "stdout",
     "output_type": "stream",
     "text": [
      "<class 'frozenset'>\n",
      "40\n",
      "10\n",
      "20\n",
      "30\n"
     ]
    }
   ],
   "source": [
    "#frozenset Data Type\n",
    "s={10,20,30,40}\n",
    "fs=frozenset(s)\n",
    "print(type(fs))\n",
    "\n",
    "for i in fs:print(i)"
   ]
  },
  {
   "cell_type": "code",
   "execution_count": null,
   "id": "55c3d8ce-aef3-4e5d-afa1-0fe295cb7d3c",
   "metadata": {},
   "outputs": [],
   "source": [
    "#dictonary Data Type:\n"
   ]
  }
 ],
 "metadata": {
  "kernelspec": {
   "display_name": "Python 3 (ipykernel)",
   "language": "python",
   "name": "python3"
  },
  "language_info": {
   "codemirror_mode": {
    "name": "ipython",
    "version": 3
   },
   "file_extension": ".py",
   "mimetype": "text/x-python",
   "name": "python",
   "nbconvert_exporter": "python",
   "pygments_lexer": "ipython3",
   "version": "3.11.5"
  }
 },
 "nbformat": 4,
 "nbformat_minor": 5
}
