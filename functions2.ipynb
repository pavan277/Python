{
 "cells": [
  {
   "cell_type": "code",
   "execution_count": 2,
   "id": "96d6435e-4b82-46fa-8e85-bd3aaa3b90ce",
   "metadata": {},
   "outputs": [],
   "source": [
    "#MAP\n",
    "## map:- for every element in a given sequence apply some functonality and generate new element with required modification\n",
    "\n",
    "\n",
    "\n"
   ]
  },
  {
   "cell_type": "code",
   "execution_count": 7,
   "id": "cb8a4a64-7c4e-4d88-9c4f-3a315bdf5d43",
   "metadata": {},
   "outputs": [
    {
     "data": {
      "text/plain": [
       "10"
      ]
     },
     "execution_count": 7,
     "metadata": {},
     "output_type": "execute_result"
    }
   ],
   "source": [
    "\n",
    "def multi(y):\n",
    "    return 2*y\n",
    "multi(5)\n"
   ]
  },
  {
   "cell_type": "code",
   "execution_count": 9,
   "id": "49a04b13-4b0a-42eb-b6d1-636adee89c4b",
   "metadata": {},
   "outputs": [
    {
     "data": {
      "text/plain": [
       "[2, 4, 8, 10]"
      ]
     },
     "execution_count": 9,
     "metadata": {},
     "output_type": "execute_result"
    }
   ],
   "source": [
    "x= [1,2,4,5]\n",
    "n = []\n",
    "for i in x:\n",
    "    n.append((multi(i)))\n",
    "n"
   ]
  },
  {
   "cell_type": "code",
   "execution_count": 12,
   "id": "4e70f727-71d5-43bb-b6c7-3838be466a5c",
   "metadata": {},
   "outputs": [
    {
     "data": {
      "text/plain": [
       "[2, 4, 8, 10]"
      ]
     },
     "execution_count": 12,
     "metadata": {},
     "output_type": "execute_result"
    }
   ],
   "source": [
    "(map(multi,n))\n",
    "list((map(multi,x)))"
   ]
  },
  {
   "cell_type": "code",
   "execution_count": 14,
   "id": "07824863-49dd-45cd-9e19-d2012d153f37",
   "metadata": {},
   "outputs": [
    {
     "data": {
      "text/plain": [
       "[4, 8, 16, 24, 48]"
      ]
     },
     "execution_count": 14,
     "metadata": {},
     "output_type": "execute_result"
    }
   ],
   "source": [
    "l=[2,4,8,12,24]\n",
    "list(map(lambda x:2*x,l))"
   ]
  },
  {
   "cell_type": "code",
   "execution_count": 27,
   "id": "e504ffe6-67de-48ea-9268-18401ade240c",
   "metadata": {},
   "outputs": [
    {
     "data": {
      "text/plain": [
       "[71.6, 40.1, 109.4, 95.0]"
      ]
     },
     "execution_count": 27,
     "metadata": {},
     "output_type": "execute_result"
    }
   ],
   "source": [
    "def fahrenheit(T):\n",
    "    return ((float(9/5)*T)+32)  \n",
    "\n",
    "def celsius(T):\n",
    "    return ((T-32)*float(5/9))\n",
    "fahrenheit(33)\n",
    "celsius(91.4)\n",
    "\n",
    "t = [22,4.5,43,35]\n",
    "ft = []\n",
    "for i in t:\n",
    "    ft.append((fahrenheit(i)))\n",
    "ft\n"
   ]
  },
  {
   "cell_type": "code",
   "execution_count": 28,
   "id": "3261d343-1b99-4d60-acc3-b9ad37bde80c",
   "metadata": {},
   "outputs": [
    {
     "data": {
      "text/plain": [
       "[71.6, 40.1, 109.4, 95.0]"
      ]
     },
     "execution_count": 28,
     "metadata": {},
     "output_type": "execute_result"
    }
   ],
   "source": [
    "list(map(lambda f: (float(9/5)*f)+32 , t))"
   ]
  },
  {
   "cell_type": "code",
   "execution_count": 29,
   "id": "0a2260ed-f40f-4344-9a48-68cc7f8e9152",
   "metadata": {},
   "outputs": [
    {
     "data": {
      "text/plain": [
       "[-5.555555555555555,\n",
       " -15.277777777777779,\n",
       " 6.111111111111112,\n",
       " 1.6666666666666667]"
      ]
     },
     "execution_count": 29,
     "metadata": {},
     "output_type": "execute_result"
    }
   ],
   "source": [
    "list(map(lambda c: (c-32)*float(5/9),t))"
   ]
  },
  {
   "cell_type": "code",
   "execution_count": 34,
   "id": "62a96f79-0d2b-4a4c-87e2-e22b48b71d0d",
   "metadata": {},
   "outputs": [
    {
     "data": {
      "text/plain": [
       "['DURGA', 'PAVAN', 'KUMAR']"
      ]
     },
     "execution_count": 34,
     "metadata": {},
     "output_type": "execute_result"
    }
   ],
   "source": [
    "#converting lower case list into upper case list\n",
    "l = ['durga','pavan','kumar']\n",
    "ul =[]\n",
    "for i in l:\n",
    "    ul.append(i.upper())\n",
    "ul"
   ]
  },
  {
   "cell_type": "code",
   "execution_count": 35,
   "id": "686bfb1f-f94d-46a9-ba1a-3234606b1027",
   "metadata": {},
   "outputs": [
    {
     "data": {
      "text/plain": [
       "['DURGA', 'PAVAN', 'KUMAR']"
      ]
     },
     "execution_count": 35,
     "metadata": {},
     "output_type": "execute_result"
    }
   ],
   "source": [
    "def convert(n):\n",
    "    return n.upper()\n",
    "\n",
    "list(map(convert,l))"
   ]
  },
  {
   "cell_type": "code",
   "execution_count": 36,
   "id": "25e5f428-76fe-44e7-8642-a7c9d1afe7e1",
   "metadata": {},
   "outputs": [
    {
     "data": {
      "text/plain": [
       "[9, 36, 64, 49, 81, 121]"
      ]
     },
     "execution_count": 36,
     "metadata": {},
     "output_type": "execute_result"
    }
   ],
   "source": [
    "l=[3,6,8,7,9,11]\n",
    "list(map(lambda x:x*x, l))"
   ]
  },
  {
   "cell_type": "code",
   "execution_count": 38,
   "id": "1b4dede2-61ac-42c5-a1fe-0ba97ae69a17",
   "metadata": {},
   "outputs": [
    {
     "data": {
      "text/plain": [
       "(9, 36, 64, 49, 81, 121)"
      ]
     },
     "execution_count": 38,
     "metadata": {},
     "output_type": "execute_result"
    }
   ],
   "source": [
    "\n",
    "tuple(map(lambda x:x*x, l))"
   ]
  },
  {
   "cell_type": "code",
   "execution_count": 39,
   "id": "43cbc7ae-902b-40ee-bed9-c82794aa88ce",
   "metadata": {},
   "outputs": [
    {
     "data": {
      "text/plain": [
       "{9, 36, 49, 64, 81, 121}"
      ]
     },
     "execution_count": 39,
     "metadata": {},
     "output_type": "execute_result"
    }
   ],
   "source": [
    "set(map(lambda x:x*x, l))"
   ]
  },
  {
   "cell_type": "code",
   "execution_count": 40,
   "id": "377040a4-e2b5-4a18-bf6a-19b59a3d9b07",
   "metadata": {},
   "outputs": [
    {
     "data": {
      "text/plain": [
       "[9, 36, 64, 49, 81, 121]"
      ]
     },
     "execution_count": 40,
     "metadata": {},
     "output_type": "execute_result"
    }
   ],
   "source": [
    "#tuple seqence\n",
    "tm=(3,6,8,7,9,11)\n",
    "list(map(lambda x:x*x, tm))"
   ]
  },
  {
   "cell_type": "code",
   "execution_count": 42,
   "id": "b0e46098-3564-432a-9043-432e1de1021f",
   "metadata": {},
   "outputs": [
    {
     "data": {
      "text/plain": [
       "(9, 36, 64, 49, 81, 121)"
      ]
     },
     "execution_count": 42,
     "metadata": {},
     "output_type": "execute_result"
    }
   ],
   "source": [
    "tuple(map(lambda x:x*x, tm))"
   ]
  },
  {
   "cell_type": "code",
   "execution_count": 43,
   "id": "48cdfe02-ab49-456b-8287-702a1770242f",
   "metadata": {},
   "outputs": [
    {
     "data": {
      "text/plain": [
       "{9, 36, 49, 64, 81, 121}"
      ]
     },
     "execution_count": 43,
     "metadata": {},
     "output_type": "execute_result"
    }
   ],
   "source": [
    "set(map(lambda x:x*x, tm))"
   ]
  },
  {
   "cell_type": "code",
   "execution_count": 44,
   "id": "87a32197-9798-47c8-b33e-ffaca65fc427",
   "metadata": {},
   "outputs": [
    {
     "data": {
      "text/plain": [
       "'<map object at 0x000001695E27F730>'"
      ]
     },
     "execution_count": 44,
     "metadata": {},
     "output_type": "execute_result"
    }
   ],
   "source": [
    "str(map(lambda x:x*x, tm))"
   ]
  },
  {
   "cell_type": "code",
   "execution_count": 45,
   "id": "6afe02d0-efd4-4030-8b22-97b7dd95aee2",
   "metadata": {},
   "outputs": [
    {
     "data": {
      "text/plain": [
       "[1, 9, 25, 49, 81, 121]"
      ]
     },
     "execution_count": 45,
     "metadata": {},
     "output_type": "execute_result"
    }
   ],
   "source": [
    "#set Sequence\n",
    "sm={1,3,5,7,9,11}\n",
    "list(map(lambda x:x*x, sm))"
   ]
  },
  {
   "cell_type": "code",
   "execution_count": 46,
   "id": "8e8674d2-d180-45d5-b416-5e27236a2a58",
   "metadata": {},
   "outputs": [
    {
     "data": {
      "text/plain": [
       "(1, 9, 25, 49, 81, 121)"
      ]
     },
     "execution_count": 46,
     "metadata": {},
     "output_type": "execute_result"
    }
   ],
   "source": [
    "tuple(map(lambda x:x*x, sm))"
   ]
  },
  {
   "cell_type": "code",
   "execution_count": 47,
   "id": "8ab5ad8d-e72b-4a7c-a8c0-63df4e5cedd1",
   "metadata": {},
   "outputs": [
    {
     "data": {
      "text/plain": [
       "{1, 9, 25, 49, 81, 121}"
      ]
     },
     "execution_count": 47,
     "metadata": {},
     "output_type": "execute_result"
    }
   ],
   "source": [
    "set(map(lambda x:x*x, sm))"
   ]
  },
  {
   "cell_type": "code",
   "execution_count": 48,
   "id": "217a67f4-0756-4f1b-8638-a4bc14ec9763",
   "metadata": {},
   "outputs": [
    {
     "data": {
      "text/plain": [
       "'<map object at 0x000001695E27F820>'"
      ]
     },
     "execution_count": 48,
     "metadata": {},
     "output_type": "execute_result"
    }
   ],
   "source": [
    "str(map(lambda x:x*x, sm))"
   ]
  },
  {
   "cell_type": "code",
   "execution_count": 49,
   "id": "d5110cf6-a288-465c-849a-edff6b481007",
   "metadata": {},
   "outputs": [
    {
     "data": {
      "text/plain": [
       "[6, 14, 24, 36, 50]"
      ]
     },
     "execution_count": 49,
     "metadata": {},
     "output_type": "execute_result"
    }
   ],
   "source": [
    "l1=[1,2,3,4,5]\n",
    "l2=[6,7,8,9,10]\n",
    "list(map(lambda x,y : x*y, l1, l2))"
   ]
  },
  {
   "cell_type": "code",
   "execution_count": 50,
   "id": "6a2f3949-9467-4d3c-90da-9a135a689f81",
   "metadata": {},
   "outputs": [],
   "source": [
    "#Reduce:- it reduces sequence of elements into single element\n",
    " #reduce(function, sequence)\n",
    "# Note: in reduce lambda function always takes two arguments\n",
    "def test(m,n):\n",
    "    return m+n"
   ]
  },
  {
   "cell_type": "code",
   "execution_count": 51,
   "id": "99e77089-144a-4cb8-b063-fae6a227f668",
   "metadata": {},
   "outputs": [
    {
     "data": {
      "text/plain": [
       "7"
      ]
     },
     "execution_count": 51,
     "metadata": {},
     "output_type": "execute_result"
    }
   ],
   "source": [
    "test(3,4)"
   ]
  },
  {
   "cell_type": "code",
   "execution_count": 52,
   "id": "0d6efc27-9fb6-4148-8d41-c45c94e851e3",
   "metadata": {},
   "outputs": [
    {
     "data": {
      "text/plain": [
       "113"
      ]
     },
     "execution_count": 52,
     "metadata": {},
     "output_type": "execute_result"
    }
   ],
   "source": [
    "from functools import *\n",
    "l=[47,11,42,13]\n",
    "reduce(test,l)"
   ]
  },
  {
   "cell_type": "code",
   "execution_count": 56,
   "id": "927d38b6-8ea1-465d-a741-8f55fce52952",
   "metadata": {},
   "outputs": [
    {
     "data": {
      "text/plain": [
       "113"
      ]
     },
     "execution_count": 56,
     "metadata": {},
     "output_type": "execute_result"
    }
   ],
   "source": [
    "#Using lambda function\n",
    "l=[47,11,42,13]\n",
    "reduce(lambda x,y:x+y,l)"
   ]
  },
  {
   "cell_type": "code",
   "execution_count": 59,
   "id": "bfd5c55c-3ae4-4b71-ad60-c84a372ffd07",
   "metadata": {},
   "outputs": [
    {
     "data": {
      "text/plain": [
       "56"
      ]
     },
     "execution_count": 59,
     "metadata": {},
     "output_type": "execute_result"
    }
   ],
   "source": [
    "l=[47,11,42,13,55,56]\n",
    "reduce(lambda a,b: a if a>b else b, l)"
   ]
  },
  {
   "cell_type": "code",
   "execution_count": 60,
   "id": "81d99be2-fc51-4bef-8b87-3c39d191e9bf",
   "metadata": {},
   "outputs": [
    {
     "data": {
      "text/plain": [
       "45"
      ]
     },
     "execution_count": 60,
     "metadata": {},
     "output_type": "execute_result"
    }
   ],
   "source": [
    "#from functools import *\n",
    "l=[1,2,3,4,5,6,7,8,9]\n",
    "reduce(lambda x,y:x+y,l)"
   ]
  },
  {
   "cell_type": "code",
   "execution_count": 61,
   "id": "efccaf7e-e14b-4faf-b764-375f5ca2f840",
   "metadata": {},
   "outputs": [
    {
     "data": {
      "text/plain": [
       "362880"
      ]
     },
     "execution_count": 61,
     "metadata": {},
     "output_type": "execute_result"
    }
   ],
   "source": [
    "l=[1,2,3,4,5,6,7,8,9]\n",
    "reduce(lambda x,y:x*y,l)"
   ]
  },
  {
   "cell_type": "code",
   "execution_count": 62,
   "id": "10dbeec7-e2b5-44da-a3ba-74add56376c2",
   "metadata": {},
   "outputs": [
    {
     "data": {
      "text/plain": [
       "5050"
      ]
     },
     "execution_count": 62,
     "metadata": {},
     "output_type": "execute_result"
    }
   ],
   "source": [
    "reduce(lambda x,y:x+y,range(1,101))"
   ]
  },
  {
   "cell_type": "code",
   "execution_count": 65,
   "id": "7cba2492-5c52-4f94-a062-48d9bdb8eb4e",
   "metadata": {},
   "outputs": [
    {
     "data": {
      "text/plain": [
       "True"
      ]
     },
     "execution_count": 65,
     "metadata": {},
     "output_type": "execute_result"
    }
   ],
   "source": [
    "#Filter:- filter function can be used to filter values from a given sequence based on some condition\n",
    "#filter(function,Sequence)\n",
    "\n",
    "def isEven(x):\n",
    "    if x%2 == 0:\n",
    "        return True\n",
    "    else:\n",
    "        return False\n",
    "\n",
    "isEven(36)\n",
    "\n"
   ]
  },
  {
   "cell_type": "code",
   "execution_count": 1,
   "id": "798c9dfd-89ef-4d5c-b787-fbd2237669de",
   "metadata": {},
   "outputs": [
    {
     "name": "stdout",
     "output_type": "stream",
     "text": [
      "[2, 4, 6, 8, 10]\n",
      "[1, 3, 5, 7, 9]\n",
      "(2, 4, 6, 8, 10)\n"
     ]
    }
   ],
   "source": [
    "l=[1,2,3,4,5,6,7,8,9,10]\n",
    "l1 = list(filter(lambda x:x%2==0,l))\n",
    "print(l1)\n",
    "\n",
    "l2 = list(filter(lambda x:x%2!=0,l))\n",
    "print(l2)\n",
    "\n",
    "\n",
    "l=[1,2,3,4,5,6,7,8,9,10]\n",
    "l1 = tuple(filter(lambda x:x%2==0,l))\n",
    "print(l1)\n",
    "\n",
    "l2 = set(filter(lambda x:x%2!=0,l))\n",
    "\n"
   ]
  },
  {
   "cell_type": "code",
   "execution_count": 77,
   "id": "577931b0-baa4-45d5-97b5-efc7833c0742",
   "metadata": {},
   "outputs": [
    {
     "name": "stdout",
     "output_type": "stream",
     "text": [
      "-7\n"
     ]
    }
   ],
   "source": [
    "def sum(*n):\n",
    "    total=0\n",
    "    for i in n:\n",
    "        total=total+i\n",
    "    print(total)\n",
    "sum(2,2,3)"
   ]
  },
  {
   "cell_type": "code",
   "execution_count": 83,
   "id": "b222dc61-5285-4245-9a56-130f330b749c",
   "metadata": {},
   "outputs": [
    {
     "name": "stdout",
     "output_type": "stream",
     "text": [
      "0\n",
      "1\n",
      "2\n",
      "3\n",
      "4\n",
      "5\n",
      "6\n",
      "7\n",
      "8\n",
      "9\n"
     ]
    }
   ],
   "source": [
    "s = range(10)\n",
    "for i in s:\n",
    "    print(i)\n"
   ]
  },
  {
   "cell_type": "code",
   "execution_count": 5,
   "id": "ec728c9f-c13c-437b-974a-789b67df5504",
   "metadata": {},
   "outputs": [
    {
     "name": "stdin",
     "output_type": "stream",
     "text": [
      "enter name: RoBerT\n"
     ]
    },
    {
     "name": "stdout",
     "output_type": "stream",
     "text": [
      "hi RoBerT good morning..\n",
      "how are you RoBerT ?\n"
     ]
    }
   ],
   "source": [
    "name=(input(\"enter name:\"))\n",
    "if name.lower() ==\"robert\" :\n",
    "    print(\"hi\",name,\"good morning..\")\n",
    "print(\"how are you\",name,\"?\")"
   ]
  },
  {
   "cell_type": "code",
   "execution_count": 5,
   "id": "fd5db36e-ecd5-4877-94c9-0a71174ee5f8",
   "metadata": {},
   "outputs": [],
   "source": [
    "#Nested Functions\n",
    "##we can declare a function inside another function such type of functions are called nested functions.\n",
    "\n",
    "def first():\n",
    "    print(\"1.first function started\")\n",
    "    def second():\n",
    "        print(\"2.second function started\")\n",
    "    print(\"3.first function calling inner function\")\n",
    "    second()\n",
    "\n",
    "\n",
    "\n"
   ]
  },
  {
   "cell_type": "code",
   "execution_count": 6,
   "id": "ed5a58ca-8f56-443a-b245-2da7393f09c1",
   "metadata": {},
   "outputs": [
    {
     "name": "stdout",
     "output_type": "stream",
     "text": [
      "1.first function started\n",
      "3.first function calling inner function\n",
      "2.second function started\n"
     ]
    }
   ],
   "source": [
    "first()"
   ]
  },
  {
   "cell_type": "code",
   "execution_count": 10,
   "id": "6f768212-23bd-4336-8cb0-571a6df0db63",
   "metadata": {},
   "outputs": [
    {
     "name": "stdout",
     "output_type": "stream",
     "text": [
      "first function started\n",
      "first fuction returning inner function\n",
      "second function execution\n"
     ]
    }
   ],
   "source": [
    "def first():\n",
    "    print(\"first function started\")\n",
    "    def second():\n",
    "        print(\"second function execution\")\n",
    "    print(\"first fuction returning inner function\")\n",
    "    return second\n",
    "\n",
    "f = first()\n",
    "f()\n",
    "\n"
   ]
  },
  {
   "cell_type": "code",
   "execution_count": 22,
   "id": "1e6ce11c-8731-49fe-8c54-79a3a1bee990",
   "metadata": {},
   "outputs": [
    {
     "data": {
      "text/plain": [
       "[0, 3, 6, 9]"
      ]
     },
     "execution_count": 22,
     "metadata": {},
     "output_type": "execute_result"
    }
   ],
   "source": [
    "s = range(0,10,3)\n",
    "n=[]\n",
    "for i in s:\n",
    "    n.append((i))\n",
    "\n",
    "n\n"
   ]
  },
  {
   "cell_type": "code",
   "execution_count": null,
   "id": "0ba81d1b-da80-4808-8b03-20a28edaf587",
   "metadata": {},
   "outputs": [],
   "source": []
  }
 ],
 "metadata": {
  "kernelspec": {
   "display_name": "Python 3 (ipykernel)",
   "language": "python",
   "name": "python3"
  },
  "language_info": {
   "codemirror_mode": {
    "name": "ipython",
    "version": 3
   },
   "file_extension": ".py",
   "mimetype": "text/x-python",
   "name": "python",
   "nbconvert_exporter": "python",
   "pygments_lexer": "ipython3",
   "version": "3.11.5"
  }
 },
 "nbformat": 4,
 "nbformat_minor": 5
}
