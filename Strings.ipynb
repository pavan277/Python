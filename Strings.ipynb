{
 "cells": [
  {
   "cell_type": "code",
   "execution_count": 1,
   "id": "1baa5fa7-3c34-4d29-9e90-a772d4d160dc",
   "metadata": {},
   "outputs": [
    {
     "name": "stdout",
     "output_type": "stream",
     "text": [
      "pavan kumar\n"
     ]
    }
   ],
   "source": [
    "s = 'pavan kumar'\n",
    "print(s)"
   ]
  },
  {
   "cell_type": "code",
   "execution_count": 3,
   "id": "21747403-6676-42e0-a350-8016e8ae924b",
   "metadata": {},
   "outputs": [
    {
     "name": "stdout",
     "output_type": "stream",
     "text": [
      "hi'how are you\n",
      "hi' how are you\n",
      "hi\" how are you\n",
      "hi \"how\" are 'you' pavan\n",
      "hi \"how\" are 'you' pavan\n"
     ]
    }
   ],
   "source": [
    "#s1 = 'hi how are' you'   #SyntaxError: invalid syntax\n",
    "s2 = 'hi\\'how are you'\n",
    "print(s2)\n",
    "s3 = \"hi' how are you\"\n",
    "print(s3)\n",
    "s4 = 'hi\" how are you'\n",
    "print(s4)\n",
    "#s5 = 'hi \"how\" are 'you' pawan'   #SyntaxError: invalid syntax\n",
    "#s6 = \"hi \"how\" are 'you' pawan\"   #SyntaxError: invalid syntax\n",
    "s7 = 'hi \\\"how\\\" are \\'you\\' pavan'\n",
    "print(s7)\n",
    "s8 = \"hi \\\"how\\\" are \\'you\\' pavan\"\n",
    "print(s8)"
   ]
  },
  {
   "cell_type": "code",
   "execution_count": 5,
   "id": "2223b437-708d-47e2-9c59-c919b19a4635",
   "metadata": {},
   "outputs": [
    {
     "name": "stdout",
     "output_type": "stream",
     "text": [
      "2132864366512\n"
     ]
    }
   ],
   "source": [
    "s1 ='pavan'\n",
    "s2 = 'kumar'\n",
    "s1=s1+s2\n",
    "print(id(s1))"
   ]
  },
  {
   "cell_type": "code",
   "execution_count": 6,
   "id": "d906f393-47dc-4fa0-b8c0-01d5806528af",
   "metadata": {},
   "outputs": [
    {
     "name": "stdin",
     "output_type": "stream",
     "text": [
      "Enter the string: pavan kumar\n"
     ]
    },
    {
     "name": "stdout",
     "output_type": "stream",
     "text": [
      "positive index 0 and negative index -11 is p\n",
      "positive index 1 and negative index -10 is a\n",
      "positive index 2 and negative index -9 is v\n",
      "positive index 3 and negative index -8 is a\n",
      "positive index 4 and negative index -7 is n\n",
      "positive index 5 and negative index -6 is  \n",
      "positive index 6 and negative index -5 is k\n",
      "positive index 7 and negative index -4 is u\n",
      "positive index 8 and negative index -3 is m\n",
      "positive index 9 and negative index -2 is a\n",
      "positive index 10 and negative index -1 is r\n"
     ]
    }
   ],
   "source": [
    "s = input(\"Enter the string:\")\n",
    "i = 0\n",
    "for x in s:\n",
    "    print(\"positive index {} and negative index {} is {}\".format(i,i-len(s),x))\n",
    "    i=i+1"
   ]
  },
  {
   "cell_type": "code",
   "execution_count": 14,
   "id": "e273344f-da9a-4847-808b-73864ec41c25",
   "metadata": {},
   "outputs": [
    {
     "name": "stdout",
     "output_type": "stream",
     "text": [
      "Forward direction\n",
      "hi good morning\n",
      "Backward direction\n",
      "gninrom doog ih"
     ]
    }
   ],
   "source": [
    "s = \"hi good morning\"\n",
    "n = len(s) \n",
    "i = 0\n",
    "\n",
    "print(\"Forward direction\")\n",
    "while i<n:\n",
    "    print(s[i],end='')\n",
    "    i=i+1\n",
    "print()    \n",
    "print(\"Backward direction\")\n",
    "i = -1\n",
    "while i>=-n:\n",
    "    print(s[i],end='')\n",
    "    i=i-1"
   ]
  },
  {
   "cell_type": "code",
   "execution_count": 15,
   "id": "b55b31a4-078b-4cee-9314-8a6608c03b8a",
   "metadata": {},
   "outputs": [
    {
     "name": "stdout",
     "output_type": "stream",
     "text": [
      "Forward direction\n",
      "hi good morning\n",
      "Backward direction\n",
      "gninrom doog ih"
     ]
    }
   ],
   "source": [
    "s = \"hi good morning\"\n",
    "print(\"Forward direction\")\n",
    "for i in s[::]:\n",
    "    print(i, end='')\n",
    "print()\n",
    "    \n",
    "print(\"Backward direction\")\n",
    "for i in s[::-1]:\n",
    "    print(i, end='')"
   ]
  },
  {
   "cell_type": "code",
   "execution_count": 44,
   "id": "49c780ae-f66f-4d9d-9a16-5eb7fcdc216c",
   "metadata": {},
   "outputs": [
    {
     "name": "stdout",
     "output_type": "stream",
     "text": [
      "pavankumar\n",
      "<class 'str'>\n",
      "10\n"
     ]
    },
    {
     "data": {
      "text/plain": [
       "'pavankumar'"
      ]
     },
     "execution_count": 44,
     "metadata": {},
     "output_type": "execute_result"
    }
   ],
   "source": [
    "s1 = 'pavankumar'\n",
    "print(s1)\n",
    "s1[1]\n",
    "print(type(s1))\n",
    "s1[1]\n",
    "print(len(s1))\n",
    "s1[0:7]\n",
    "s1[0:5:2]\n",
    "s1[:]\n",
    "s1[0:9:2]\n",
    "s1[:-1]\n",
    "s1[::-1]\n",
    "s1[::-2]\n",
    "s1[:7]\n",
    "s1[7:]\n",
    "s1[::]"
   ]
  },
  {
   "cell_type": "code",
   "execution_count": 48,
   "id": "13321f6f-d790-423b-9079-6f3115e622a8",
   "metadata": {},
   "outputs": [
    {
     "data": {
      "text/plain": [
       "False"
      ]
     },
     "execution_count": 48,
     "metadata": {},
     "output_type": "execute_result"
    }
   ],
   "source": [
    "cs = 'pavankumar'\n",
    "'p' in cs\n",
    "'p'not  in cs\n"
   ]
  },
  {
   "cell_type": "code",
   "execution_count": 1,
   "id": "f62086e3-2713-4583-9dbb-e6ddb0c42787",
   "metadata": {},
   "outputs": [
    {
     "name": "stdout",
     "output_type": "stream",
     "text": [
      "pavan is found in main string\n"
     ]
    }
   ],
   "source": [
    "#s = input(\"enter the main string:\")\n",
    "s=\"pavan kumar yallabandi\"\n",
    "#sub = input(\"enter the sub string:\")\n",
    "sub=\"pavan\"\n",
    "\n",
    "if sub in s:\n",
    "    print(sub,\"is found in main string\")\n",
    "else:\n",
    "    print(sub,\"is not found in main string\")"
   ]
  },
  {
   "cell_type": "code",
   "execution_count": 50,
   "id": "0433cf50-9237-4456-af03-5cbb0c3a5ad0",
   "metadata": {},
   "outputs": [
    {
     "name": "stdout",
     "output_type": "stream",
     "text": [
      "1st string is greater than 2nd\n"
     ]
    }
   ],
   "source": [
    "s1=\"star\"\n",
    "s2=\"moon\"\n",
    "\n",
    "if s1==s2:\n",
    "    print(\"both are equal\")\n",
    "elif s1<s2:\n",
    "    print(\"1st string is less than 2nd\")\n",
    "else:\n",
    "    print(\"1st string is greater than 2nd\")"
   ]
  },
  {
   "cell_type": "code",
   "execution_count": 51,
   "id": "03416432-4815-47b4-b887-e895b859ea77",
   "metadata": {},
   "outputs": [
    {
     "data": {
      "text/plain": [
       "'red'"
      ]
     },
     "execution_count": 51,
     "metadata": {},
     "output_type": "execute_result"
    }
   ],
   "source": [
    "#String( rstrip(), lstrip(), strip() )\n",
    "x=\"red   \"\n",
    "x.rstrip()"
   ]
  },
  {
   "cell_type": "code",
   "execution_count": 52,
   "id": "857c3a27-7319-4aa3-acab-417f90108df3",
   "metadata": {},
   "outputs": [
    {
     "data": {
      "text/plain": [
       "'red'"
      ]
     },
     "execution_count": 52,
     "metadata": {},
     "output_type": "execute_result"
    }
   ],
   "source": [
    "x=\"   red\"\n",
    "x.lstrip()"
   ]
  },
  {
   "cell_type": "code",
   "execution_count": 53,
   "id": "cb04a999-d60b-4848-8cfd-a7c8a7e17242",
   "metadata": {},
   "outputs": [
    {
     "data": {
      "text/plain": [
       "'red'"
      ]
     },
     "execution_count": 53,
     "metadata": {},
     "output_type": "execute_result"
    }
   ],
   "source": [
    "x=\"   red   \"\n",
    "x.strip()"
   ]
  },
  {
   "cell_type": "code",
   "execution_count": 68,
   "id": "bc658318-5e7f-4e5a-8b13-84e00413b7e0",
   "metadata": {},
   "outputs": [
    {
     "name": "stdout",
     "output_type": "stream",
     "text": [
      "9\n",
      "-1\n",
      "15\n"
     ]
    }
   ],
   "source": [
    "ss=\"hi pavan kumar yallabandi\"\n",
    "print(ss.find('ku'))\n",
    "print(ss.find('hemanth'))\n",
    "print(ss.index('ya'))\n"
   ]
  },
  {
   "cell_type": "code",
   "execution_count": 9,
   "id": "8eead36f-bf1a-4a71-b479-ea43eb3cc718",
   "metadata": {},
   "outputs": [
    {
     "name": "stdout",
     "output_type": "stream",
     "text": [
      "pavanyallabandi\n",
      "2109870958000\n",
      "durgapavanyallabandi\n",
      "<class 'str'>\n",
      "2109871020016\n"
     ]
    }
   ],
   "source": [
    "#replace\n",
    "sn = 'pavanyallabandi'\n",
    "ns = sn.replace('pavan','durgapavan')\n",
    "print(sn)\n",
    "print(id(ns))\n",
    "print(ns)\n",
    "print(type(sn))\n",
    "print(id(sn))"
   ]
  },
  {
   "cell_type": "code",
   "execution_count": 23,
   "id": "0f80c695-584a-4845-9a6e-82dd07e0eae3",
   "metadata": {},
   "outputs": [
    {
     "name": "stdout",
     "output_type": "stream",
     "text": [
      "['pavan', 'karthik']\n"
     ]
    },
    {
     "data": {
      "text/plain": [
       "2"
      ]
     },
     "execution_count": 23,
     "metadata": {},
     "output_type": "execute_result"
    }
   ],
   "source": [
    "#spliting of string\n",
    "sp = 'pavan karthik'\n",
    "s = sp.split()\n",
    "print(s)\n",
    "len(sp)\n",
    "len(s)\n"
   ]
  },
  {
   "cell_type": "code",
   "execution_count": 28,
   "id": "b2fb3686-a72e-484e-b68c-6a683729528a",
   "metadata": {},
   "outputs": [
    {
     "name": "stdout",
     "output_type": "stream",
     "text": [
      "['09', '8', '77', 'pavan']\n",
      "09\n",
      "8\n",
      "77\n",
      "pavan\n"
     ]
    }
   ],
   "source": [
    "d=\"09 8 77 pavan\"\n",
    "lst = d.split()\n",
    "print(lst)\n",
    "\n",
    "for i in lst:\n",
    "    print(i)"
   ]
  },
  {
   "cell_type": "code",
   "execution_count": 35,
   "id": "26157ab5-8711-41e0-accc-d9012e8748d3",
   "metadata": {},
   "outputs": [
    {
     "name": "stdout",
     "output_type": "stream",
     "text": [
      "power-star-pawan-kalyan\n",
      "p\n",
      "o\n",
      "w\n",
      "e\n",
      "r\n",
      "-\n",
      "s\n",
      "t\n",
      "a\n",
      "r\n",
      "-\n",
      "p\n",
      "a\n",
      "w\n",
      "a\n",
      "n\n",
      "-\n",
      "k\n",
      "a\n",
      "l\n",
      "y\n",
      "a\n",
      "n\n"
     ]
    }
   ],
   "source": [
    "#joing of strings\n",
    "t=(\"power\",\"star\",\"pawan\",\"kalyan\")\n",
    "s='-'.join(t)\n",
    "print(s)\n",
    "for i in s :\n",
    "    print(i)"
   ]
  },
  {
   "cell_type": "code",
   "execution_count": 38,
   "id": "42aa65b6-11a1-44fe-97bc-47defe0a9896",
   "metadata": {},
   "outputs": [
    {
     "data": {
      "text/plain": [
       "'India-->Andhra-->West Godavari-->bhimavaram'"
      ]
     },
     "execution_count": 38,
     "metadata": {},
     "output_type": "execute_result"
    }
   ],
   "source": [
    "l = [\"India\",\"Andhra\", \"West Godavari\", \"bhimavaram\"]\n",
    "s = \"-->\".join(l)\n",
    "s"
   ]
  },
  {
   "cell_type": "code",
   "execution_count": 44,
   "id": "d9688b86-0712-42eb-9906-6e458ff6016b",
   "metadata": {},
   "outputs": [
    {
     "data": {
      "text/plain": [
       "'Hi Good Moring'"
      ]
     },
     "execution_count": 44,
     "metadata": {},
     "output_type": "execute_result"
    }
   ],
   "source": [
    "#Changing case\n",
    "sn = 'Hi Good moring'\n",
    "\n",
    "sn.upper()\n",
    "sn.lower()\n",
    "sn.swapcase()\n",
    "sn.title()"
   ]
  },
  {
   "cell_type": "code",
   "execution_count": null,
   "id": "f738ae92-2a3b-4d14-a2ee-ba0947f8c45a",
   "metadata": {},
   "outputs": [],
   "source": []
  },
  {
   "cell_type": "code",
   "execution_count": null,
   "id": "63d8ef3e-7809-42ce-9944-79346fba7df6",
   "metadata": {},
   "outputs": [],
   "source": []
  }
 ],
 "metadata": {
  "kernelspec": {
   "display_name": "Python 3 (ipykernel)",
   "language": "python",
   "name": "python3"
  },
  "language_info": {
   "codemirror_mode": {
    "name": "ipython",
    "version": 3
   },
   "file_extension": ".py",
   "mimetype": "text/x-python",
   "name": "python",
   "nbconvert_exporter": "python",
   "pygments_lexer": "ipython3",
   "version": "3.11.5"
  }
 },
 "nbformat": 4,
 "nbformat_minor": 5
}
