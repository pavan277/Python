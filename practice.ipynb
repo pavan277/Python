{
 "cells": [
  {
   "cell_type": "code",
   "execution_count": 5,
   "id": "a2756101-989d-40bb-97c3-b6c1d74101ed",
   "metadata": {},
   "outputs": [
    {
     "name": "stdout",
     "output_type": "stream",
     "text": [
      "30\n",
      "140731222386376\n",
      "140731222385736\n",
      "140731222386056\n"
     ]
    }
   ],
   "source": [
    "a=10 \n",
    "b=20\n",
    "c = a+b\n",
    "print(c)\n",
    "type(c)\n",
    "print(id(c))\n",
    "print(id(a))\n",
    "print(id(b))"
   ]
  },
  {
   "cell_type": "code",
   "execution_count": 2,
   "id": "b08eecb0-d4a6-4415-b77b-641ac5debeee",
   "metadata": {},
   "outputs": [
    {
     "name": "stdout",
     "output_type": "stream",
     "text": [
      "its my first python practice\n"
     ]
    }
   ],
   "source": [
    "test= \"its my first python practice\"\n",
    "print(test)"
   ]
  },
  {
   "cell_type": "code",
   "execution_count": 3,
   "id": "3c9b7f52-0cee-434d-b41c-49da7cf8e848",
   "metadata": {},
   "outputs": [
    {
     "name": "stdout",
     "output_type": "stream",
     "text": [
      "[1, 3, 5, 7, 9]\n"
     ]
    }
   ],
   "source": [
    "list= [1,3,5,7,9]\n",
    "print(list)"
   ]
  },
  {
   "cell_type": "code",
   "execution_count": 9,
   "id": "51f17e83-c1e6-487e-9c8a-fa04d5a507ff",
   "metadata": {},
   "outputs": [
    {
     "name": "stdout",
     "output_type": "stream",
     "text": [
      "5\n"
     ]
    }
   ],
   "source": [
    "print (list[2])"
   ]
  },
  {
   "cell_type": "code",
   "execution_count": 12,
   "id": "eb935d19-f731-4af4-88c4-875b47b0d8ff",
   "metadata": {},
   "outputs": [
    {
     "ename": "SyntaxError",
     "evalue": "invalid syntax. Perhaps you forgot a comma? (4112670354.py, line 3)",
     "output_type": "error",
     "traceback": [
      "\u001b[1;36m  Cell \u001b[1;32mIn[12], line 3\u001b[1;36m\u001b[0m\n\u001b[1;33m    print(list.append list2)\u001b[0m\n\u001b[1;37m          ^\u001b[0m\n\u001b[1;31mSyntaxError\u001b[0m\u001b[1;31m:\u001b[0m invalid syntax. Perhaps you forgot a comma?\n"
     ]
    }
   ],
   "source": [
    "list= [1,3,5,7,9]\n",
    "list2 =[2,4,6,8]\n",
    "print(list"
   ]
  },
  {
   "cell_type": "code",
   "execution_count": 17,
   "id": "58db74f4-c7d9-4a3f-b7da-e1dd6f0cf11d",
   "metadata": {},
   "outputs": [
    {
     "data": {
      "text/plain": [
       "False"
      ]
     },
     "execution_count": 17,
     "metadata": {},
     "output_type": "execute_result"
    }
   ],
   "source": [
    "'apple' > 'ball'"
   ]
  },
  {
   "cell_type": "code",
   "execution_count": 9,
   "id": "52e87c71-6452-40da-aa70-f0e2ee325b74",
   "metadata": {},
   "outputs": [
    {
     "name": "stdout",
     "output_type": "stream",
     "text": [
      "True\n"
     ]
    },
    {
     "data": {
      "text/plain": [
       "str"
      ]
     },
     "execution_count": 9,
     "metadata": {},
     "output_type": "execute_result"
    }
   ],
   "source": [
    "a = \"apple\"\n",
    "b = 'ball'\n",
    "print(b > a)\n",
    "type(a)"
   ]
  },
  {
   "cell_type": "code",
   "execution_count": 26,
   "id": "747fe5e4-1f2e-4fca-b508-ba7d7351314a",
   "metadata": {},
   "outputs": [
    {
     "name": "stdout",
     "output_type": "stream",
     "text": [
      "11\n",
      "a\n",
      "avan\n",
      "pavan\n",
      "pavan kumarpavan kumar\n",
      "pavan kumarpavan kumar\n"
     ]
    },
    {
     "ename": "NameError",
     "evalue": "name 'p' is not defined",
     "output_type": "error",
     "traceback": [
      "\u001b[1;31m---------------------------------------------------------------------------\u001b[0m",
      "\u001b[1;31mNameError\u001b[0m                                 Traceback (most recent call last)",
      "Cell \u001b[1;32mIn[26], line 8\u001b[0m\n\u001b[0;32m      6\u001b[0m \u001b[38;5;28mprint\u001b[39m(s\u001b[38;5;241m+\u001b[39ms)\n\u001b[0;32m      7\u001b[0m \u001b[38;5;28mprint\u001b[39m(s \u001b[38;5;241m+\u001b[39m s)\n\u001b[1;32m----> 8\u001b[0m \u001b[38;5;28mprint\u001b[39m(\u001b[43mp\u001b[49m)\n",
      "\u001b[1;31mNameError\u001b[0m: name 'p' is not defined"
     ]
    }
   ],
   "source": [
    " s = 'pavan kumar'\n",
    "print(len(s))\n",
    "print(s[1])\n",
    "print(s[1:5])\n",
    "print(s[0:5])\n",
    "print(s+s)\n",
    "print(s + s)\n",
    "print(p)\n"
   ]
  },
  {
   "cell_type": "code",
   "execution_count": 32,
   "id": "6764e6b8-7c78-4fc6-b070-7337d62e9ad5",
   "metadata": {},
   "outputs": [
    {
     "name": "stdout",
     "output_type": "stream",
     "text": [
      "True\n",
      "33\n",
      "140731222386472\n",
      "140731222386472\n"
     ]
    }
   ],
   "source": [
    "a = 22 \n",
    "b = 33 \n",
    "a= b\n",
    "print(a is b)\n",
    "print(a)\n",
    "print(id(b))\n",
    "print(id(a))"
   ]
  },
  {
   "cell_type": "code",
   "execution_count": null,
   "id": "8f48ec89-4752-4aed-82a5-8293d4cc1249",
   "metadata": {},
   "outputs": [],
   "source": []
  }
 ],
 "metadata": {
  "kernelspec": {
   "display_name": "Python 3 (ipykernel)",
   "language": "python",
   "name": "python3"
  },
  "language_info": {
   "codemirror_mode": {
    "name": "ipython",
    "version": 3
   },
   "file_extension": ".py",
   "mimetype": "text/x-python",
   "name": "python",
   "nbconvert_exporter": "python",
   "pygments_lexer": "ipython3",
   "version": "3.11.5"
  }
 },
 "nbformat": 4,
 "nbformat_minor": 5
}
