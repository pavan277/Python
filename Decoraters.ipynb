{
 "cells": [
  {
   "cell_type": "code",
   "execution_count": 67,
   "id": "14f3588d-55fe-469e-a866-907cc2eaab9a",
   "metadata": {},
   "outputs": [
    {
     "name": "stdout",
     "output_type": "stream",
     "text": [
      "first value 2\n",
      "second value 3\n",
      "addition of two values: 5\n"
     ]
    }
   ],
   "source": [
    "def dec(func):\n",
    "    def inner(a,b):\n",
    "        print(\"first value\",a)\n",
    "        print(\"second value\",b)\n",
    "        print(\"addition of two values:\",a+b)\n",
    "    return inner\n",
    "\n",
    "@dec\n",
    "def add(a,b):\n",
    "    print(a+b)\n",
    "    \n",
    "add(2,3)\n"
   ]
  },
  {
   "cell_type": "code",
   "execution_count": 73,
   "id": "30501e6d-306f-4c78-b706-d1a08746eb03",
   "metadata": {},
   "outputs": [
    {
     "name": "stdout",
     "output_type": "stream",
     "text": [
      "power coating is done..\n",
      "bus wiring is done..\n",
      "bus doors are fixed..\n",
      "engine is installed..\n",
      "bus chasis is ready\n"
     ]
    }
   ],
   "source": [
    "def bus_dec(func):\n",
    "    def inner(part):\n",
    "        print(\"power coating is done..\")\n",
    "        print(\"bus wiring is done..\")\n",
    "        print(\"bus doors are fixed..\")\n",
    "        print(\"engine is installed..\")\n",
    "        func(part)\n",
    "    return inner    \n",
    "\n",
    "@bus_dec\n",
    "def bus(part):\n",
    "    print(\"bus\",part,\"is ready\")\n",
    "\n",
    "bus(\"chasis\")"
   ]
  },
  {
   "cell_type": "code",
   "execution_count": 75,
   "id": "c27eff14-d380-4482-bbca-c7865c1887ca",
   "metadata": {},
   "outputs": [],
   "source": [
    "def decor_name(func):\n",
    "    def inner(name):\n",
    "        if name==\"pavan\":\n",
    "            print(\"Hello\",name, \"How are you???\")\n",
    "            print(\"you're authorized person\")\n",
    "            print(\"you are allowed to enter into strong room\")\n",
    "        else:\n",
    "            func(name)\n",
    "    return inner\n",
    "\n",
    "@decor_name\n",
    "def wish(name):\n",
    "    print(\"hi\",name,\"Good morning..\")"
   ]
  },
  {
   "cell_type": "code",
   "execution_count": 78,
   "id": "403ca159-08c7-4474-bc03-2bbaecae5257",
   "metadata": {},
   "outputs": [
    {
     "name": "stdout",
     "output_type": "stream",
     "text": [
      "hi hemanth Good morning..\n"
     ]
    }
   ],
   "source": [
    "wish('hemanth')"
   ]
  },
  {
   "cell_type": "code",
   "execution_count": 79,
   "id": "2a63337f-3352-4642-af57-79d0a9f3e1a4",
   "metadata": {},
   "outputs": [
    {
     "name": "stdout",
     "output_type": "stream",
     "text": [
      "Hello pavan How are you???\n",
      "you're authorized person\n",
      "you are allowed to enter into strong room\n"
     ]
    }
   ],
   "source": [
    "wish('pavan')"
   ]
  },
  {
   "cell_type": "code",
   "execution_count": 101,
   "id": "78fef2a4-148b-4f3f-88d0-7b971105e6e9",
   "metadata": {},
   "outputs": [
    {
     "name": "stdout",
     "output_type": "stream",
     "text": [
      "iam extent function\n",
      "hi iam original\n"
     ]
    }
   ],
   "source": [
    "@dec_greet\n",
    "def greet():\n",
    "    print(\"hi iam original\")\n",
    "\n",
    "greet()"
   ]
  },
  {
   "cell_type": "code",
   "execution_count": 100,
   "id": "2cabb17a-58bc-4527-8e25-a64d09b5569a",
   "metadata": {},
   "outputs": [],
   "source": [
    "def dec_greet(fun):\n",
    "    def inner():\n",
    "        \n",
    "        print(\"iam extent function\")\n",
    "        fun()\n",
    "    return inner"
   ]
  },
  {
   "cell_type": "code",
   "execution_count": 102,
   "id": "6730dd8f-a98a-408c-8ce4-535dc16304b0",
   "metadata": {},
   "outputs": [
    {
     "name": "stdout",
     "output_type": "stream",
     "text": [
      "iam extent function\n",
      "hi iam original\n"
     ]
    }
   ],
   "source": [
    "greet()"
   ]
  },
  {
   "cell_type": "code",
   "execution_count": 107,
   "id": "14e0fbff-1173-4da4-990d-08d11a3f40db",
   "metadata": {},
   "outputs": [
    {
     "name": "stdout",
     "output_type": "stream",
     "text": [
      "hi pavan please enter your password\n",
      "hi good morning pavan\n",
      "you can enter into the strong room...\n"
     ]
    }
   ],
   "source": [
    "@authentication\n",
    "def login(name):\n",
    "    print(\"hi\",name,\"please enter your password\")\n",
    "\n",
    "def authentication(func):\n",
    "    def inner(name):\n",
    "        if name==\"pavan\":\n",
    "            func(name)\n",
    "            print(\"hi good morning {}\".format(name))\n",
    "            print(\"you can enter into the strong room...\")\n",
    "        else:\n",
    "            func(name)\n",
    "            print(\"unauthorised access denied sorry try again\")\n",
    "    return inner\n",
    "\n",
    "login('pavan')\n"
   ]
  },
  {
   "cell_type": "code",
   "execution_count": 108,
   "id": "179fda6b-de50-45d3-af75-6c23734a8355",
   "metadata": {},
   "outputs": [
    {
     "name": "stdout",
     "output_type": "stream",
     "text": [
      "hi hemanth please enter your password\n",
      "unauthorised access denied sorry try again\n"
     ]
    }
   ],
   "source": [
    "login('hemanth')"
   ]
  },
  {
   "cell_type": "code",
   "execution_count": 244,
   "id": "18739cde-c15d-4a33-9898-9825e15b8cf7",
   "metadata": {},
   "outputs": [
    {
     "name": "stdout",
     "output_type": "stream",
     "text": [
      "hi pavan please enter yours password\n",
      "hi good morning pavan\n",
      "you can enter into the strong room...\n"
     ]
    }
   ],
   "source": [
    "def login(name):\n",
    "    print(\"hi\",name,\"please enter yours password\")\n",
    "\n",
    "def authentication(func):\n",
    "    def inner(name):\n",
    "        if name==\"pavan\":\n",
    "            func(name)\n",
    "            print(\"hi good morning {}\".format(name))\n",
    "            print(\"you can enter into the strong room...\")\n",
    "        else:\n",
    "            func(name)\n",
    "            print(\"unauthorised access denied sorry try again\")\n",
    "    return inner\n",
    "fun= authentication(login)\n",
    "fun('pavan')"
   ]
  },
  {
   "cell_type": "code",
   "execution_count": 236,
   "id": "942ea21e-59ed-49b3-93b9-a10a901ba071",
   "metadata": {},
   "outputs": [],
   "source": [
    "@decc\n",
    "def hi():\n",
    "    return('hi hello')"
   ]
  },
  {
   "cell_type": "code",
   "execution_count": null,
   "id": "9f661c87-1e3a-4173-9341-ed0613d0b225",
   "metadata": {},
   "outputs": [],
   "source": []
  },
  {
   "cell_type": "code",
   "execution_count": 230,
   "id": "b7b50354-d423-4129-8392-a9e1e19f06db",
   "metadata": {},
   "outputs": [
    {
     "data": {
      "text/plain": [
       "'HI HELLO'"
      ]
     },
     "execution_count": 230,
     "metadata": {},
     "output_type": "execute_result"
    }
   ],
   "source": [
    "def decc(func):\n",
    "    def inner():\n",
    "        s= func()\n",
    "        s= s.upper()\n",
    "        return s\n",
    "    return inner  \n",
    "\n",
    "\n",
    "         \n",
    "\n",
    "\n",
    "\n",
    "\n",
    "hi()\n",
    "    "
   ]
  },
  {
   "cell_type": "code",
   "execution_count": null,
   "id": "da938ff7-558b-4930-a4e9-a38c3e76ce7a",
   "metadata": {},
   "outputs": [],
   "source": []
  },
  {
   "cell_type": "code",
   "execution_count": 226,
   "id": "37bd9faf-b02e-4f51-bf18-1d903da055d3",
   "metadata": {},
   "outputs": [
    {
     "name": "stdout",
     "output_type": "stream",
     "text": [
      "welcome \n",
      "hi pavan\n"
     ]
    }
   ],
   "source": [
    "str_dec(stri)"
   ]
  },
  {
   "cell_type": "code",
   "execution_count": 46,
   "id": "57009b81-fb1a-4870-b506-ae9ca5704f45",
   "metadata": {},
   "outputs": [],
   "source": [
    "\n",
    "def deliverdcury(cury):\n",
    "    print('the',cury,'is deliverd')\n",
    "    print(cury,'cury is very taste prepared by hemanth')\n",
    "                 "
   ]
  },
  {
   "cell_type": "code",
   "execution_count": 47,
   "id": "fa80a2a9-a3ab-4f62-94ab-57f90bea95ce",
   "metadata": {},
   "outputs": [
    {
     "name": "stdout",
     "output_type": "stream",
     "text": [
      "the tamta is deliverd\n",
      "tamta cury is very taste prepared by hemanth\n"
     ]
    }
   ],
   "source": [
    "deliverdcury('tamta')"
   ]
  },
  {
   "cell_type": "code",
   "execution_count": 99,
   "id": "0cf0dfbf-fc40-4356-a8e0-b68a411f0b24",
   "metadata": {},
   "outputs": [],
   "source": [
    "def deccurypros(deliverdcury):\n",
    "    def inside(cury):\n",
    "        deliverdcury(cury)\n",
    "        print('take onions and  cut suitabl size')\n",
    "        if cury == 'fish' or cury== 'muttun':\n",
    "            print('take',cury,'cut the meat required pieces')\n",
    "            print('add',cury, 'masala and required ingreidients and cook')\n",
    "        else:\n",
    "            \n",
    "            print('take ',cury,'vegitables wash and cook')\n",
    "        print(cury,'is prepard by abhiruchi restarunt')    \n",
    "    return inside\n",
    "            \n",
    "\n",
    "decfun = deccurypros(deliverdcury)"
   ]
  },
  {
   "cell_type": "code",
   "execution_count": 100,
   "id": "d861fd51-239a-4daa-8611-145e8473438c",
   "metadata": {},
   "outputs": [
    {
     "name": "stdout",
     "output_type": "stream",
     "text": [
      "the fish is deliverd\n",
      "fish cury is very taste prepared by hemanth\n",
      "take onions and  cut suitabl size\n",
      "take fish cut the meat required pieces\n",
      "add fish masala and required ingreidients and cook\n",
      "fish is prepard by abhiruchi restarunt\n"
     ]
    }
   ],
   "source": [
    "decfun('fish')"
   ]
  },
  {
   "cell_type": "code",
   "execution_count": 104,
   "id": "c9039ee1-785d-48ae-9e5a-eae4d6f85ecf",
   "metadata": {},
   "outputs": [
    {
     "name": "stdout",
     "output_type": "stream",
     "text": [
      "decor2  function will call\n"
     ]
    }
   ],
   "source": [
    "#DECORATER CHAINS------>>>> we can define multiple decorators for the same function and all these decorator will form decorator chaining\n",
    "\n",
    "def decor2(func):\n",
    "    def inner2():\n",
    "        print(\"decor2  function will call\")\n",
    "    return inner2\n",
    "\n",
    "def decor1(func):\n",
    "    def inner1():\n",
    "        print(\"decor1  function wiil call\")\n",
    "    return inner1\n",
    "\n",
    "@decor2\n",
    "@decor1\n",
    "def mainn():\n",
    "    print(\"main function\")\n",
    "    \n",
    "mainn()"
   ]
  },
  {
   "cell_type": "code",
   "execution_count": 108,
   "id": "4ac86e4a-9d23-4c13-820e-5bdaf5ae5694",
   "metadata": {},
   "outputs": [
    {
     "name": "stdout",
     "output_type": "stream",
     "text": [
      "main function\n",
      "decor1  function wiil call\n",
      "decor2  function will call\n"
     ]
    }
   ],
   "source": [
    "def decor2(second):\n",
    "    def inner2():\n",
    "        second()\n",
    "        print(\"decor2  function will call\")\n",
    "    return inner2\n",
    "\n",
    "def decor1(mainn):\n",
    "    def inner1():\n",
    "        mainn()\n",
    "        print(\"decor1  function wiil call\")\n",
    "    return inner1\n",
    "\n",
    "@decor2\n",
    "@decor1\n",
    "def mainn():\n",
    "    print(\"main function\")\n",
    "    \n",
    "mainn()"
   ]
  },
  {
   "cell_type": "code",
   "execution_count": 112,
   "id": "f9b3e905-ab1a-4db6-8a22-042e8adde3bf",
   "metadata": {},
   "outputs": [
    {
     "data": {
      "text/plain": [
       "36"
      ]
     },
     "execution_count": 112,
     "metadata": {},
     "output_type": "execute_result"
    }
   ],
   "source": [
    "def decor2(func):\n",
    "    def inner2(y):\n",
    "        x=func(y)\n",
    "        return x*x\n",
    "    return inner2\n",
    "\n",
    "def decor1(func):\n",
    "    def inner1(y):\n",
    "        x = func(y)\n",
    "        return 2*x\n",
    "    return inner1\n",
    "\n",
    "@decor2\n",
    "@decor1\n",
    "def num(x):\n",
    "    return x\n",
    "\n",
    "num(3)\n"
   ]
  },
  {
   "cell_type": "code",
   "execution_count": 113,
   "id": "abd1a478-8c33-46e2-9f2f-06bb77122ce0",
   "metadata": {},
   "outputs": [
    {
     "name": "stdout",
     "output_type": "stream",
     "text": [
      "hello software getting errors\n"
     ]
    }
   ],
   "source": [
    "def occupation2(func):\n",
    "    def inner2(name):\n",
    "        print(\"hello\",name,\"getting errors\")\n",
    "        #func(name)\n",
    "    return inner2\n",
    "\n",
    "def occupation1(man):\n",
    "    def inner1(name):\n",
    "        print(\"hello\",name,\"patients are ready\")\n",
    "    return inner1\n",
    "\n",
    "@occupation2\n",
    "@occupation1\n",
    "\n",
    "def man(name):\n",
    "    print(\"hello\",name,\"heart miss ayyey\")\n",
    "    \n",
    "man(\"software\")"
   ]
  },
  {
   "cell_type": "code",
   "execution_count": 6,
   "id": "ab5780f0-9171-4f94-be63-106dc664fb3a",
   "metadata": {},
   "outputs": [
    {
     "name": "stdout",
     "output_type": "stream",
     "text": [
      "1\n",
      "2\n",
      "3\n",
      "4\n",
      "5\n",
      "6\n",
      "7\n",
      "8\n",
      "9\n",
      "10\n"
     ]
    }
   ],
   "source": [
    "#---->>Every iterator is also an iterable but not every iterable is an iterator\n",
    "#-->>>Ex: A List is iterable(iterable object (a set, a string, a list etc.)) but a List is not Iterator\n",
    "\n",
    "\n",
    "for i in range(1,11):\n",
    "    print(i)\n",
    "              "
   ]
  },
  {
   "cell_type": "code",
   "execution_count": null,
   "id": "f2904f91-3f1b-4979-b19f-b345d92dbf59",
   "metadata": {},
   "outputs": [],
   "source": [
    "lst = ['ap','up','mp'goa'\n",
    "]\n",
    "for state in lst"
   ]
  }
 ],
 "metadata": {
  "kernelspec": {
   "display_name": "Python 3 (ipykernel)",
   "language": "python",
   "name": "python3"
  },
  "language_info": {
   "codemirror_mode": {
    "name": "ipython",
    "version": 3
   },
   "file_extension": ".py",
   "mimetype": "text/x-python",
   "name": "python",
   "nbconvert_exporter": "python",
   "pygments_lexer": "ipython3",
   "version": "3.11.5"
  }
 },
 "nbformat": 4,
 "nbformat_minor": 5
}
