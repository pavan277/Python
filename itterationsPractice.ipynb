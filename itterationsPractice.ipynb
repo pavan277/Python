{
 "cells": [
  {
   "cell_type": "code",
   "execution_count": 22,
   "id": "c0b2992e-8603-4438-88cf-3fc47cdb37fa",
   "metadata": {},
   "outputs": [
    {
     "name": "stdout",
     "output_type": "stream",
     "text": [
      "p\n",
      "a\n",
      "v\n",
      "a\n",
      "n\n",
      " \n",
      "k\n",
      "u\n",
      "m\n",
      "a\n",
      "r\n"
     ]
    }
   ],
   "source": [
    "#for loop \n",
    "n = \"pavan kumar\"\n",
    "for i in n:\n",
    "    print(i)"
   ]
  },
  {
   "cell_type": "code",
   "execution_count": 28,
   "id": "a570c382-99fd-4ec1-9420-9689907ff135",
   "metadata": {},
   "outputs": [
    {
     "name": "stdin",
     "output_type": "stream",
     "text": [
      "Enter name: pavan\n"
     ]
    },
    {
     "name": "stdout",
     "output_type": "stream",
     "text": [
      "The character  at 0 index is: p\n",
      "The character  at 1 index is: a\n",
      "The character  at 2 index is: v\n",
      "The character  at 3 index is: a\n",
      "The character  at 4 index is: n\n"
     ]
    }
   ],
   "source": [
    "n = input(\"Enter name:\")\n",
    "i = 0\n",
    "for x in n:\n",
    "    print(\"The character  at\",i,\"index is:\",x)\n",
    "    i=i+1"
   ]
  },
  {
   "cell_type": "code",
   "execution_count": 39,
   "id": "306a1acc-d576-4a3b-9baa-7245334a0d5d",
   "metadata": {},
   "outputs": [
    {
     "name": "stdout",
     "output_type": "stream",
     "text": [
      "pavan\n",
      "pavan\n",
      "pavan\n"
     ]
    }
   ],
   "source": [
    "for i in range(3):\n",
    "    print(\"pavan\")"
   ]
  },
  {
   "cell_type": "code",
   "execution_count": 40,
   "id": "3e64bff6-c366-4d00-8861-6c37bf0e230d",
   "metadata": {},
   "outputs": [
    {
     "name": "stdout",
     "output_type": "stream",
     "text": [
      "0\n",
      "1\n",
      "2\n",
      "3\n",
      "4\n"
     ]
    }
   ],
   "source": [
    "for j in range(5):\n",
    "    print(j)"
   ]
  },
  {
   "cell_type": "code",
   "execution_count": 51,
   "id": "4e25de16-ddfc-418c-bfcb-f844a8b7f52c",
   "metadata": {},
   "outputs": [
    {
     "name": "stdout",
     "output_type": "stream",
     "text": [
      "1\n",
      "3\n",
      "5\n",
      "7\n",
      "9\n"
     ]
    }
   ],
   "source": [
    "#to displ odd numbers in a given group of numbers\n",
    "for s in range(0,10):\n",
    "     if (s%2 != 0):\n",
    "        print(s)"
   ]
  },
  {
   "cell_type": "code",
   "execution_count": 52,
   "id": "27a7a926-c392-4f9f-902a-e72b2d1af2f6",
   "metadata": {},
   "outputs": [
    {
     "name": "stdout",
     "output_type": "stream",
     "text": [
      "0\n",
      "2\n",
      "4\n",
      "6\n",
      "8\n"
     ]
    }
   ],
   "source": [
    "#to displ even numbers in a given group of numbers\n",
    "for s in range(0,10):\n",
    "     if (s%2 == 0):\n",
    "        print(s)"
   ]
  },
  {
   "cell_type": "code",
   "execution_count": 57,
   "id": "5f81b840-9022-48f5-92d5-35a1ec619bf3",
   "metadata": {},
   "outputs": [
    {
     "name": "stdout",
     "output_type": "stream",
     "text": [
      "9\n",
      "8\n",
      "7\n",
      "6\n",
      "5\n",
      "4\n",
      "3\n",
      "2\n",
      "1\n"
     ]
    }
   ],
   "source": [
    "#to print Desending order\n",
    "for i in range(9,0,-1):\n",
    "    print(i)"
   ]
  },
  {
   "cell_type": "code",
   "execution_count": 61,
   "id": "ea8388df-682d-4f97-8077-6f9beaae4c44",
   "metadata": {},
   "outputs": [
    {
     "name": "stdout",
     "output_type": "stream",
     "text": [
      "635\n"
     ]
    }
   ],
   "source": [
    "li = [1,2,3,4,5,6,4,55,555]\n",
    "sum = 0\n",
    "for l in li:\n",
    "    sum = sum+l\n",
    "print(sum)"
   ]
  },
  {
   "cell_type": "code",
   "execution_count": 63,
   "id": "ac54b2b5-ba71-4941-9db8-c90956749462",
   "metadata": {},
   "outputs": [
    {
     "name": "stdin",
     "output_type": "stream",
     "text": [
      "enter list: 3,4,5 \n"
     ]
    },
    {
     "name": "stdout",
     "output_type": "stream",
     "text": [
      "12\n"
     ]
    }
   ],
   "source": [
    "lst = eval(input(\"enter list:\"))\n",
    "sum = 0\n",
    "for l in lst:\n",
    "    sum = sum+l\n",
    "print(sum)"
   ]
  },
  {
   "cell_type": "code",
   "execution_count": null,
   "id": "ccfd2528-0b40-4ffc-afad-393e5cdf9e0b",
   "metadata": {},
   "outputs": [],
   "source": []
  }
 ],
 "metadata": {
  "kernelspec": {
   "display_name": "Python 3 (ipykernel)",
   "language": "python",
   "name": "python3"
  },
  "language_info": {
   "codemirror_mode": {
    "name": "ipython",
    "version": 3
   },
   "file_extension": ".py",
   "mimetype": "text/x-python",
   "name": "python",
   "nbconvert_exporter": "python",
   "pygments_lexer": "ipython3",
   "version": "3.11.5"
  }
 },
 "nbformat": 4,
 "nbformat_minor": 5
}
