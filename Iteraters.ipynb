{
 "cells": [
  {
   "cell_type": "code",
   "execution_count": 2,
   "id": "1fe08210-8c19-45d1-92b3-97b1b39c91d5",
   "metadata": {},
   "outputs": [
    {
     "name": "stdout",
     "output_type": "stream",
     "text": [
      "1\n",
      "2\n",
      "3\n",
      "4\n",
      "5\n",
      "6\n"
     ]
    },
    {
     "data": {
      "text/plain": [
       "6"
      ]
     },
     "execution_count": 2,
     "metadata": {},
     "output_type": "execute_result"
    }
   ],
   "source": [
    "#Iteraters\n",
    "\n",
    "#Every iterator is also an iterable but not every iterable is an iterator\n",
    "#Ex: A List is iterable(iterable object (a set, a string, a list etc.)) but a List is not Iterator\n",
    "\n",
    "\n",
    "list = [1,2,3,4,5,6]    #list is an iterable\n",
    "for i in list:\n",
    "    print(i)\n",
    "1\n",
    "2\n",
    "3\n",
    "4\n",
    "5\n",
    "6\n",
    "\n",
    "\n",
    "\n",
    "#The for statement calls iter() on the object ( which should be a so-called container object), which it is supposed to loop over.\n",
    "#If this call is successful, the iter call will return return an iterator object that defines the method next() which accesses elements of the object one at a time.\n",
    "#The next() method will raise a StopIteration exception, if there are no further elements available. \n",
    "#The for loop while terminate as soon as it catches a StopIteration exception. You can call the next() method using the next() built-in function."
   ]
  },
  {
   "cell_type": "code",
   "execution_count": 17,
   "id": "7c553447-4061-423f-a0be-aa5a0a9e2131",
   "metadata": {},
   "outputs": [
    {
     "name": "stdout",
     "output_type": "stream",
     "text": [
      "<list_iterator object at 0x0000019BDB6A5450>\n",
      "pavan\n",
      "kumar\n",
      "yallabandi\n",
      "satish\n"
     ]
    },
    {
     "ename": "StopIteration",
     "evalue": "",
     "output_type": "error",
     "traceback": [
      "\u001b[1;31m---------------------------------------------------------------------------\u001b[0m",
      "\u001b[1;31mStopIteration\u001b[0m                             Traceback (most recent call last)",
      "Cell \u001b[1;32mIn[17], line 9\u001b[0m\n\u001b[0;32m      7\u001b[0m \u001b[38;5;28mprint\u001b[39m(\u001b[38;5;28mnext\u001b[39m(itrobj)) \n\u001b[0;32m      8\u001b[0m \u001b[38;5;28mprint\u001b[39m(\u001b[38;5;28mnext\u001b[39m(itrobj))\n\u001b[1;32m----> 9\u001b[0m \u001b[38;5;28mprint\u001b[39m(\u001b[38;5;28;43mnext\u001b[39;49m\u001b[43m(\u001b[49m\u001b[43mitrobj\u001b[49m\u001b[43m)\u001b[49m)\n",
      "\u001b[1;31mStopIteration\u001b[0m: "
     ]
    }
   ],
   "source": [
    "lst = ['pavan','kumar','yallabandi','satish']\n",
    "itrobj = iter(lst)    #to convert iterable object into iterator\n",
    "print(itrobj)\n",
    "\n",
    "print(next(itrobj))\n",
    "print(next(itrobj))\n",
    "print(next(itrobj)) \n",
    "print(next(itrobj))\n",
    "#print(next(itrobj))    #StopIteration \n"
   ]
  },
  {
   "cell_type": "code",
   "execution_count": 18,
   "id": "4eb4084a-f563-4cc8-a5ba-2de11b3e9195",
   "metadata": {},
   "outputs": [
    {
     "name": "stdout",
     "output_type": "stream",
     "text": [
      "A\n",
      "B\n",
      "C\n"
     ]
    }
   ],
   "source": [
    "#Generators?\n",
    "#it is a function which is responsible to generate a sequence of values\n",
    "#(it is a funtion that returns an object which can iterate over as one value at a time)\n",
    "#we can write generator function just like ordinary functions but it uses yield keyword to return values\n",
    "#if a function contain atleast one yield statement it becomes a generator function\n",
    "\n",
    "def gen():\n",
    "    yield 'A'\n",
    "    yield 'B'\n",
    "    yield 'C'\n",
    "\n",
    "g=gen()\n",
    "print(next(g))\n",
    "print(next(g))\n",
    "print(next(g))\n",
    "#print(next(g))   #StopIteration:\n"
   ]
  },
  {
   "cell_type": "code",
   "execution_count": 44,
   "id": "12ab477b-099e-4610-8887-36beeecaf503",
   "metadata": {},
   "outputs": [
    {
     "name": "stdout",
     "output_type": "stream",
     "text": [
      "<class 'generator'>\n",
      "<class 'function'>\n",
      "1\n",
      "2\n",
      "3\n",
      "4\n",
      "5\n"
     ]
    }
   ],
   "source": [
    "def gem(x):\n",
    "    i = 1\n",
    "    while i <=x :\n",
    "        yield i\n",
    "        i = i+1\n",
    "\n",
    "print(type(gem(5)))\n",
    "print(type(gem))\n",
    "v =  gem(5)\n",
    "print(next(v))\n",
    "print(next(v))\n",
    "print(next(v))\n",
    "print(next(v))\n",
    "print(next(v))\n",
    "\n"
   ]
  },
  {
   "cell_type": "code",
   "execution_count": 42,
   "id": "e5415eb3-6f5c-44b6-8d26-9ddb27ae3dd7",
   "metadata": {},
   "outputs": [
    {
     "name": "stdout",
     "output_type": "stream",
     "text": [
      "<class 'function'>\n",
      "1\n",
      "2\n",
      "3\n",
      "4\n",
      "5\n"
     ]
    }
   ],
   "source": [
    "def firstn(num):\n",
    "    n=1\n",
    "    while n<=num:\n",
    "        yield n\n",
    "        n=n+1\n",
    "                \n",
    "print(type(firstn))\n",
    "f = firstn(5)\n",
    "for i in f:\n",
    "    print(i)"
   ]
  },
  {
   "cell_type": "code",
   "execution_count": 45,
   "id": "de9b29f9-f2c8-436d-8dac-2924f27b5b66",
   "metadata": {},
   "outputs": [],
   "source": [
    "def fib():\n",
    "    a,b = 0,1\n",
    "    while True:\n",
    "        yield a                #what we have done last time and what we have to genarate next time\n",
    "        a,b = b,a+b"
   ]
  },
  {
   "cell_type": "code",
   "execution_count": 53,
   "id": "c2018a2f-5e13-437d-bdb3-b92e2e191e6f",
   "metadata": {},
   "outputs": [
    {
     "name": "stdout",
     "output_type": "stream",
     "text": [
      "0\n",
      "1\n",
      "1\n",
      "2\n",
      "3\n",
      "5\n"
     ]
    }
   ],
   "source": [
    "s= fib()\n",
    "print(next(s))\n",
    "print(next(s))\n",
    "print(next(s))\n",
    "print(next(s))\n",
    "print(next(s))\n",
    "print(next(s))\n"
   ]
  },
  {
   "cell_type": "code",
   "execution_count": 64,
   "id": "8cb42165-5684-4609-85ca-f4c10daf6e3c",
   "metadata": {},
   "outputs": [
    {
     "name": "stdout",
     "output_type": "stream",
     "text": [
      "0\n",
      "1\n",
      "1\n",
      "2\n",
      "3\n",
      "5\n",
      "8\n"
     ]
    }
   ],
   "source": [
    "for i in fib():\n",
    "    if i<10:\n",
    "        print(i)\n",
    "    \n",
    "    else:\n",
    "         break\n"
   ]
  },
  {
   "cell_type": "code",
   "execution_count": 69,
   "id": "e4414e1e-abe1-43c9-b8c5-8a962deac67e",
   "metadata": {},
   "outputs": [
    {
     "data": {
      "text/plain": [
       "[1, 1, 2, 3, 5, 8, 13, 21, 34, 55]"
      ]
     },
     "execution_count": 69,
     "metadata": {},
     "output_type": "execute_result"
    }
   ],
   "source": [
    "def fibon(n):\n",
    "    a = 1\n",
    "    b = 1\n",
    "    output = []\n",
    "    \n",
    "    for i in range(n):\n",
    "        output.append(a)\n",
    "        a,b = b,a+b\n",
    "        \n",
    "    return output\n",
    "\n",
    "fibon(10)"
   ]
  },
  {
   "cell_type": "code",
   "execution_count": null,
   "id": "ab89ac23-482c-480f-a205-e5cd4c9b1e5f",
   "metadata": {},
   "outputs": [],
   "source": []
  }
 ],
 "metadata": {
  "kernelspec": {
   "display_name": "Python 3 (ipykernel)",
   "language": "python",
   "name": "python3"
  },
  "language_info": {
   "codemirror_mode": {
    "name": "ipython",
    "version": 3
   },
   "file_extension": ".py",
   "mimetype": "text/x-python",
   "name": "python",
   "nbconvert_exporter": "python",
   "pygments_lexer": "ipython3",
   "version": "3.11.5"
  }
 },
 "nbformat": 4,
 "nbformat_minor": 5
}
