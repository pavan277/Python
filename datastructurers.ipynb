{
 "cells": [
  {
   "cell_type": "code",
   "execution_count": 9,
   "id": "bd58ad30-5227-4889-90a4-eac31e18bdc9",
   "metadata": {},
   "outputs": [
    {
     "name": "stdout",
     "output_type": "stream",
     "text": [
      "<class 'list'>\n"
     ]
    }
   ],
   "source": [
    "#list\n",
    "ls= [1,3,5,'hai',True]\n",
    "print (type(ls))"
   ]
  },
  {
   "cell_type": "code",
   "execution_count": 10,
   "id": "34378d21-0da0-43cb-a7d4-7cd61f8cc62b",
   "metadata": {},
   "outputs": [
    {
     "name": "stdout",
     "output_type": "stream",
     "text": [
      "1\n",
      "2\n",
      "3\n",
      "4\n"
     ]
    }
   ],
   "source": [
    "ls =[]\n",
    "for i in range(1,5):\n",
    "    print(i)"
   ]
  },
  {
   "cell_type": "code",
   "execution_count": 28,
   "id": "96d47782-aa73-4652-90bd-5d326fc6f948",
   "metadata": {},
   "outputs": [
    {
     "name": "stdout",
     "output_type": "stream",
     "text": [
      "[1, 2, 3, 4]\n"
     ]
    }
   ],
   "source": [
    "ls =[]\n",
    "for i in range(1,5):\n",
    "    ls.append(i)\n",
    "print(ls)"
   ]
  },
  {
   "cell_type": "code",
   "execution_count": 24,
   "id": "db1f1985-f6c3-4f69-b998-0b9dbffb78f5",
   "metadata": {},
   "outputs": [
    {
     "name": "stdin",
     "output_type": "stream",
     "text": [
      "enter list values : ['pavan',1,3,5,]\n"
     ]
    },
    {
     "name": "stdout",
     "output_type": "stream",
     "text": [
      "['pavan', 1, 3, 5]\n",
      "<class 'list'>\n"
     ]
    }
   ],
   "source": [
    "dl = eval(input(\"enter list values :\"))\n",
    "print(dl)\n",
    "print(type(dl))\n"
   ]
  },
  {
   "cell_type": "code",
   "execution_count": 16,
   "id": "c6c3b660-ba08-441e-8044-ab984f4ad98b",
   "metadata": {},
   "outputs": [
    {
     "data": {
      "text/plain": [
       "['hai', 'kumar', 'good', 'morng']"
      ]
     },
     "execution_count": 16,
     "metadata": {},
     "output_type": "execute_result"
    }
   ],
   "source": [
    "s =\"hai kumar good morng\"\n",
    "s.split()"
   ]
  },
  {
   "cell_type": "code",
   "execution_count": 43,
   "id": "844b9aa0-d14e-437a-b41f-40109f46ced5",
   "metadata": {},
   "outputs": [
    {
     "data": {
      "text/plain": [
       "True"
      ]
     },
     "execution_count": 43,
     "metadata": {},
     "output_type": "execute_result"
    }
   ],
   "source": [
    "#accesing list by index\n",
    "\n",
    "al = ['kumar',1,3,True]\n",
    "al[3]"
   ]
  },
  {
   "cell_type": "code",
   "execution_count": 40,
   "id": "57f74c1d-201a-4609-8407-7c24129520a5",
   "metadata": {},
   "outputs": [
    {
     "name": "stdout",
     "output_type": "stream",
     "text": [
      "[0, 1, 2, 3, 4]\n"
     ]
    }
   ],
   "source": [
    "ls =[]\n",
    "for i in range(5):\n",
    "    ls.append(i)\n",
    "print(ls)"
   ]
  },
  {
   "cell_type": "code",
   "execution_count": 60,
   "id": "be6750f4-aec1-4e58-b45b-f1b53fdb134b",
   "metadata": {},
   "outputs": [
    {
     "name": "stdout",
     "output_type": "stream",
     "text": [
      "[1, 3, 'pavan', True, (1+2j), True]\n"
     ]
    },
    {
     "data": {
      "text/plain": [
       "[1, 'pavan', (1+2j)]"
      ]
     },
     "execution_count": 60,
     "metadata": {},
     "output_type": "execute_result"
    }
   ],
   "source": [
    "#by using slice operater\n",
    "lst=[1,3,'pavan',True,1+2j,True]\n",
    "print(lst)\n",
    "lst[0:6:2]\n"
   ]
  },
  {
   "cell_type": "code",
   "execution_count": 13,
   "id": "359ebf60-893d-401b-a386-cde8efe2404e",
   "metadata": {},
   "outputs": [
    {
     "name": "stdout",
     "output_type": "stream",
     "text": [
      "[1, 4, True, 'pavan', 5, 'hemanth', (1+2j)]\n"
     ]
    },
    {
     "data": {
      "text/plain": [
       "[4, 'pavan']"
      ]
     },
     "execution_count": 13,
     "metadata": {},
     "output_type": "execute_result"
    }
   ],
   "source": [
    "p = [1, 4,True,'pavan',5,'hemanth',1+2j,1,True,Fals]\n",
    "print(p)\n",
    "p[1:5:2]"
   ]
  },
  {
   "cell_type": "code",
   "execution_count": 20,
   "id": "9587d56e-9d49-46c5-ada3-8a0f02a71d52",
   "metadata": {},
   "outputs": [
    {
     "name": "stdout",
     "output_type": "stream",
     "text": [
      "[1, 4, True, 'pavan', 5, 'hemanth', (1+2j)]\n",
      "7\n"
     ]
    }
   ],
   "source": [
    "len(p)\n",
    "print(p)\n",
    "print(len(p))"
   ]
  },
  {
   "cell_type": "code",
   "execution_count": 23,
   "id": "6f6d2f3b-dfea-4202-b6a8-e5e4cab4971e",
   "metadata": {},
   "outputs": [
    {
     "data": {
      "text/plain": [
       "2"
      ]
     },
     "execution_count": 23,
     "metadata": {},
     "output_type": "execute_result"
    }
   ],
   "source": [
    "p.count(True)"
   ]
  },
  {
   "cell_type": "code",
   "execution_count": 29,
   "id": "4bef02c9-2618-4dd6-9dc2-ff7ffb941e53",
   "metadata": {},
   "outputs": [
    {
     "name": "stdout",
     "output_type": "stream",
     "text": [
      "1\n",
      "2\n",
      "3\n",
      "4\n",
      "5\n",
      "6\n"
     ]
    }
   ],
   "source": [
    "n = [1,2,3,4,5,6]\n",
    "for i in n :\n",
    "    print(i)\n",
    "n.reverse()"
   ]
  },
  {
   "cell_type": "code",
   "execution_count": 28,
   "id": "2e9176d3-c525-4ba4-8580-60cb5594f638",
   "metadata": {},
   "outputs": [
    {
     "name": "stdout",
     "output_type": "stream",
     "text": [
      "pavan\n"
     ]
    },
    {
     "data": {
      "text/plain": [
       "['pavan', 11]"
      ]
     },
     "execution_count": 28,
     "metadata": {},
     "output_type": "execute_result"
    }
   ],
   "source": [
    "ln = ['pavan',11,'pavan',12,1]\n",
    "ln.pop()\n",
    "ln\n",
    "ln.pop()\n",
    "n = ln.pop()\n",
    "print(n)\n",
    "ln"
   ]
  },
  {
   "cell_type": "code",
   "execution_count": 23,
   "id": "31ded597-9938-4e51-bef9-6bd5a2cdae26",
   "metadata": {},
   "outputs": [
    {
     "data": {
      "text/plain": [
       "['yallabandi', 1, 2, 3, 4, 5, 6]"
      ]
     },
     "execution_count": 23,
     "metadata": {},
     "output_type": "execute_result"
    }
   ],
   "source": [
    "#insert\n",
    "n.insert(0,'yallabandi')\n",
    "\n",
    "n\n"
   ]
  },
  {
   "cell_type": "code",
   "execution_count": 9,
   "id": "7a1ff9ac-fd07-4385-9ed4-ff7a418bcb71",
   "metadata": {},
   "outputs": [
    {
     "data": {
      "text/plain": [
       "['pavan', 11, 'pavan', 12, 11, 13, 14, 15, 16, 17, 4, 5, 3]"
      ]
     },
     "execution_count": 9,
     "metadata": {},
     "output_type": "execute_result"
    }
   ],
   "source": [
    "#extentp\n",
    "ln1 =['pavan',11,'pavan',12,11,13,14,15,16,17]\n",
    "ln2 = [4,5,3]\n",
    "ln1\n",
    "ln2\n",
    "ln1.extend(ln2) \n",
    "ln1. "
   ]
  },
  {
   "cell_type": "code",
   "execution_count": 14,
   "id": "75e2a74b-8a16-41b9-b2ef-5e6e94de8438",
   "metadata": {},
   "outputs": [
    {
     "ename": "ValueError",
     "evalue": "list.remove(x): x not in list",
     "output_type": "error",
     "traceback": [
      "\u001b[1;31m---------------------------------------------------------------------------\u001b[0m",
      "\u001b[1;31mValueError\u001b[0m                                Traceback (most recent call last)",
      "Cell \u001b[1;32mIn[14], line 1\u001b[0m\n\u001b[1;32m----> 1\u001b[0m \u001b[43mln1\u001b[49m\u001b[38;5;241;43m.\u001b[39;49m\u001b[43mremove\u001b[49m\u001b[43m(\u001b[49m\u001b[38;5;241;43m11\u001b[39;49m\u001b[43m)\u001b[49m\n\u001b[0;32m      2\u001b[0m ln1\n\u001b[0;32m      3\u001b[0m in1\u001b[38;5;241m.\u001b[39mpop()\n",
      "\u001b[1;31mValueError\u001b[0m: list.remove(x): x not in list"
     ]
    }
   ],
   "source": [
    "ln1.remove(11)\n",
    "ln1\n",
    "in1.pop()\n"
   ]
  },
  {
   "cell_type": "code",
   "execution_count": 32,
   "id": "928a1ae5-af20-4f8d-940d-3761ee6b865e",
   "metadata": {},
   "outputs": [
    {
     "data": {
      "text/plain": [
       "[3, 5, 4, 17, 16, 15, 14, 13, 11, 12]"
      ]
     },
     "execution_count": 32,
     "metadata": {},
     "output_type": "execute_result"
    }
   ],
   "source": [
    "#revese a list \n",
    "rl = [12, 11, 13, 14, 15, 16, 17, 4, 5, 3]\n",
    "rl.reverse()\n",
    "rl\n"
   ]
  },
  {
   "cell_type": "code",
   "execution_count": 38,
   "id": "f8c2f21c-5f41-4df8-af09-192e665daa33",
   "metadata": {},
   "outputs": [
    {
     "ename": "AttributeError",
     "evalue": "'builtin_function_or_method' object has no attribute 'true'",
     "output_type": "error",
     "traceback": [
      "\u001b[1;31m---------------------------------------------------------------------------\u001b[0m",
      "\u001b[1;31mAttributeError\u001b[0m                            Traceback (most recent call last)",
      "Cell \u001b[1;32mIn[38], line 3\u001b[0m\n\u001b[0;32m      1\u001b[0m r2 \u001b[38;5;241m=\u001b[39m [\u001b[38;5;241m3\u001b[39m,\u001b[38;5;241m2\u001b[39m,\u001b[38;5;241m6\u001b[39m,\u001b[38;5;241m1\u001b[39m,\u001b[38;5;241m2\u001b[39m]\n\u001b[0;32m      2\u001b[0m r2\u001b[38;5;241m.\u001b[39msort()\n\u001b[1;32m----> 3\u001b[0m \u001b[43mr2\u001b[49m\u001b[38;5;241;43m.\u001b[39;49m\u001b[43mreverse\u001b[49m\u001b[38;5;241;43m.\u001b[39;49m\u001b[43mtrue\u001b[49m()\n",
      "\u001b[1;31mAttributeError\u001b[0m: 'builtin_function_or_method' object has no attribute 'true'"
     ]
    }
   ],
   "source": [
    "r2 = [3,2,6,1,2]\n",
    "r2.sort()\n",
    "r2.reverse.true()"
   ]
  },
  {
   "cell_type": "code",
   "execution_count": 37,
   "id": "7c46ee46-5d0e-42ad-ae71-7de72b710722",
   "metadata": {},
   "outputs": [
    {
     "data": {
      "text/plain": [
       "[1, 2, 2, 3, 6]"
      ]
     },
     "execution_count": 37,
     "metadata": {},
     "output_type": "execute_result"
    }
   ],
   "source": [
    "r2"
   ]
  },
  {
   "cell_type": "code",
   "execution_count": null,
   "id": "422a7f3c-1ebe-41bc-a79b-69cbf03a8284",
   "metadata": {},
   "outputs": [],
   "source": []
  }
 ],
 "metadata": {
  "kernelspec": {
   "display_name": "Python 3 (ipykernel)",
   "language": "python",
   "name": "python3"
  },
  "language_info": {
   "codemirror_mode": {
    "name": "ipython",
    "version": 3
   },
   "file_extension": ".py",
   "mimetype": "text/x-python",
   "name": "python",
   "nbconvert_exporter": "python",
   "pygments_lexer": "ipython3",
   "version": "3.11.5"
  }
 },
 "nbformat": 4,
 "nbformat_minor": 5
}
