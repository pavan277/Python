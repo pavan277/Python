{
 "cells": [
  {
   "cell_type": "code",
   "execution_count": 9,
   "id": "bd58ad30-5227-4889-90a4-eac31e18bdc9",
   "metadata": {},
   "outputs": [
    {
     "name": "stdout",
     "output_type": "stream",
     "text": [
      "<class 'list'>\n"
     ]
    }
   ],
   "source": [
    "#list\n",
    "ls= [1,3,5,'hai',True]\n",
    "print (type(ls))"
   ]
  },
  {
   "cell_type": "code",
   "execution_count": 10,
   "id": "34378d21-0da0-43cb-a7d4-7cd61f8cc62b",
   "metadata": {},
   "outputs": [
    {
     "name": "stdout",
     "output_type": "stream",
     "text": [
      "1\n",
      "2\n",
      "3\n",
      "4\n"
     ]
    }
   ],
   "source": [
    "ls =[]\n",
    "for i in range(1,5):\n",
    "    print(i)"
   ]
  },
  {
   "cell_type": "code",
   "execution_count": 28,
   "id": "96d47782-aa73-4652-90bd-5d326fc6f948",
   "metadata": {},
   "outputs": [
    {
     "name": "stdout",
     "output_type": "stream",
     "text": [
      "[1, 2, 3, 4]\n"
     ]
    }
   ],
   "source": [
    "ls =[]\n",
    "for i in range(1,5):\n",
    "    ls.append(i)\n",
    "print(ls)"
   ]
  },
  {
   "cell_type": "code",
   "execution_count": 24,
   "id": "db1f1985-f6c3-4f69-b998-0b9dbffb78f5",
   "metadata": {},
   "outputs": [
    {
     "name": "stdin",
     "output_type": "stream",
     "text": [
      "enter list values : ['pavan',1,3,5,]\n"
     ]
    },
    {
     "name": "stdout",
     "output_type": "stream",
     "text": [
      "['pavan', 1, 3, 5]\n",
      "<class 'list'>\n"
     ]
    }
   ],
   "source": [
    "dl = eval(input(\"enter list values :\"))\n",
    "print(dl)\n",
    "print(type(dl))\n"
   ]
  },
  {
   "cell_type": "code",
   "execution_count": 16,
   "id": "c6c3b660-ba08-441e-8044-ab984f4ad98b",
   "metadata": {},
   "outputs": [
    {
     "data": {
      "text/plain": [
       "['hai', 'kumar', 'good', 'morng']"
      ]
     },
     "execution_count": 16,
     "metadata": {},
     "output_type": "execute_result"
    }
   ],
   "source": [
    "s =\"hai kumar good morng\"\n",
    "s.split()"
   ]
  },
  {
   "cell_type": "code",
   "execution_count": 43,
   "id": "844b9aa0-d14e-437a-b41f-40109f46ced5",
   "metadata": {},
   "outputs": [
    {
     "data": {
      "text/plain": [
       "True"
      ]
     },
     "execution_count": 43,
     "metadata": {},
     "output_type": "execute_result"
    }
   ],
   "source": [
    "#accesing list by index\n",
    "\n",
    "al = ['kumar',1,3,True]\n",
    "al[3]"
   ]
  },
  {
   "cell_type": "code",
   "execution_count": 40,
   "id": "57f74c1d-201a-4609-8407-7c24129520a5",
   "metadata": {},
   "outputs": [
    {
     "name": "stdout",
     "output_type": "stream",
     "text": [
      "[0, 1, 2, 3, 4]\n"
     ]
    }
   ],
   "source": [
    "ls =[]\n",
    "for i in range(5):\n",
    "    ls.append(i)\n",
    "print(ls)"
   ]
  },
  {
   "cell_type": "code",
   "execution_count": 60,
   "id": "be6750f4-aec1-4e58-b45b-f1b53fdb134b",
   "metadata": {},
   "outputs": [
    {
     "name": "stdout",
     "output_type": "stream",
     "text": [
      "[1, 3, 'pavan', True, (1+2j), True]\n"
     ]
    },
    {
     "data": {
      "text/plain": [
       "[1, 'pavan', (1+2j)]"
      ]
     },
     "execution_count": 60,
     "metadata": {},
     "output_type": "execute_result"
    }
   ],
   "source": [
    "#by using slice operater\n",
    "lst=[1,3,'pavan',True,1+2j,True]\n",
    "print(lst)\n",
    "lst[0:6:2]\n"
   ]
  },
  {
   "cell_type": "code",
   "execution_count": 13,
   "id": "359ebf60-893d-401b-a386-cde8efe2404e",
   "metadata": {},
   "outputs": [
    {
     "name": "stdout",
     "output_type": "stream",
     "text": [
      "[1, 4, True, 'pavan', 5, 'hemanth', (1+2j)]\n"
     ]
    },
    {
     "data": {
      "text/plain": [
       "[4, 'pavan']"
      ]
     },
     "execution_count": 13,
     "metadata": {},
     "output_type": "execute_result"
    }
   ],
   "source": [
    "p = [1, 4,True,'pavan',5,'hemanth',1+2j,1,True,Fals]\n",
    "print(p)\n",
    "p[1:5:2]"
   ]
  },
  {
   "cell_type": "code",
   "execution_count": 20,
   "id": "9587d56e-9d49-46c5-ada3-8a0f02a71d52",
   "metadata": {},
   "outputs": [
    {
     "name": "stdout",
     "output_type": "stream",
     "text": [
      "[1, 4, True, 'pavan', 5, 'hemanth', (1+2j)]\n",
      "7\n"
     ]
    }
   ],
   "source": [
    "len(p)\n",
    "print(p)\n",
    "print(len(p))"
   ]
  },
  {
   "cell_type": "code",
   "execution_count": 23,
   "id": "6f6d2f3b-dfea-4202-b6a8-e5e4cab4971e",
   "metadata": {},
   "outputs": [
    {
     "data": {
      "text/plain": [
       "2"
      ]
     },
     "execution_count": 23,
     "metadata": {},
     "output_type": "execute_result"
    }
   ],
   "source": [
    "p.count(True)"
   ]
  },
  {
   "cell_type": "code",
   "execution_count": 29,
   "id": "4bef02c9-2618-4dd6-9dc2-ff7ffb941e53",
   "metadata": {},
   "outputs": [
    {
     "name": "stdout",
     "output_type": "stream",
     "text": [
      "1\n",
      "2\n",
      "3\n",
      "4\n",
      "5\n",
      "6\n"
     ]
    }
   ],
   "source": [
    "n = [1,2,3,4,5,6]\n",
    "for i in n :\n",
    "    print(i)\n",
    "n.reverse()"
   ]
  },
  {
   "cell_type": "code",
   "execution_count": 28,
   "id": "2e9176d3-c525-4ba4-8580-60cb5594f638",
   "metadata": {},
   "outputs": [
    {
     "name": "stdout",
     "output_type": "stream",
     "text": [
      "pavan\n"
     ]
    },
    {
     "data": {
      "text/plain": [
       "['pavan', 11]"
      ]
     },
     "execution_count": 28,
     "metadata": {},
     "output_type": "execute_result"
    }
   ],
   "source": [
    "ln = ['pavan',11,'pavan',12,1]\n",
    "ln.pop()\n",
    "ln\n",
    "ln.pop()\n",
    "n = ln.pop()\n",
    "print(n)\n",
    "ln"
   ]
  },
  {
   "cell_type": "code",
   "execution_count": 23,
   "id": "31ded597-9938-4e51-bef9-6bd5a2cdae26",
   "metadata": {},
   "outputs": [
    {
     "data": {
      "text/plain": [
       "['yallabandi', 1, 2, 3, 4, 5, 6]"
      ]
     },
     "execution_count": 23,
     "metadata": {},
     "output_type": "execute_result"
    }
   ],
   "source": [
    "#insert\n",
    "n.insert(0,'yallabandi')\n",
    "\n",
    "n\n"
   ]
  },
  {
   "cell_type": "code",
   "execution_count": 9,
   "id": "7a1ff9ac-fd07-4385-9ed4-ff7a418bcb71",
   "metadata": {},
   "outputs": [
    {
     "data": {
      "text/plain": [
       "['pavan', 11, 'pavan', 12, 11, 13, 14, 15, 16, 17, 4, 5, 3]"
      ]
     },
     "execution_count": 9,
     "metadata": {},
     "output_type": "execute_result"
    }
   ],
   "source": [
    "#extentp\n",
    "ln1 =['pavan',11,'pavan',12,11,13,14,15,16,17]\n",
    "ln2 = [4,5,3]\n",
    "ln1\n",
    "ln2\n",
    "ln1.extend(ln2) \n",
    "ln1. "
   ]
  },
  {
   "cell_type": "code",
   "execution_count": null,
   "id": "75e2a74b-8a16-41b9-b2ef-5e6e94de8438",
   "metadata": {},
   "outputs": [],
   "source": [
    "\n",
    "\n"
   ]
  },
  {
   "cell_type": "code",
   "execution_count": 32,
   "id": "928a1ae5-af20-4f8d-940d-3761ee6b865e",
   "metadata": {},
   "outputs": [
    {
     "data": {
      "text/plain": [
       "[3, 5, 4, 17, 16, 15, 14, 13, 11, 12]"
      ]
     },
     "execution_count": 32,
     "metadata": {},
     "output_type": "execute_result"
    }
   ],
   "source": [
    "#revese a list \n",
    "rl = [12, 11, 13, 14, 15, 16, 17, 4, 5, 3]\n",
    "rl.reverse()\n",
    "rl\n"
   ]
  },
  {
   "cell_type": "code",
   "execution_count": 35,
   "id": "f8c2f21c-5f41-4df8-af09-192e665daa33",
   "metadata": {},
   "outputs": [
    {
     "data": {
      "text/plain": [
       "[1, 2, 2, 3, 6]"
      ]
     },
     "execution_count": 35,
     "metadata": {},
     "output_type": "execute_result"
    }
   ],
   "source": [
    "r2 = [3,2,6,1,2]\n",
    "r2.sort()\n",
    "r2\n"
   ]
  },
  {
   "cell_type": "code",
   "execution_count": 33,
   "id": "7c46ee46-5d0e-42ad-ae71-7de72b710722",
   "metadata": {},
   "outputs": [],
   "source": [
    "r2.sort()"
   ]
  },
  {
   "cell_type": "code",
   "execution_count": 3,
   "id": "422a7f3c-1ebe-41bc-a79b-69cbf03a8284",
   "metadata": {},
   "outputs": [
    {
     "data": {
      "text/plain": [
       "[0, 2, 4, 6, 8]"
      ]
     },
     "execution_count": 3,
     "metadata": {},
     "output_type": "execute_result"
    }
   ],
   "source": [
    "lst = []\n",
    "for i in range(0,10):\n",
    "       if i%2 == 0:  \n",
    "        lst.append(i)\n",
    "lst"
   ]
  },
  {
   "cell_type": "code",
   "execution_count": 11,
   "id": "39453aec-d74d-4812-b842-ad3e7092903e",
   "metadata": {},
   "outputs": [
    {
     "data": {
      "text/plain": [
       "[0,\n",
       " 2,\n",
       " 4,\n",
       " 6,\n",
       " 8,\n",
       " 'p',\n",
       " 'a',\n",
       " 'v',\n",
       " 'a',\n",
       " 'n',\n",
       " 'p',\n",
       " 'a',\n",
       " 'v',\n",
       " 'a',\n",
       " 'n',\n",
       " 'pavan',\n",
       " 'pavan',\n",
       " 'pavan',\n",
       " 'ypavan']"
      ]
     },
     "execution_count": 11,
     "metadata": {},
     "output_type": "execute_result"
    }
   ],
   "source": [
    "lst.extend(['ypavan'])\n",
    "lst\n",
    "\n"
   ]
  },
  {
   "cell_type": "code",
   "execution_count": 12,
   "id": "b068f142-6aa3-4cff-9078-fbd20b4bbb05",
   "metadata": {},
   "outputs": [
    {
     "data": {
      "text/plain": [
       "[0,\n",
       " 2,\n",
       " 4,\n",
       " 6,\n",
       " 8,\n",
       " 'p',\n",
       " 'a',\n",
       " 'v',\n",
       " 'a',\n",
       " 'n',\n",
       " 'p',\n",
       " 'a',\n",
       " 'v',\n",
       " 'a',\n",
       " 'n',\n",
       " 'pavan',\n",
       " 'pavan',\n",
       " 'pavan',\n",
       " 'ypavan']"
      ]
     },
     "execution_count": 12,
     "metadata": {},
     "output_type": "execute_result"
    }
   ],
   "source": [
    "lst\n"
   ]
  },
  {
   "cell_type": "code",
   "execution_count": 21,
   "id": "e22c4c7c-2698-474d-a6f8-34ea33e6e217",
   "metadata": {},
   "outputs": [
    {
     "data": {
      "text/plain": [
       "[1, 3, 'pavan', ['yallabandi']]"
      ]
     },
     "execution_count": 21,
     "metadata": {},
     "output_type": "execute_result"
    }
   ],
   "source": [
    "ls1 = [1,3,'pavan']\n",
    "ls2 = ['yallabandi']\n",
    "ls1.extend([ls2])\n",
    "ls2\n",
    "ls1"
   ]
  },
  {
   "cell_type": "code",
   "execution_count": 22,
   "id": "3a6a7faa-e159-40d9-9182-571646cf2767",
   "metadata": {},
   "outputs": [],
   "source": [
    "ls1.append('kumar')"
   ]
  },
  {
   "cell_type": "code",
   "execution_count": 23,
   "id": "2a9779d3-3ae0-478b-878b-1d6bdf61a272",
   "metadata": {},
   "outputs": [
    {
     "data": {
      "text/plain": [
       "[1, 3, 'pavan', ['yallabandi'], 'kumar']"
      ]
     },
     "execution_count": 23,
     "metadata": {},
     "output_type": "execute_result"
    }
   ],
   "source": [
    "ls1"
   ]
  },
  {
   "cell_type": "code",
   "execution_count": 24,
   "id": "09cb043f-fbf9-4489-8522-3e345ab79b0b",
   "metadata": {},
   "outputs": [
    {
     "ename": "TypeError",
     "evalue": "'<' not supported between instances of 'str' and 'int'",
     "output_type": "error",
     "traceback": [
      "\u001b[1;31m---------------------------------------------------------------------------\u001b[0m",
      "\u001b[1;31mTypeError\u001b[0m                                 Traceback (most recent call last)",
      "Cell \u001b[1;32mIn[24], line 1\u001b[0m\n\u001b[1;32m----> 1\u001b[0m \u001b[43mlst\u001b[49m\u001b[38;5;241;43m.\u001b[39;49m\u001b[43msort\u001b[49m\u001b[43m(\u001b[49m\u001b[43m)\u001b[49m\n",
      "\u001b[1;31mTypeError\u001b[0m: '<' not supported between instances of 'str' and 'int'"
     ]
    }
   ],
   "source": [
    "lst.sort()"
   ]
  },
  {
   "cell_type": "code",
   "execution_count": null,
   "id": "7688955a-9e9e-46c6-88b1-7a906ca3cc6a",
   "metadata": {},
   "outputs": [],
   "source": []
  }
 ],
 "metadata": {
  "kernelspec": {
   "display_name": "Python 3 (ipykernel)",
   "language": "python",
   "name": "python3"
  },
  "language_info": {
   "codemirror_mode": {
    "name": "ipython",
    "version": 3
   },
   "file_extension": ".py",
   "mimetype": "text/x-python",
   "name": "python",
   "nbconvert_exporter": "python",
   "pygments_lexer": "ipython3",
   "version": "3.11.5"
  }
 },
 "nbformat": 4,
 "nbformat_minor": 5
}
