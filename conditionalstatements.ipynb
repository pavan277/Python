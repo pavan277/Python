{
 "cells": [
  {
   "cell_type": "code",
   "execution_count": 17,
   "id": "dd745778-f448-478c-a85d-d3367c83dbd8",
   "metadata": {},
   "outputs": [
    {
     "name": "stdin",
     "output_type": "stream",
     "text": [
      "please enter ur name : kUMar\n"
     ]
    },
    {
     "name": "stdout",
     "output_type": "stream",
     "text": [
      "u got access kUMar\n",
      "kUMar\n"
     ]
    }
   ],
   "source": [
    "#conditional statements\n",
    "#if  is used for single choice conditions\n",
    "n = input(\"please enter ur name :\")\n",
    "if n.lower() == \"kumar\" :\n",
    "    print(\"u got access\",n)\n",
    "    print(n)"
   ]
  },
  {
   "cell_type": "code",
   "execution_count": 32,
   "id": "8206773e-d4ab-4c82-9fde-577e7eb2e2c4",
   "metadata": {},
   "outputs": [
    {
     "name": "stdin",
     "output_type": "stream",
     "text": [
      "pls enter email : pavan@gmail.com\n"
     ]
    },
    {
     "name": "stdout",
     "output_type": "stream",
     "text": [
      "enter password\n"
     ]
    }
   ],
   "source": [
    "#if else for two choice for conditons\n",
    "email = input(\"pls enter email :\")\n",
    "if email == \"pavan@gmail.com\" :\n",
    "    print(\"enter password\")\n",
    "else:\n",
    "    print(\"plase enter valid email\")  \n"
   ]
  },
  {
   "cell_type": "code",
   "execution_count": 40,
   "id": "0b273580-247a-4882-8227-bbfa742090d6",
   "metadata": {},
   "outputs": [
    {
     "name": "stdin",
     "output_type": "stream",
     "text": [
      "enter floor number: 66\n"
     ]
    },
    {
     "name": "stdout",
     "output_type": "stream",
     "text": [
      "go to ground floor \n"
     ]
    }
   ],
   "source": [
    "#if elif used morethan 2 choicese\n",
    "floor = int(input(\"enter floor number:\"))\n",
    "if floor == 1 :\n",
    "    print(\"go to first floor \")\n",
    "elif floor == 2 :\n",
    "    print(\"go to second floor \")\n",
    "elif floor == 3 :\n",
    "    print(\"go to third floor \")\n",
    "else :\n",
    "    print(\"go to ground floor \")\n",
    "\n",
    "  \n"
   ]
  },
  {
   "cell_type": "markdown",
   "id": "ef948e9e-6f64-4250-90c3-44de27266324",
   "metadata": {},
   "source": [
    "# "
   ]
  },
  {
   "cell_type": "code",
   "execution_count": null,
   "id": "91b734db-f624-4476-b210-e8307c1862bc",
   "metadata": {},
   "outputs": [],
   "source": []
  }
 ],
 "metadata": {
  "kernelspec": {
   "display_name": "Python 3 (ipykernel)",
   "language": "python",
   "name": "python3"
  },
  "language_info": {
   "codemirror_mode": {
    "name": "ipython",
    "version": 3
   },
   "file_extension": ".py",
   "mimetype": "text/x-python",
   "name": "python",
   "nbconvert_exporter": "python",
   "pygments_lexer": "ipython3",
   "version": "3.11.5"
  }
 },
 "nbformat": 4,
 "nbformat_minor": 5
}
