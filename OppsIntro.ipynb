{
 "cells": [
  {
   "cell_type": "code",
   "execution_count": 26,
   "id": "04ccffef-b5d3-43e7-a1c0-cff040b87dd9",
   "metadata": {},
   "outputs": [],
   "source": [
    "class Student:\n",
    "    def __init__(self):\n",
    "        self.name = 'pavan'\n",
    "        self.grade = 'b.tech'\n",
    "        self.roll = 227\n",
    "        self.college = 'aditya'\n",
    "        print('initalizing instance variables')\n",
    "    def details(self):\n",
    "        print('hi',self.name)\n",
    "        print('u r roll.no',self.roll)\n",
    "        print('u r college name is',self.college)\n",
    "        print('u r from class ',self.college)\n",
    "    "
   ]
  },
  {
   "cell_type": "code",
   "execution_count": 39,
   "id": "9040adba-7891-4e5b-beb1-d190e957fbb4",
   "metadata": {},
   "outputs": [
    {
     "name": "stdout",
     "output_type": "stream",
     "text": [
      "initalizing instance variables\n",
      "initalizing instance variables\n",
      "initalizing instance variables\n"
     ]
    }
   ],
   "source": [
    "s= Student()\n",
    "s1 = Student()\n",
    "s3= Student()"
   ]
  },
  {
   "cell_type": "code",
   "execution_count": null,
   "id": "da1ed82f-f810-42de-9dcb-759e5fd54b80",
   "metadata": {},
   "outputs": [],
   "source": []
  },
  {
   "cell_type": "code",
   "execution_count": null,
   "id": "9c18d726-7c64-4a07-ac39-58866961fc7b",
   "metadata": {},
   "outputs": [],
   "source": []
  },
  {
   "cell_type": "code",
   "execution_count": 43,
   "id": "74b43383-5a0f-4a86-bb30-9cf0af0b0f86",
   "metadata": {},
   "outputs": [
    {
     "name": "stdout",
     "output_type": "stream",
     "text": [
      "hi pavan\n",
      "u r roll.no 227\n",
      "u r college name is aditya\n",
      "u r from class  aditya\n",
      "hi kambala\n",
      "u r roll.no 227\n",
      "u r college name is aditya\n",
      "u r from class  aditya\n",
      "hi pavan\n",
      "u r roll.no 227\n",
      "u r college name is aditya\n",
      "u r from class  aditya\n"
     ]
    }
   ],
   "source": [
    "s.details()\n",
    "\n",
    "s1.details()\n",
    "s1.name= 'kambala'\n",
    "\n",
    "s3.details()"
   ]
  },
  {
   "cell_type": "code",
   "execution_count": 53,
   "id": "82aef5a1-15d6-4a3e-94f1-7605049225e7",
   "metadata": {},
   "outputs": [],
   "source": [
    "class Student:\n",
    "    def __init__(self,n,g,r,c):\n",
    "        self.name = n\n",
    "        self.grade = g\n",
    "        self.roll = r\n",
    "        self.college = c\n",
    "        print('initalizing instance variables')\n",
    "    def details(self):\n",
    "        print('hi',self.name)\n",
    "        print('u r roll.no',self.roll)\n",
    "        print('u r college name is',self.college)\n",
    "        print('u r from class ',self.grade)"
   ]
  },
  {
   "cell_type": "code",
   "execution_count": 56,
   "id": "070ca25b-43f7-4cb0-9601-833dc18cd1b0",
   "metadata": {},
   "outputs": [
    {
     "name": "stdout",
     "output_type": "stream",
     "text": [
      "initalizing instance variables\n"
     ]
    }
   ],
   "source": [
    "s =Student('pavan',15,227,'gvit')"
   ]
  },
  {
   "cell_type": "code",
   "execution_count": 57,
   "id": "49a46c67-5a9e-4097-b0b7-2b5bd910cf8c",
   "metadata": {},
   "outputs": [
    {
     "name": "stdout",
     "output_type": "stream",
     "text": [
      "hi pavan\n",
      "u r roll.no 227\n",
      "u r college name is gvit\n",
      "u r from class  15\n"
     ]
    }
   ],
   "source": [
    "s.details()"
   ]
  },
  {
   "cell_type": "code",
   "execution_count": 58,
   "id": "75c72e77-7ff5-42e3-ba63-74e858522f83",
   "metadata": {},
   "outputs": [
    {
     "name": "stdout",
     "output_type": "stream",
     "text": [
      "pawan 26 mech\n",
      "kalyan 25 Cse\n"
     ]
    }
   ],
   "source": [
    "class Student:\n",
    "    def __init__(self,x,y,z):\n",
    "        self.name=x\n",
    "        self.age=y\n",
    "        self.qual=z\n",
    "        \n",
    "s1=Student(\"pawan\",26,\"mech\")\n",
    "print(s1.name,s1.age,s1.qual)\n",
    "\n",
    "s2=Student(\"kalyan\",25,\"Cse\")\n",
    "print(s2.name,s2.age,s2.qual)"
   ]
  },
  {
   "cell_type": "code",
   "execution_count": 59,
   "id": "4306af28-cc39-4f58-b4d5-e76fa68ece2d",
   "metadata": {},
   "outputs": [
    {
     "name": "stdout",
     "output_type": "stream",
     "text": [
      "my name is pawan\n",
      "my age is 25\n",
      "my qual is Mech\n",
      "my name is kumar\n",
      "my age is 25\n",
      "my qual is CSE\n"
     ]
    }
   ],
   "source": [
    "class Student:\n",
    "    def __init__(self,x,y,z):\n",
    "        self.name=x\n",
    "        self.age=y\n",
    "        self.qual=z\n",
    "        \n",
    "    def talk(self):\n",
    "        print(\"my name is\",self.name)\n",
    "        print(\"my age is\",self.age)\n",
    "        print(\"my qual is\",self.qual)\n",
    "        \n",
    "s1=Student(\"pawan\",25,\"Mech\")\n",
    "s1.talk()\n",
    "\n",
    "s2=Student(\"kumar\",25,\"CSE\")\n",
    "s2.talk()"
   ]
  },
  {
   "cell_type": "code",
   "execution_count": 76,
   "id": "1a973bf0-8aed-4420-b58f-73868f722f86",
   "metadata": {},
   "outputs": [
    {
     "name": "stdout",
     "output_type": "stream",
     "text": [
      "{'name': 'swamy', 'email': 'pavan@gmil.com'}\n",
      "swamy\n",
      "{'name': 'swamy'}\n"
     ]
    }
   ],
   "source": [
    "class Employee:\n",
    "    def __init__(self):\n",
    "        self.name=\"swamy\"\n",
    "        self.age=25\n",
    "        del self.age\n",
    "    def speak(self):\n",
    "        print(self.name)     # within the class by using self\n",
    "    \n",
    "        \n",
    "e=Employee()\n",
    "e.email= 'pavan@gmil.com'\n",
    "print(e.__dict__)\n",
    "e.speak()\n",
    "del e.email\n",
    "print(e.__dict__)\n"
   ]
  },
  {
   "cell_type": "code",
   "execution_count": null,
   "id": "34425705-e63f-4cbf-8846-30797c7338b4",
   "metadata": {},
   "outputs": [],
   "source": []
  },
  {
   "cell_type": "code",
   "execution_count": 46,
   "id": "abfb3b0d-09cd-43cc-bb6d-98b19cada8c6",
   "metadata": {},
   "outputs": [
    {
     "name": "stdout",
     "output_type": "stream",
     "text": [
      "its a telugu film indurstry,pride of telugu movie RRR\n",
      "movie name jagadekaverudu athiloka sundhari\n",
      "acters chiru and sridevi\n",
      "its a hindi film indurstry pride of hindi movie dhangal\n",
      "movie name jagadekaverudu athiloka sundhari\n",
      "acters chiru and sridevi\n"
     ]
    }
   ],
   "source": [
    "class MovieInderstry: \n",
    "    pt='RRR'\n",
    "    ph='dhangal'\n",
    "    def __init__(self,h,hr,mn,):\n",
    "        self.hero= h\n",
    "        self.heroine= hr\n",
    "        self.mviname= mn\n",
    "    def tollywood(self):\n",
    "        print('its a telugu film indurstry,pride of telugu movie',MovieInderstry.pt)\n",
    "        print('movie name',self.mviname)\n",
    "        print('acters',self.hero,'and',self.heroine)\n",
    "    def bollywood(self):\n",
    "        print('its a hindi film indurstry pride of hindi movie',MovieInderstry.ph)\n",
    "        print('movie name',self.mviname)\n",
    "        print('acters',self.hero,'and',self.heroine)\n",
    "mi=MovieInderstry('chiru','sridevi','jagadekaverudu athiloka sundhari')\n",
    "mi.tollywood()\n",
    "\n",
    "mi.bollywood()"
   ]
  },
  {
   "cell_type": "code",
   "execution_count": 105,
   "id": "a9b825f8-ffd8-4ef7-a4a3-e0e201922ecf",
   "metadata": {},
   "outputs": [
    {
     "name": "stdout",
     "output_type": "stream",
     "text": [
      "addintion of a and b is 110\n",
      "accesing inside of clas 100\n",
      "{'a': 10, 'b': 100, 'c': 100}\n",
      "{'a': 10, 'b': 100, 'c': 100, 'd': 40}\n",
      "{'a': 10, 'b': 100}\n",
      "static variable {'__module__': '__main__', 'z': 45, 'y': 55, '__init__': <function clalicluater.__init__ at 0x000001C194D57600>, 'add': <function clalicluater.add at 0x000001C194D57D80>, 'clasmethod': <function clalicluater.clasmethod at 0x000001C194D57E20>, '__dict__': <attribute '__dict__' of 'clalicluater' objects>, '__weakref__': <attribute '__weakref__' of 'clalicluater' objects>, '__doc__': None}\n",
      "accesing outside of clas 40\n",
      "ist a class method\n",
      "modufied static var 300\n",
      "ist a class method\n",
      "modufied static var 300\n",
      "static variable {'__module__': '__main__', 'z': 300, 'y': 55, '__init__': <function clalicluater.__init__ at 0x000001C194D57600>, 'add': <function clalicluater.add at 0x000001C194D57D80>, 'clasmethod': <function clalicluater.clasmethod at 0x000001C194D57E20>, '__dict__': <attribute '__dict__' of 'clalicluater' objects>, '__weakref__': <attribute '__weakref__' of 'clalicluater' objects>, '__doc__': None, 't': 500}\n"
     ]
    }
   ],
   "source": [
    "class clalicluater:\n",
    "    z= 45\n",
    "    y = 55\n",
    "    def __init__(self):\n",
    "         self.a= 10\n",
    "         self.b= 100\n",
    "    def add(self):\n",
    "        print('addintion of a and b is',self.a+self.b)\n",
    "        self.c=100\n",
    "        print('accesing inside of clas',self.c)\n",
    "       \n",
    "    def clasmethod(cls):\n",
    "        print('ist a class method')\n",
    "        clalicluater.z = 300\n",
    "        print('modufied static var',clalicluater.z)\n",
    "\n",
    "cal = clalicluater()\n",
    "cal.add()\n",
    "print(cal.__dict__)\n",
    "cal.d=40\n",
    "print(cal.__dict__)\n",
    "cal1=clalicluater()\n",
    "print(cal1.__dict__)\n",
    "print(\"static variable\",clalicluater.__dict__)\n",
    "print('accesing outside of clas',cal.d)\n",
    "cal.clasmethod()\n",
    "        \n",
    "clalicluater.t= 500 \n",
    "cal.clasmethod()\n",
    "print(\"static variable\",clalicluater.__dict__)"
   ]
  },
  {
   "cell_type": "code",
   "execution_count": 144,
   "id": "98183ace-8246-4f62-904b-15c15f7a718e",
   "metadata": {},
   "outputs": [
    {
     "name": "stdout",
     "output_type": "stream",
     "text": [
      "addion is 70\n",
      "10\n",
      "300\n",
      "addion is 90\n",
      "300\n",
      "300\n",
      "{'c': 30, 'd': 40}\n",
      "{'c': 30, 'd': 60}\n"
     ]
    }
   ],
   "source": [
    "class test:\n",
    "    a= 10\n",
    "    b= 20\n",
    "    def __init__(self):\n",
    "        self.c= 30\n",
    "        self.d= 40\n",
    "    def add(self):\n",
    "        print('addion is',self.c+self.d)\n",
    "        print(test.a)\n",
    "        test.a=300\n",
    "        print(test.a)\n",
    "    \n",
    "    \n",
    "t1= test()\n",
    "t2= test()\n",
    "t2.d=60\n",
    "t1.add()\n",
    "t2.add()\n",
    "test.b=22\n",
    "print(t1.__dict__)\n",
    "print(t2.__dict__)\n",
    "\n"
   ]
  },
  {
   "cell_type": "code",
   "execution_count": 160,
   "id": "cb10a054-4f09-42ad-a743-4544ca9095fc",
   "metadata": {},
   "outputs": [
    {
     "name": "stdout",
     "output_type": "stream",
     "text": [
      "90\n",
      "{'__module__': '__main__', 'a': 10, 'b': 20, '__init__': <function pracice.__init__ at 0x000001C194DC5B20>, 'm': <function pracice.m at 0x000001C194DC5120>, 'm1': <function pracice.m1 at 0x000001C194DC53A0>, 'm3': <function pracice.m3 at 0x000001C194DC4FE0>, '__dict__': <attribute '__dict__' of 'pracice' objects>, '__weakref__': <attribute '__weakref__' of 'pracice' objects>, '__doc__': None}\n",
      "35\n",
      "{'__module__': '__main__', 'a': 15, 'b': 20, '__init__': <function pracice.__init__ at 0x000001C194DC5B20>, 'm': <function pracice.m at 0x000001C194DC5120>, 'm1': <function pracice.m1 at 0x000001C194DC53A0>, 'm3': <function pracice.m3 at 0x000001C194DC4FE0>, '__dict__': <attribute '__dict__' of 'pracice' objects>, '__weakref__': <attribute '__weakref__' of 'pracice' objects>, '__doc__': None}\n"
     ]
    }
   ],
   "source": [
    "class pracice:\n",
    "    a= 10\n",
    "    b=20\n",
    "    def __init__(self):\n",
    "        self.c=40\n",
    "        self.d= 50\n",
    "    def m(self):\n",
    "        print(self.c+self.d)\n",
    "    def m1(cls):\n",
    "        pracice.a=15\n",
    "        print(pracice.a+pracice.b)\n",
    "    def m3():\n",
    "        pracice.z=500\n",
    "        \n",
    "\n",
    "\n",
    "t1=pracice()\n",
    "t1.m()\n",
    "print(pracice.__dict__)\n",
    "t1.m1()\n",
    "print(pracice.__dict__)\n",
    "pracice.m3()\n",
    "\n",
    "    "
   ]
  },
  {
   "cell_type": "code",
   "execution_count": 161,
   "id": "2015003c-168f-47f5-95c0-30a448e936b6",
   "metadata": {},
   "outputs": [
    {
     "name": "stdout",
     "output_type": "stream",
     "text": [
      "777\n",
      "888\n",
      "999\n"
     ]
    }
   ],
   "source": [
    "class Test:\n",
    "    a=777\n",
    "    \n",
    "    @classmethod\n",
    "    def m1(cls):\n",
    "        cls.a=888\n",
    "        \n",
    "    @staticmethod\n",
    "    def m2():\n",
    "        Test.a=999\n",
    "        \n",
    "print(Test.a)\n",
    "Test.m1()\n",
    "print(Test.a)\n",
    "Test.m2()\n",
    "print(Test.a)"
   ]
  },
  {
   "cell_type": "code",
   "execution_count": 164,
   "id": "959120ca-0b79-4a7d-b111-d5b22611f027",
   "metadata": {},
   "outputs": [
    {
     "name": "stdout",
     "output_type": "stream",
     "text": [
      "10\n",
      "888\n"
     ]
    }
   ],
   "source": [
    "class Test:\n",
    "    a = 10\n",
    "    def m1(self):\n",
    "        self.a = 888\n",
    "        \n",
    "t1 = Test()\n",
    "t1.m1()\n",
    "\n",
    "print(Test.a)\n",
    "print(t1.a)"
   ]
  },
  {
   "cell_type": "code",
   "execution_count": 165,
   "id": "3f2bbcec-59f6-4b06-bafa-ba1b0630f4ec",
   "metadata": {},
   "outputs": [
    {
     "name": "stdout",
     "output_type": "stream",
     "text": [
      "t1: 10 20\n",
      "t2: 10 20\n",
      "t1: 888 999\n",
      "t2: 10 20\n"
     ]
    }
   ],
   "source": [
    "class Test:\n",
    "    x=10\n",
    "    def __init__(self):\n",
    "        self.y=20\n",
    "        \n",
    "t1=Test()\n",
    "t2=Test()\n",
    "\n",
    "print('t1:',t1.x,t1.y)\n",
    "print('t2:',t2.x,t2.y)\n",
    "# if you want to modify the static varibale we have to use classname \n",
    "# other wise if we use self variable it will create an instance variable\n",
    "\n",
    "t1.x=888\n",
    "t1.y=999 \n",
    "\n",
    "print('t1:',t1.x,t1.y)\n",
    "print('t2:',t2.x,t2.y)"
   ]
  },
  {
   "cell_type": "code",
   "execution_count": 166,
   "id": "f801c993-521e-4823-857b-9477b80f7179",
   "metadata": {},
   "outputs": [
    {
     "name": "stdout",
     "output_type": "stream",
     "text": [
      "888 999\n",
      "888 20\n"
     ]
    }
   ],
   "source": [
    "class Test:\n",
    "    a=10\n",
    "    def __init__(self):\n",
    "        self.b=20\n",
    "        \n",
    "t1=Test()\n",
    "t2=Test()\n",
    "\n",
    "Test.a=888\n",
    "t1.b=999\n",
    "print(t1.a,t1.b)\n",
    "print(t2.a,t2.b)"
   ]
  },
  {
   "cell_type": "code",
   "execution_count": 167,
   "id": "21a5655f-d34e-4ae7-9205-50cfc3bcaabd",
   "metadata": {},
   "outputs": [
    {
     "name": "stdout",
     "output_type": "stream",
     "text": [
      "888 999\n",
      "10 20\n"
     ]
    }
   ],
   "source": [
    "class Test:\n",
    "    a=10\n",
    "    def __init__(self):\n",
    "        self.b=20\n",
    "    def m1(self):\n",
    "        self.a=888\n",
    "        self.b=999\n",
    "t1=Test()\n",
    "t2=Test()\n",
    "t1.m1()\n",
    "print(t1.a,t1.b)\n",
    "print(t2.a,t2.b)"
   ]
  },
  {
   "cell_type": "code",
   "execution_count": 168,
   "id": "dd23bab4-084e-4a7c-8edf-90cbd640f795",
   "metadata": {},
   "outputs": [
    {
     "name": "stdout",
     "output_type": "stream",
     "text": [
      "888 20\n",
      "888 20\n",
      "888 999\n"
     ]
    }
   ],
   "source": [
    "class Test:\n",
    "    a=10\n",
    "    def __init__(self):\n",
    "        self.b=20\n",
    "    @classmethod\n",
    "    def m1(cls):\n",
    "        cls.a=888\n",
    "        cls.b=999\n",
    "t1=Test()\n",
    "t2=Test()\n",
    "t1.m1()\n",
    "print(t1.a,t1.b)\n",
    "print(t2.a,t2.b)\n",
    "print(Test.a,Test.b)"
   ]
  },
  {
   "cell_type": "code",
   "execution_count": 169,
   "id": "73cb915e-80f1-49a2-8214-31c6d7e95861",
   "metadata": {},
   "outputs": [
    {
     "name": "stdout",
     "output_type": "stream",
     "text": [
      "{'__module__': '__main__', 'm1': <classmethod(<function Test.m1 at 0x000001C194DC4540>)>, '__dict__': <attribute '__dict__' of 'Test' objects>, '__weakref__': <attribute '__weakref__' of 'Test' objects>, '__doc__': None}\n"
     ]
    }
   ],
   "source": [
    "class Test:\n",
    "    a=10\n",
    "    @classmethod\n",
    "    def m1(cls):\n",
    "        del cls.a\n",
    "Test.m1()\n",
    "print(Test.__dict__)"
   ]
  },
  {
   "cell_type": "code",
   "execution_count": 170,
   "id": "adfad0a8-b364-4b45-b3a1-322331fd6c9f",
   "metadata": {},
   "outputs": [],
   "source": [
    "class Test:\n",
    "    a=10\n",
    "    def __init__(self):\n",
    "        Test.b=20\n",
    "        del Test.a\n",
    "        \n",
    "    def m1(self):\n",
    "        Test.c=30\n",
    "        del Test.b\n",
    "        \n",
    "    @classmethod\n",
    "    def m2(cls):\n",
    "        cls.d=40\n",
    "        del Test.c\n",
    "    \n",
    "    @staticmethod\n",
    "    def m3():\n",
    "        Test.e=50\n",
    "        del Test.d"
   ]
  },
  {
   "cell_type": "code",
   "execution_count": 171,
   "id": "176ab7d1-0bbd-4e10-b6a0-aeef5fa6d98d",
   "metadata": {},
   "outputs": [
    {
     "name": "stdout",
     "output_type": "stream",
     "text": [
      "t1: 10 20\n",
      "t2: 10 20\n",
      "t1: 888 999\n",
      "t2: 888 20\n"
     ]
    }
   ],
   "source": [
    "class Test:\n",
    "    x=10\n",
    "    def __init__(self):\n",
    "        self.y=20\n",
    "\n",
    "t1=Test()\n",
    "t2=Test()\n",
    "\n",
    "print('t1:',t1.x,t1.y)\n",
    "print('t2:',t2.x,t2.y)\n",
    "\n",
    "Test.x=888\n",
    "t1.y=999\n",
    "\n",
    "print('t1:',t1.x,t1.y)\n",
    "print('t2:',t2.x,t2.y)"
   ]
  },
  {
   "cell_type": "code",
   "execution_count": 172,
   "id": "ad06a58f-2e8b-4a69-9a5a-f166d0bdda4d",
   "metadata": {},
   "outputs": [
    {
     "name": "stdout",
     "output_type": "stream",
     "text": [
      "Hello 0\n",
      "Hello 1\n",
      "Hello 2\n",
      "Hello 3\n",
      "Hello 4\n",
      "Hello 5\n",
      "Hello 6\n",
      "Hello 7\n",
      "Hello 8\n",
      "Hello 9\n"
     ]
    }
   ],
   "source": [
    "\n",
    "class Test:\n",
    "    def m1():\n",
    "        i=0\n",
    "        while i<10:\n",
    "            print(\"Hello\",i)\n",
    "            i=i+1\n",
    "            \n",
    "Test.m1()"
   ]
  },
  {
   "cell_type": "code",
   "execution_count": null,
   "id": "5ca0e6d3-627f-4d55-9500-a7a47aa67190",
   "metadata": {},
   "outputs": [],
   "source": []
  }
 ],
 "metadata": {
  "kernelspec": {
   "display_name": "Python 3 (ipykernel)",
   "language": "python",
   "name": "python3"
  },
  "language_info": {
   "codemirror_mode": {
    "name": "ipython",
    "version": 3
   },
   "file_extension": ".py",
   "mimetype": "text/x-python",
   "name": "python",
   "nbconvert_exporter": "python",
   "pygments_lexer": "ipython3",
   "version": "3.11.5"
  }
 },
 "nbformat": 4,
 "nbformat_minor": 5
}
