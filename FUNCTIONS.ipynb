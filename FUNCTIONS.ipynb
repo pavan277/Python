{
 "cells": [
  {
   "cell_type": "code",
   "execution_count": 5,
   "id": "e0d6c494-d001-4f01-9e45-98f8d7d35fad",
   "metadata": {},
   "outputs": [],
   "source": [
    "#FUNCTIONS\n",
    "#-->> code reuseabilty\n",
    "def add(c,d):\n",
    "    print('aditions of c and d')\n",
    "    a= c+d\n",
    "    return a\n",
    "    "
   ]
  },
  {
   "cell_type": "code",
   "execution_count": 6,
   "id": "767fc3a8-da6d-4408-ae60-b427f8c73c9a",
   "metadata": {},
   "outputs": [
    {
     "name": "stdout",
     "output_type": "stream",
     "text": [
      "aditions of c and d\n"
     ]
    },
    {
     "data": {
      "text/plain": [
       "5"
      ]
     },
     "execution_count": 6,
     "metadata": {},
     "output_type": "execute_result"
    }
   ],
   "source": [
    "add(2,3)"
   ]
  },
  {
   "cell_type": "code",
   "execution_count": 7,
   "id": "dbcf8dad-a23a-4d44-aee6-c629f11e8a3a",
   "metadata": {},
   "outputs": [
    {
     "name": "stdout",
     "output_type": "stream",
     "text": [
      "aditions of c and d\n"
     ]
    },
    {
     "data": {
      "text/plain": [
       "99"
      ]
     },
     "execution_count": 7,
     "metadata": {},
     "output_type": "execute_result"
    }
   ],
   "source": [
    "add(44,55)"
   ]
  },
  {
   "cell_type": "code",
   "execution_count": 12,
   "id": "a8d2a53d-837f-4500-b5f1-46bea54cd0b1",
   "metadata": {},
   "outputs": [],
   "source": [
    "def greetings(name):\n",
    "    print('HI')\n",
    "    print('welcome', name ,'to python functions')"
   ]
  },
  {
   "cell_type": "code",
   "execution_count": 16,
   "id": "e7ca74fe-ddd4-4a5f-a568-b554dfb1236b",
   "metadata": {},
   "outputs": [
    {
     "name": "stdout",
     "output_type": "stream",
     "text": [
      "HI\n",
      "welcome pavan to python functions\n"
     ]
    }
   ],
   "source": [
    "greetings('pavan')"
   ]
  },
  {
   "cell_type": "code",
   "execution_count": 23,
   "id": "dc1ac6b6-ef48-4b2b-ab74-472ae1145159",
   "metadata": {},
   "outputs": [],
   "source": [
    "def evenodd(a):\n",
    "    if a%2== 0 :\n",
    "         print(\"{} number is Even..\".format(a))\n",
    "    else :\n",
    "        print('enterd odd numbr')\n",
    "    "
   ]
  },
  {
   "cell_type": "code",
   "execution_count": 27,
   "id": "98a7d194-5ad9-4d9f-a940-d4cd2c19afeb",
   "metadata": {},
   "outputs": [
    {
     "name": "stdout",
     "output_type": "stream",
     "text": [
      "56 number is Even..\n"
     ]
    }
   ],
   "source": [
    "evenodd(56)"
   ]
  },
  {
   "cell_type": "code",
   "execution_count": 28,
   "id": "1a17edcb-1103-4cb9-a608-69e7ebb75cda",
   "metadata": {},
   "outputs": [],
   "source": [
    "def fact(num):\n",
    "    result = 1\n",
    "    while num >= 1 :\n",
    "        result = result*num\n",
    "        num = num-1\n",
    "    return result    \n",
    "        \n",
    "    "
   ]
  },
  {
   "cell_type": "code",
   "execution_count": 35,
   "id": "1fb432c0-72ee-4f5c-aec2-e532c26330d3",
   "metadata": {},
   "outputs": [],
   "source": [
    "def maths(a,b):\n",
    "    add = a+b\n",
    "    sub = a-b\n",
    "    mul = a*b\n",
    "    return add,sub,mul\n",
    "    "
   ]
  },
  {
   "cell_type": "code",
   "execution_count": 40,
   "id": "25157333-d8d7-47b4-b49a-480f080b26ea",
   "metadata": {},
   "outputs": [
    {
     "name": "stdout",
     "output_type": "stream",
     "text": [
      "<class 'tuple'>\n",
      "(9, 1, 20)\n"
     ]
    },
    {
     "data": {
      "text/plain": [
       "[9, 1, 20]"
      ]
     },
     "execution_count": 40,
     "metadata": {},
     "output_type": "execute_result"
    }
   ],
   "source": [
    "re = maths(5,4)\n",
    "print(type(re))\n",
    "print(re)\n",
    "list(re)"
   ]
  },
  {
   "cell_type": "code",
   "execution_count": 9,
   "id": "834d2711-8195-4351-9f45-89fd6a9b2cd1",
   "metadata": {},
   "outputs": [],
   "source": [
    "#TYPE Arugmets\n",
    "#position\n",
    "#keywords\n",
    "#default\n",
    "#variable length argumnets\n",
    "def sum(a,b=28):\n",
    "    s = a+b\n",
    "    m = a-b\n",
    "    return s, m\n",
    "\n"
   ]
  },
  {
   "cell_type": "code",
   "execution_count": 17,
   "id": "1dbfac02-a202-45f2-ade2-76e5babc4dde",
   "metadata": {},
   "outputs": [
    {
     "data": {
      "text/plain": [
       "(79, -11)"
      ]
     },
     "execution_count": 17,
     "metadata": {},
     "output_type": "execute_result"
    }
   ],
   "source": [
    "sum(33)\n",
    "sum(34\n",
    "\n"
   ]
  },
  {
   "cell_type": "code",
   "execution_count": 32,
   "id": "adb4309f-2cc8-450e-b0fb-a1f14f1e81f8",
   "metadata": {},
   "outputs": [
    {
     "name": "stdout",
     "output_type": "stream",
     "text": [
      "66\n",
      "70\n"
     ]
    }
   ],
   "source": [
    "def vrlen(*e):\n",
    "    t = 0\n",
    "    for i in e :\n",
    "        t = t+i\n",
    "        print(t)\n",
    "vrlen(66,4)\n"
   ]
  },
  {
   "cell_type": "code",
   "execution_count": 1,
   "id": "1ac550d0-5f7d-4bd1-a47b-ed8d24af57dd",
   "metadata": {},
   "outputs": [
    {
     "name": "stdout",
     "output_type": "stream",
     "text": [
      "44\n",
      "55\n",
      "66\n"
     ]
    }
   ],
   "source": [
    "def vrwitharg(a,*n):\n",
    "    print(a)\n",
    "    for i in n:\n",
    "        print(i)\n",
    "vrwitharg(44,55,66)        \n",
    "  "
   ]
  },
  {
   "cell_type": "code",
   "execution_count": 4,
   "id": "fe020085-a362-442c-bd15-fc87e961e152",
   "metadata": {},
   "outputs": [
    {
     "name": "stdout",
     "output_type": "stream",
     "text": [
      "1\n",
      "8\n",
      "7\n"
     ]
    }
   ],
   "source": [
    "vrwitharg(1,8,7)"
   ]
  },
  {
   "cell_type": "code",
   "execution_count": 3,
   "id": "8985a81f-d3d0-4736-b43c-45fd9ee0fccc",
   "metadata": {},
   "outputs": [],
   "source": [
    "def varwitargs(*d,name):\n",
    "    result= 0\n",
    "    for i in d:\n",
    "        result = result+i\n",
    "        print('varlen args with keyword args,')\n",
    "        print('the sum',result,'by',name)\n"
   ]
  },
  {
   "cell_type": "code",
   "execution_count": 68,
   "id": "d682df50-ef66-47f7-afdb-87e4184d0aa7",
   "metadata": {},
   "outputs": [
    {
     "name": "stdout",
     "output_type": "stream",
     "text": [
      "varlen args with keyword args,\n",
      "the sum 4 by pavan\n",
      "varlen args with keyword args,\n",
      "the sum 8 by pavan\n",
      "varlen args with keyword args,\n",
      "the sum 12 by pavan\n"
     ]
    }
   ],
   "source": [
    "varwitargs(4,4,4,name='pavan')"
   ]
  },
  {
   "cell_type": "code",
   "execution_count": 75,
   "id": "680e7533-df0d-4f1a-bd30-d6c8411bbcaa",
   "metadata": {},
   "outputs": [],
   "source": [
    "###no.of keyeord argmensts to the input it will stord in the form of dic\n",
    "\n",
    "def displays(**kwds):\n",
    "    for s,j in kwds.items():\n",
    "        print(s,'==',j)\n"
   ]
  },
  {
   "cell_type": "code",
   "execution_count": 80,
   "id": "ebf73813-2dbf-462b-b5ea-fd060682ed83",
   "metadata": {},
   "outputs": [
    {
     "name": "stdout",
     "output_type": "stream",
     "text": [
      "name == pavan\n",
      "city == bvrm\n",
      "state == andra\n"
     ]
    },
    {
     "data": {
      "text/plain": [
       "function"
      ]
     },
     "execution_count": 80,
     "metadata": {},
     "output_type": "execute_result"
    }
   ],
   "source": [
    "displays(name=\"pavan\",city=\"bvrm\",state='andra')\n",
    "type(displays)"
   ]
  },
  {
   "cell_type": "code",
   "execution_count": 89,
   "id": "075f1f1a-045d-4a37-9205-a34442aa1f89",
   "metadata": {},
   "outputs": [
    {
     "name": "stdout",
     "output_type": "stream",
     "text": [
      "1 2 3 4\n",
      "10 20 30 40\n",
      "50 60 70 4\n",
      "1 3 3 4\n"
     ]
    }
   ],
   "source": [
    "def func(arg1,arg2,arg3=3,arg4=4):\n",
    "    print(arg1,arg2,arg3,arg4)\n",
    "    \n",
    "func(1,2)\n",
    "func(10,20,30,40)\n",
    "func(50,60,arg3=70)\n",
    "func(arg4=4,arg1=1,asrg2=3)\n",
    "#func()                         #TypeError: func() missing 2 required positional arguments: 'arg1' and 'arg2'\n",
    "#func(arg3=300,arg4=400,30,40)  #SyntaxError: positional argument follows keyword argument\n",
    "#func(4,5,arg2=6)               #TypeError: func() got multiple values for argument 'arg2'\n",
    "#func(4,5,arg3=500,arg5=600)    #TypeError: func() got an unexpected keyword argument 'arg5'"
   ]
  },
  {
   "cell_type": "code",
   "execution_count": 88,
   "id": "b28cbe61-c64a-4186-9539-0712f9ee69bf",
   "metadata": {},
   "outputs": [
    {
     "name": "stdout",
     "output_type": "stream",
     "text": [
      "1 2 3 4\n",
      "1 2 3 66\n"
     ]
    }
   ],
   "source": [
    "func(1,2)\n",
    "func(1,2,arg4=66,arg3=3)\n",
    "\n"
   ]
  },
  {
   "cell_type": "code",
   "execution_count": 12,
   "id": "32447cef-9726-4f09-981c-c12b61873596",
   "metadata": {},
   "outputs": [
    {
     "name": "stdout",
     "output_type": "stream",
     "text": [
      "100\n",
      "10 49\n"
     ]
    }
   ],
   "source": [
    "#type variable\n",
    "\n",
    "a=100  #global variable\n",
    "\n",
    "def f1():\n",
    "    print(a)\n",
    "\n",
    "def f2():\n",
    "    a = 10 \n",
    "    b =49\n",
    "    print(a,b)\n",
    "\n",
    "f1()\n",
    "f2()"
   ]
  },
  {
   "cell_type": "code",
   "execution_count": 18,
   "id": "b18806db-cee0-4656-bd36-99d69f764bb5",
   "metadata": {},
   "outputs": [
    {
     "name": "stdout",
     "output_type": "stream",
     "text": [
      "777\n",
      "777\n"
     ]
    }
   ],
   "source": [
    "g=10\n",
    "\n",
    "def f1():\n",
    "    global g\n",
    "    g=777\n",
    "    print(g)\n",
    "def f2():\n",
    "    print(g)  \n",
    "f1()\n",
    "f2()\n",
    "   "
   ]
  },
  {
   "cell_type": "code",
   "execution_count": 26,
   "id": "5fddab29-a3f2-4284-b235-1f552ea5a8f6",
   "metadata": {},
   "outputs": [
    {
     "name": "stdout",
     "output_type": "stream",
     "text": [
      "local variable: 777\n",
      "global variable: 150\n"
     ]
    }
   ],
   "source": [
    "a=100 \n",
    "b = 150 #global\n",
    "\n",
    "def f1():\n",
    "    a=777 #local\n",
    "    print(\"local variable:\",a)\n",
    "    print(\"global variable:\",globals()['b'])\n",
    "    \n",
    "f1()"
   ]
  },
  {
   "cell_type": "code",
   "execution_count": 71,
   "id": "60ecd9df-6ea3-4dff-b3ae-0edb7552e221",
   "metadata": {},
   "outputs": [],
   "source": []
  },
  {
   "cell_type": "code",
   "execution_count": 83,
   "id": "6b955bcc-8123-44b9-a3b6-119d41f28272",
   "metadata": {},
   "outputs": [],
   "source": [
    "bank = \"SBI\"\n",
    "ifsc = \"SBIN00005366\"\n",
    "place = \"Bhimavaram\"\n",
    "pincode = 534202\n",
    "\n",
    "def customer1(credit):\n",
    "    bal = 10000\n",
    "    global total\n",
    "    total = bal+credit\n",
    "    \n",
    "    \n",
    "    global branch\n",
    "    branch = \"ADB\"\n",
    "    \n",
    "    pincode = 534201\n",
    "    \n",
    "    print(\"total amount in account : \",total)\n",
    "    print(place)\n",
    "    print(ifsc)\n",
    "    print(\"customer pincode : \",pincode)\n",
    "    print(\"Bank pincode : \",globals()['pincode'])\n",
    "    \n",
    "def customer2():\n",
    "    print(\"total : \",globals()['total'])\n",
    "    print(branch)\n",
    "\n",
    "\n",
    "    "
   ]
  },
  {
   "cell_type": "code",
   "execution_count": 86,
   "id": "5471cb4d-f66e-4322-b25e-b98e115efe62",
   "metadata": {},
   "outputs": [
    {
     "name": "stdout",
     "output_type": "stream",
     "text": [
      "total :  10500\n",
      "ADB\n"
     ]
    }
   ],
   "source": [
    "\n",
    "customer2()"
   ]
  },
  {
   "cell_type": "code",
   "execution_count": null,
   "id": "da5287c0-2c5d-4306-997a-ca501ea53eae",
   "metadata": {},
   "outputs": [],
   "source": []
  },
  {
   "cell_type": "code",
   "execution_count": 107,
   "id": "bea3610e-6631-4255-bece-2fc4cdbf9640",
   "metadata": {},
   "outputs": [],
   "source": [
    "#Recursive functions\n",
    "def wor(n):\n",
    "    result=1\n",
    "    while num>=1:\n",
    "        result = result*n\n",
    "        n=n-1\n",
    "    return result\n",
    "def wrf(n):\n",
    "    if n == 0:\n",
    "        re = 1\n",
    "    else :\n",
    "        re = n*wrf(n-1)\n",
    "    return re\n",
    "\n",
    "\n",
    "    \n",
    "    "
   ]
  },
  {
   "cell_type": "code",
   "execution_count": 117,
   "id": "f4b91bb3-01ce-4a58-85ce-6307dea8e90d",
   "metadata": {},
   "outputs": [
    {
     "data": {
      "text/plain": [
       "120"
      ]
     },
     "execution_count": 117,
     "metadata": {},
     "output_type": "execute_result"
    }
   ],
   "source": [
    "wrf(5)"
   ]
  },
  {
   "cell_type": "code",
   "execution_count": 132,
   "id": "e5e1356a-16e1-4d13-ba1e-032c375d616e",
   "metadata": {},
   "outputs": [
    {
     "name": "stdout",
     "output_type": "stream",
     "text": [
      "20\n"
     ]
    },
    {
     "data": {
      "text/plain": [
       "50"
      ]
     },
     "execution_count": 132,
     "metadata": {},
     "output_type": "execute_result"
    }
   ],
   "source": [
    "#anonymous functions\n",
    "s = lambda n: n*n\n",
    "s(5)\n",
    "\n",
    "sn = lambda a,b: a-b\n",
    "sn(45,5)\n",
    "\n",
    "a,b=10,20\n",
    "print(a) if a>b else print(b)\n",
    "\n",
    "lf=lambda a,b:a if a>b else b\n",
    "lf(50,20)\n",
    "\n"
   ]
  },
  {
   "cell_type": "code",
   "execution_count": null,
   "id": "8e37ac0c-b72f-4e34-aa8d-e6c9cd0d1d99",
   "metadata": {},
   "outputs": [],
   "source": []
  }
 ],
 "metadata": {
  "kernelspec": {
   "display_name": "Python 3 (ipykernel)",
   "language": "python",
   "name": "python3"
  },
  "language_info": {
   "codemirror_mode": {
    "name": "ipython",
    "version": 3
   },
   "file_extension": ".py",
   "mimetype": "text/x-python",
   "name": "python",
   "nbconvert_exporter": "python",
   "pygments_lexer": "ipython3",
   "version": "3.11.5"
  }
 },
 "nbformat": 4,
 "nbformat_minor": 5
}
