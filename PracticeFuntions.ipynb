{
 "cells": [
  {
   "cell_type": "code",
   "execution_count": 2,
   "id": "d67ad04d-e3ae-4579-98c3-fd7d18803bd3",
   "metadata": {},
   "outputs": [],
   "source": [
    "def add(a, b,c=2):\n",
    "    x = a*b*c\n",
    "    y= a-b\n",
    "    return x, y\n"
   ]
  },
  {
   "cell_type": "code",
   "execution_count": 6,
   "id": "e633d474-9670-4ea6-8564-d91370b7ec03",
   "metadata": {},
   "outputs": [
    {
     "data": {
      "text/plain": [
       "[12, 1]"
      ]
     },
     "execution_count": 6,
     "metadata": {},
     "output_type": "execute_result"
    }
   ],
   "source": [
    "list(add(3,2))"
   ]
  },
  {
   "cell_type": "code",
   "execution_count": null,
   "id": "db7a834e-7b7c-401d-b263-9e0022622f98",
   "metadata": {},
   "outputs": [],
   "source": []
  }
 ],
 "metadata": {
  "kernelspec": {
   "display_name": "Python 3 (ipykernel)",
   "language": "python",
   "name": "python3"
  },
  "language_info": {
   "codemirror_mode": {
    "name": "ipython",
    "version": 3
   },
   "file_extension": ".py",
   "mimetype": "text/x-python",
   "name": "python",
   "nbconvert_exporter": "python",
   "pygments_lexer": "ipython3",
   "version": "3.11.5"
  }
 },
 "nbformat": 4,
 "nbformat_minor": 5
}
