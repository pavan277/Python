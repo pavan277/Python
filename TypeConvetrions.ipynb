{
 "cells": [
  {
   "cell_type": "code",
   "execution_count": 26,
   "id": "62598390-d63d-4fc4-b906-47cc9674a203",
   "metadata": {},
   "outputs": [
    {
     "name": "stdout",
     "output_type": "stream",
     "text": [
      "100\n",
      "100.0\n",
      "(100+0j)\n",
      "True\n",
      "100\n"
     ]
    }
   ],
   "source": [
    " i = 100\n",
    "print(i)\n",
    "print (float(i))\n",
    "print(complex(i))\n",
    "print(bool(i))\n",
    "print(str(i))"
   ]
  },
  {
   "cell_type": "code",
   "execution_count": 49,
   "id": "266d0ee6-321d-49b3-a82f-104ab7cda66f",
   "metadata": {},
   "outputs": [
    {
     "name": "stdout",
     "output_type": "stream",
     "text": [
      "data type <class 'float'>\n",
      "float to int 88\n",
      "float to str 88.6\n",
      "float to complex (88.6+0j)\n",
      "float to bool True\n"
     ]
    }
   ],
   "source": [
    "n =88.6\n",
    "print(\"data type\",type(n))\n",
    "print(\"float to int\",int(n))\n",
    "print(\"float to str\",str(n))\n",
    "print(\"float to complex\",complex(n))\n",
    "print(\"float to bool\",bool(n))\n",
    "\n",
    "\n",
    "\n",
    "\n"
   ]
  },
  {
   "cell_type": "code",
   "execution_count": 59,
   "id": "14f6d6de-4ab6-48df-ae0c-26f8f1735de1",
   "metadata": {},
   "outputs": [
    {
     "name": "stdout",
     "output_type": "stream",
     "text": [
      "data type <class 'complex'>\n",
      "complex to str (1+4j)\n",
      "complex to bool True\n"
     ]
    }
   ],
   "source": [
    "c = 1+4j\n",
    "print(\"data type\",type(c))\n",
    "print(\"complex to str\",str(c))\n",
    "print(\"complex to bool\",bool(c))\n",
    "\n"
   ]
  },
  {
   "cell_type": "code",
   "execution_count": 65,
   "id": "9f35b417-3032-491d-a88c-d56d6f9001f1",
   "metadata": {},
   "outputs": [
    {
     "name": "stdout",
     "output_type": "stream",
     "text": [
      "data type <class 'bool'>\n",
      "bool to int 1\n",
      "bool to float 1.0\n",
      "bool to string True\n",
      "bool to comp (1+0j)\n"
     ]
    }
   ],
   "source": [
    "b = True\n",
    "print(\"data type\",type(b))\n",
    "print(\"bool to int\",int(b))\n",
    "print(\"bool to float\",float(b))\n",
    "print(\"bool to string\",str(b))\n",
    "print(\"bool to comp\",complex(b))"
   ]
  },
  {
   "cell_type": "code",
   "execution_count": 85,
   "id": "8ef17159-35dd-4f07-a790-a708349e086d",
   "metadata": {},
   "outputs": [
    {
     "name": "stdout",
     "output_type": "stream",
     "text": [
      " data type <class 'str'>\n",
      "string to int 9\n",
      "string to float 9.99\n",
      "string to bool True\n"
     ]
    }
   ],
   "source": [
    "s = \"pavan\"\n",
    "s1 = \"9\"\n",
    "s2 = \"9.99\"\n",
    "print(\" data type\",type(s))\n",
    "#print(\"string to int\",int(s)) value Error string should contain digits \n",
    "print(\"string to int\",int(s1))\n",
    "#print(\"string to float\",float(s)) value error contain  decimals\n",
    "print(\"string to float\",float(s2))\n",
    "#print(\"string to complex\",complex(s))\n",
    "print(\"string to bool\",bool(s))\n"
   ]
  },
  {
   "cell_type": "code",
   "execution_count": null,
   "id": "f63bcc4e-c2ad-4039-83d1-a7b13fd69f50",
   "metadata": {},
   "outputs": [],
   "source": []
  }
 ],
 "metadata": {
  "kernelspec": {
   "display_name": "Python 3 (ipykernel)",
   "language": "python",
   "name": "python3"
  },
  "language_info": {
   "codemirror_mode": {
    "name": "ipython",
    "version": 3
   },
   "file_extension": ".py",
   "mimetype": "text/x-python",
   "name": "python",
   "nbconvert_exporter": "python",
   "pygments_lexer": "ipython3",
   "version": "3.11.5"
  }
 },
 "nbformat": 4,
 "nbformat_minor": 5
}
